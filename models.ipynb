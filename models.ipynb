{
 "cells": [
  {
   "cell_type": "code",
   "execution_count": 11,
   "metadata": {},
   "outputs": [],
   "source": [
    "import os\n",
    "import time\n",
    "\n",
    "import timm\n",
    "import torch\n",
    "import albumentations as A\n",
    "import pandas as pd\n",
    "import numpy as np\n",
    "import torch.nn as nn\n",
    "\n",
    "from albumentations.pytorch import ToTensorV2\n",
    "from torch.optim import Adam\n",
    "from torchvision import transforms\n",
    "from torch.utils.data import Dataset, DataLoader\n",
    "from torchvision.datasets import ImageFolder\n",
    "from torch.optim.lr_scheduler import CosineAnnealingLR\n",
    "\n",
    "from PIL import Image\n",
    "from tqdm import tqdm\n",
    "from sklearn.metrics import accuracy_score, f1_score\n",
    "\n",
    "import wandb"
   ]
  },
  {
   "cell_type": "code",
   "execution_count": 12,
   "metadata": {},
   "outputs": [],
   "source": [
    "class ImageDataset(Dataset):\n",
    "    def __init__(self, csv, path, transform=None):\n",
    "        self.df = pd.read_csv(csv).values\n",
    "        self.path = path\n",
    "        self.transform = transform\n",
    "\n",
    "    def __len__(self):\n",
    "        return len(self.df)\n",
    "    \n",
    "    def __getitem__(self, idx):\n",
    "        name, target = self.df[idx]\n",
    "        img = np.array(Image.open(os.path.join(self.path, name)))\n",
    "        if self.transform:\n",
    "            img = self.transform(image = img)['image']\n",
    "    \n",
    "        return img, target\n",
    "\n",
    "    def get_labels(self):\n",
    "        return self.df[:, 1] "
   ]
  },
  {
   "cell_type": "code",
   "execution_count": 24,
   "metadata": {},
   "outputs": [],
   "source": [
    "# one epoch 학습\n",
    "def train_one_epoch(loader, model, optimizer, loss_fn, device, epoch):\n",
    "    model.train()\n",
    "    train_loss = 0\n",
    "    preds_list =[]\n",
    "    targets_list = []\n",
    "\n",
    "    pbar = tqdm(loader)\n",
    "    for step, (image, targets) in enumerate(pbar):\n",
    "        image = image.to(device)\n",
    "        targets = targets.to(device)\n",
    "\n",
    "        model.zero_grad(set_to_none = True)\n",
    "\n",
    "        preds = model(image)\n",
    "        loss = loss_fn(preds, targets)\n",
    "        loss.backward()\n",
    "        optimizer.step()\n",
    "\n",
    "        train_loss += loss.item()\n",
    "        \n",
    "        preds_list.extend(preds.argmax(dim=1).detach().cpu().numpy())\n",
    "        targets_list.extend(targets.detach().cpu().numpy())\n",
    "\n",
    "        pbar.set_description(f\"Loss: {loss.item():.4f}\")\n",
    "\n",
    "        wandb.log({\n",
    "            \"train_step\" : epoch * len(loader) + step,\n",
    "            \"train_loss_step\" : loss.item()\n",
    "        })\n",
    "\n",
    "    train_loss /= len(loader)\n",
    "    train_acc = accuracy_score(targets_list, preds_list)\n",
    "    train_f1 = f1_score(targets_list, preds_list, average = 'macro')\n",
    "\n",
    "    ret = {\n",
    "        \"model\" : model,\n",
    "        \"train_epoch\" : epoch,\n",
    "        \"train_loss\" : train_loss,\n",
    "        \"tarin_acc\" : train_acc,\n",
    "        \"train_f1\" : train_f1\n",
    "    }\n",
    "\n",
    "\n",
    "    wandb.log({\n",
    "        \"train_epoch\" : epoch,\n",
    "        \"train_loss_epoch\" : train_loss,\n",
    "        \"train_acc\" : train_acc,\n",
    "        \"train_f1\" : train_f1\n",
    "    })\n",
    "\n",
    "    return ret"
   ]
  },
  {
   "cell_type": "code",
   "execution_count": 25,
   "metadata": {},
   "outputs": [],
   "source": [
    "def valid_one_epoch(loader, model, loss_fn, device, epoch):\n",
    "    model.eval()\n",
    "    valid_loss = 0\n",
    "\n",
    "    preds_list =[]\n",
    "    targets_list = []\n",
    "\n",
    "    with torch.no_grad():\n",
    "        pbar = tqdm(loader)\n",
    "        for step, (image, targets) in enumerate(pbar):\n",
    "            image = image.to(device)\n",
    "            targets = targets.to(device)\n",
    "\n",
    "            preds = model(image)\n",
    "            loss = loss_fn(preds, targets)\n",
    "       \n",
    "            valid_loss += loss.item()\n",
    "        \n",
    "            preds_list.extend(preds.argmax(dim=1).detach().cpu().numpy())\n",
    "            targets_list.extend(targets.detach().cpu().numpy())\n",
    "\n",
    "            pbar.set_description(f\"Loss: {loss.item():.4f}\")\n",
    "\n",
    "            wandb.log({\n",
    "                \"valid_step\" : epoch * len(loader) + step,\n",
    "                \"valid_loss_step\" : loss.item()\n",
    "            })\n",
    "\n",
    "    valid_loss /= len(loader)\n",
    "    valid_acc = accuracy_score(targets_list, preds_list)\n",
    "    valid_f1 = f1_score(targets_list, preds_list, average = 'macro')\n",
    "\n",
    "    ret = {\n",
    "        \"model\" : model,\n",
    "        \"epoch\" : epoch,\n",
    "        \"valid_loss\" : valid_loss,\n",
    "        \"valid_acc\" : valid_acc,\n",
    "        \"valid_f1\" : valid_f1\n",
    "    }\n",
    "\n",
    "    wandb.log({\n",
    "        \"valid_epoch\" : epoch,\n",
    "        \"val_loss_epoch\" : valid_loss,\n",
    "        \"val_acc\" : valid_acc,\n",
    "        \"val_f1\" : valid_f1\n",
    "    })\n",
    "\n",
    "    return ret"
   ]
  },
  {
   "cell_type": "markdown",
   "metadata": {},
   "source": [
    "# Hyper parameters"
   ]
  },
  {
   "cell_type": "code",
   "execution_count": 15,
   "metadata": {},
   "outputs": [],
   "source": [
    "# device\n",
    "device = torch.device('cuda' if torch.cuda.is_available() else 'cpu')\n",
    "\n",
    "# data config\n",
    "data_path = 'data/'\n",
    "\n",
    "# model config\n",
    "model_name = 'resnet50'\n",
    "\n",
    "# training config\n",
    "img_size = 224\n",
    "LR = 1e-3\n",
    "EPOCHS = 3\n",
    "BATCH_SIZE = 32\n",
    "num_workers = 0\n"
   ]
  },
  {
   "cell_type": "markdown",
   "metadata": {},
   "source": [
    "# Load Data"
   ]
  },
  {
   "cell_type": "code",
   "execution_count": 16,
   "metadata": {},
   "outputs": [],
   "source": [
    "# train image 변환\n",
    "trn_transform = A.Compose([\n",
    "    A.Resize(height = img_size, width = img_size),\n",
    "    A.Normalize(mean = [0.485, 0.486, 0.406], std = [0.229, 0.224, 0.225]),\n",
    "    ToTensorV2(),\n",
    "])\n",
    "\n",
    "# test image 변환\n",
    "tst_transform = A.Compose([\n",
    "    A.Resize(height = img_size, width = img_size),\n",
    "    A.Normalize(mean=[0.485, 0.456, 0.406], std = [0.229, 0.224, 0.225]),\n",
    "    ToTensorV2()\n",
    "])"
   ]
  },
  {
   "cell_type": "code",
   "execution_count": 17,
   "metadata": {},
   "outputs": [
    {
     "name": "stdout",
     "output_type": "stream",
     "text": [
      "1570 3140\n"
     ]
    }
   ],
   "source": [
    "trn_dataset = ImageDataset(\n",
    "    \"/upstage-cv-classification-cv2/data/train.csv\",\n",
    "    \"/upstage-cv-classification-cv2/data/train\",\n",
    "    transform = trn_transform\n",
    ")\n",
    "\n",
    "tst_dataset = ImageDataset(\n",
    "    \"/upstage-cv-classification-cv2/data/sample_submission.csv\",\n",
    "    \"/upstage-cv-classification-cv2/data/test\",\n",
    "    transform = tst_transform\n",
    ")\n",
    "\n",
    "print(len(trn_dataset), len(tst_dataset))"
   ]
  },
  {
   "cell_type": "code",
   "execution_count": 18,
   "metadata": {},
   "outputs": [
    {
     "name": "stdout",
     "output_type": "stream",
     "text": [
      "Original labels type: <class 'int'>, dtype: object\n",
      "Original labels type: <class 'numpy.int64'>, dtype: int64\n"
     ]
    }
   ],
   "source": [
    "labels = trn_dataset.get_labels()\n",
    "print(f\"Original labels type: {type(labels[0])}, dtype: {labels.dtype}\")\n",
    "labels = labels.astype(int)\n",
    "print(f\"Original labels type: {type(labels[0])}, dtype: {labels.dtype}\")\n"
   ]
  },
  {
   "cell_type": "markdown",
   "metadata": {},
   "source": [
    "# Train Model"
   ]
  },
  {
   "cell_type": "code",
   "execution_count": 28,
   "metadata": {},
   "outputs": [
    {
     "name": "stderr",
     "output_type": "stream",
     "text": [
      "INFO:timm.models._builder:Loading pretrained weights from Hugging Face hub (timm/resnet50.a1_in1k)\n",
      "INFO:timm.models._hub:[timm/resnet50.a1_in1k] Safe alternative available for 'pytorch_model.bin' (as 'model.safetensors'). Loading weights using safetensors.\n",
      "INFO:timm.models._builder:Missing keys (fc.weight, fc.bias) discovered while loading pretrained weights. This is expected if model is being adapted.\n",
      "INFO:timm.models._builder:Loading pretrained weights from Hugging Face hub (timm/resnext50_32x4d.a1h_in1k)\n",
      "INFO:timm.models._hub:[timm/resnext50_32x4d.a1h_in1k] Safe alternative available for 'pytorch_model.bin' (as 'model.safetensors'). Loading weights using safetensors.\n",
      "INFO:timm.models._builder:Missing keys (fc.weight, fc.bias) discovered while loading pretrained weights. This is expected if model is being adapted.\n",
      "INFO:timm.models._builder:Loading pretrained weights from Hugging Face hub (timm/efficientnet_b0.ra_in1k)\n",
      "INFO:timm.models._hub:[timm/efficientnet_b0.ra_in1k] Safe alternative available for 'pytorch_model.bin' (as 'model.safetensors'). Loading weights using safetensors.\n",
      "INFO:timm.models._builder:Missing keys (classifier.weight, classifier.bias) discovered while loading pretrained weights. This is expected if model is being adapted.\n",
      "INFO:timm.models._builder:Loading pretrained weights from Hugging Face hub (timm/efficientnet_b4.ra2_in1k)\n",
      "INFO:timm.models._hub:[timm/efficientnet_b4.ra2_in1k] Safe alternative available for 'pytorch_model.bin' (as 'model.safetensors'). Loading weights using safetensors.\n",
      "INFO:timm.models._builder:Missing keys (classifier.weight, classifier.bias) discovered while loading pretrained weights. This is expected if model is being adapted.\n",
      "INFO:timm.models._builder:Loading pretrained weights from Hugging Face hub (timm/caformer_s18.sail_in1k)\n",
      "INFO:timm.models._hub:[timm/caformer_s18.sail_in1k] Safe alternative available for 'pytorch_model.bin' (as 'model.safetensors'). Loading weights using safetensors.\n",
      "INFO:timm.models._builder:Missing keys (head.fc.fc2.weight, head.fc.fc2.bias) discovered while loading pretrained weights. This is expected if model is being adapted.\n",
      "INFO:timm.models._builder:Loading pretrained weights from Hugging Face hub (('laion/CLIP-ViT-L-14-laion2B-s32B-b82K', 'open_clip_pytorch_model.bin'))\n",
      "/opt/conda/envs/myvenv/lib/python3.10/site-packages/timm/models/_hub.py:190: FutureWarning: You are using `torch.load` with `weights_only=False` (the current default value), which uses the default pickle module implicitly. It is possible to construct malicious pickle data which will execute arbitrary code during unpickling (See https://github.com/pytorch/pytorch/blob/main/SECURITY.md#untrusted-models for more details). In a future release, the default value for `weights_only` will be flipped to `True`. This limits the functions that could be executed during unpickling. Arbitrary objects will no longer be allowed to be loaded via this mode unless they are explicitly allowlisted by the user via `torch.serialization.add_safe_globals`. We recommend you start setting `weights_only=True` for any use case where you don't have full control of the loaded file. Please open an issue on GitHub for any issues related to this experimental feature.\n",
      "  return torch.load(cached_file, map_location='cpu')\n",
      "INFO:timm.models._builder:Missing keys (head.weight, head.bias) discovered while loading pretrained weights. This is expected if model is being adapted.\n"
     ]
    }
   ],
   "source": [
    "models = {\n",
    "    # ResNet50\n",
    "    'resnet50' : timm.create_model('resnet50',\n",
    "                                pretrained=True,\n",
    "                                num_classes = 17).to(device),\n",
    "    # ResNeXt50\n",
    "    'resnext50' : timm.create_model('resnext50_32x4d', \n",
    "                                pretrained=True,\n",
    "                                num_classes = 17).to(device),\n",
    "    # EfficientNet-B0\n",
    "    'efficientnet_b0' : timm.create_model('efficientnet_b0',\n",
    "                                    pretrained=True,\n",
    "                                    num_classes = 17).to(device),\n",
    "    # EfficientNet-B4\n",
    "    'efficientnet_b4' : timm.create_model('efficientnet_b4',\n",
    "                                    pretrained=True,\n",
    "                                    num_classes = 17).to(device),\n",
    "    # CAFormer-S18\n",
    "    'caformer_s18' : timm.create_model('caformer_s18',\n",
    "                                    pretrained=True,\n",
    "                                    num_classes = 17).to(device),\n",
    "    # ViT LAION 2B\n",
    "    'vit_laion_2b' : timm.create_model('vit_large_patch14_clip_224.laion2b',\n",
    "                                    pretrained=True,\n",
    "                                    num_classes = 17).to(device)\n",
    "\n",
    "}"
   ]
  },
  {
   "cell_type": "code",
   "execution_count": 29,
   "metadata": {},
   "outputs": [
    {
     "name": "stdout",
     "output_type": "stream",
     "text": [
      "----------------------------------------------------------------------------------------------------\n",
      "resnet50\n"
     ]
    },
    {
     "data": {
      "application/vnd.jupyter.widget-view+json": {
       "model_id": "daa4a68634f14be4903e07aeb3e1a4ab",
       "version_major": 2,
       "version_minor": 0
      },
      "text/plain": [
       "VBox(children=(Label(value='Waiting for wandb.init()...\\r'), FloatProgress(value=0.011112298940618832, max=1.0…"
      ]
     },
     "metadata": {},
     "output_type": "display_data"
    },
    {
     "name": "stdout",
     "output_type": "stream",
     "text": [
      "fold : 0\n",
      "\tepoch : 0\n"
     ]
    },
    {
     "name": "stderr",
     "output_type": "stream",
     "text": [
      "Loss: 1.0157: 100%|██████████| 40/40 [00:05<00:00,  7.72it/s]\n",
      "Loss: 0.7329: 100%|██████████| 10/10 [00:00<00:00, 11.96it/s]\n"
     ]
    },
    {
     "name": "stdout",
     "output_type": "stream",
     "text": [
      "\tepoch : 1\n"
     ]
    },
    {
     "name": "stderr",
     "output_type": "stream",
     "text": [
      "Loss: 0.1290: 100%|██████████| 40/40 [00:05<00:00,  7.70it/s]\n",
      "Loss: 0.3169: 100%|██████████| 10/10 [00:00<00:00, 12.00it/s]\n"
     ]
    },
    {
     "name": "stdout",
     "output_type": "stream",
     "text": [
      "\tepoch : 2\n"
     ]
    },
    {
     "name": "stderr",
     "output_type": "stream",
     "text": [
      "Loss: 0.2680: 100%|██████████| 40/40 [00:05<00:00,  7.74it/s]\n",
      "Loss: 0.2901: 100%|██████████| 10/10 [00:00<00:00, 12.02it/s]\n"
     ]
    },
    {
     "name": "stdout",
     "output_type": "stream",
     "text": [
      "fold : 1\n",
      "\tepoch : 0\n"
     ]
    },
    {
     "name": "stderr",
     "output_type": "stream",
     "text": [
      "Loss: 0.0743: 100%|██████████| 40/40 [00:05<00:00,  7.68it/s]\n",
      "Loss: 0.0711: 100%|██████████| 10/10 [00:00<00:00, 11.89it/s]\n"
     ]
    },
    {
     "name": "stdout",
     "output_type": "stream",
     "text": [
      "\tepoch : 1\n"
     ]
    },
    {
     "name": "stderr",
     "output_type": "stream",
     "text": [
      "Loss: 0.0425: 100%|██████████| 40/40 [00:05<00:00,  7.77it/s]\n",
      "Loss: 0.0424: 100%|██████████| 10/10 [00:00<00:00, 12.14it/s]\n"
     ]
    },
    {
     "name": "stdout",
     "output_type": "stream",
     "text": [
      "\tepoch : 2\n"
     ]
    },
    {
     "name": "stderr",
     "output_type": "stream",
     "text": [
      "Loss: 0.0507: 100%|██████████| 40/40 [00:05<00:00,  7.72it/s]\n",
      "Loss: 0.1275: 100%|██████████| 10/10 [00:00<00:00, 12.04it/s]\n"
     ]
    },
    {
     "name": "stdout",
     "output_type": "stream",
     "text": [
      "fold : 2\n",
      "\tepoch : 0\n"
     ]
    },
    {
     "name": "stderr",
     "output_type": "stream",
     "text": [
      "Loss: 1.3561: 100%|██████████| 40/40 [00:05<00:00,  7.70it/s]\n",
      "Loss: 0.0548: 100%|██████████| 10/10 [00:00<00:00, 11.91it/s]\n"
     ]
    },
    {
     "name": "stdout",
     "output_type": "stream",
     "text": [
      "\tepoch : 1\n"
     ]
    },
    {
     "name": "stderr",
     "output_type": "stream",
     "text": [
      "Loss: 0.0108: 100%|██████████| 40/40 [00:05<00:00,  7.69it/s]\n",
      "Loss: 0.0284: 100%|██████████| 10/10 [00:00<00:00, 11.82it/s]\n"
     ]
    },
    {
     "name": "stdout",
     "output_type": "stream",
     "text": [
      "\tepoch : 2\n"
     ]
    },
    {
     "name": "stderr",
     "output_type": "stream",
     "text": [
      "Loss: 0.0439: 100%|██████████| 40/40 [00:05<00:00,  7.70it/s]\n",
      "Loss: 0.0077: 100%|██████████| 10/10 [00:00<00:00, 11.95it/s]\n"
     ]
    },
    {
     "name": "stdout",
     "output_type": "stream",
     "text": [
      "fold : 3\n",
      "\tepoch : 0\n"
     ]
    },
    {
     "name": "stderr",
     "output_type": "stream",
     "text": [
      "Loss: 0.0182: 100%|██████████| 40/40 [00:05<00:00,  7.69it/s]\n",
      "Loss: 0.0020: 100%|██████████| 10/10 [00:00<00:00, 11.98it/s]\n"
     ]
    },
    {
     "name": "stdout",
     "output_type": "stream",
     "text": [
      "\tepoch : 1\n"
     ]
    },
    {
     "name": "stderr",
     "output_type": "stream",
     "text": [
      "Loss: 0.0058: 100%|██████████| 40/40 [00:05<00:00,  7.70it/s]\n",
      "Loss: 0.0031: 100%|██████████| 10/10 [00:00<00:00, 12.07it/s]\n"
     ]
    },
    {
     "name": "stdout",
     "output_type": "stream",
     "text": [
      "\tepoch : 2\n"
     ]
    },
    {
     "name": "stderr",
     "output_type": "stream",
     "text": [
      "Loss: 0.0044: 100%|██████████| 40/40 [00:05<00:00,  7.68it/s]\n",
      "Loss: 0.0017: 100%|██████████| 10/10 [00:00<00:00, 11.89it/s]\n"
     ]
    },
    {
     "name": "stdout",
     "output_type": "stream",
     "text": [
      "fold : 4\n",
      "\tepoch : 0\n"
     ]
    },
    {
     "name": "stderr",
     "output_type": "stream",
     "text": [
      "Loss: 0.0436: 100%|██████████| 40/40 [00:05<00:00,  7.76it/s]\n",
      "Loss: 0.0018: 100%|██████████| 10/10 [00:00<00:00, 12.18it/s]\n"
     ]
    },
    {
     "name": "stdout",
     "output_type": "stream",
     "text": [
      "\tepoch : 1\n"
     ]
    },
    {
     "name": "stderr",
     "output_type": "stream",
     "text": [
      "Loss: 0.4314: 100%|██████████| 40/40 [00:05<00:00,  7.75it/s]\n",
      "Loss: 0.0035: 100%|██████████| 10/10 [00:00<00:00, 11.74it/s]\n"
     ]
    },
    {
     "name": "stdout",
     "output_type": "stream",
     "text": [
      "\tepoch : 2\n"
     ]
    },
    {
     "name": "stderr",
     "output_type": "stream",
     "text": [
      "Loss: 0.2949: 100%|██████████| 40/40 [00:05<00:00,  7.69it/s]\n",
      "Loss: 0.0026: 100%|██████████| 10/10 [00:00<00:00, 12.17it/s]\n"
     ]
    },
    {
     "name": "stdout",
     "output_type": "stream",
     "text": [
      "----------------------------------------------------------------------------------------------------\n",
      "resnext50\n"
     ]
    },
    {
     "data": {
      "application/vnd.jupyter.widget-view+json": {
       "model_id": "9d86dedf1376489ea8919b05c5a6419c",
       "version_major": 2,
       "version_minor": 0
      },
      "text/plain": [
       "VBox(children=(Label(value='Waiting for wandb.init()...\\r'), FloatProgress(value=0.011112263136439853, max=1.0…"
      ]
     },
     "metadata": {},
     "output_type": "display_data"
    },
    {
     "name": "stdout",
     "output_type": "stream",
     "text": [
      "fold : 0\n",
      "\tepoch : 0\n"
     ]
    },
    {
     "name": "stderr",
     "output_type": "stream",
     "text": [
      "Loss: 0.1957: 100%|██████████| 40/40 [00:06<00:00,  6.63it/s]\n",
      "Loss: 0.6987: 100%|██████████| 10/10 [00:00<00:00, 11.25it/s]\n"
     ]
    },
    {
     "name": "stdout",
     "output_type": "stream",
     "text": [
      "\tepoch : 1\n"
     ]
    },
    {
     "name": "stderr",
     "output_type": "stream",
     "text": [
      "Loss: 0.3605: 100%|██████████| 40/40 [00:05<00:00,  6.67it/s]\n",
      "Loss: 0.3296: 100%|██████████| 10/10 [00:00<00:00, 11.13it/s]\n"
     ]
    },
    {
     "name": "stdout",
     "output_type": "stream",
     "text": [
      "\tepoch : 2\n"
     ]
    },
    {
     "name": "stderr",
     "output_type": "stream",
     "text": [
      "Loss: 0.1969: 100%|██████████| 40/40 [00:05<00:00,  6.67it/s]\n",
      "Loss: 0.2233: 100%|██████████| 10/10 [00:00<00:00, 11.26it/s]\n"
     ]
    },
    {
     "name": "stdout",
     "output_type": "stream",
     "text": [
      "fold : 1\n",
      "\tepoch : 0\n"
     ]
    },
    {
     "name": "stderr",
     "output_type": "stream",
     "text": [
      "Loss: 0.3207: 100%|██████████| 40/40 [00:06<00:00,  6.62it/s]\n",
      "Loss: 0.0426: 100%|██████████| 10/10 [00:00<00:00, 11.10it/s]\n"
     ]
    },
    {
     "name": "stdout",
     "output_type": "stream",
     "text": [
      "\tepoch : 1\n"
     ]
    },
    {
     "name": "stderr",
     "output_type": "stream",
     "text": [
      "Loss: 0.0874: 100%|██████████| 40/40 [00:06<00:00,  6.63it/s]\n",
      "Loss: 0.1002: 100%|██████████| 10/10 [00:00<00:00, 11.33it/s]\n"
     ]
    },
    {
     "name": "stdout",
     "output_type": "stream",
     "text": [
      "\tepoch : 2\n"
     ]
    },
    {
     "name": "stderr",
     "output_type": "stream",
     "text": [
      "Loss: 0.0498: 100%|██████████| 40/40 [00:05<00:00,  6.69it/s]\n",
      "Loss: 0.1219: 100%|██████████| 10/10 [00:00<00:00, 10.92it/s]\n"
     ]
    },
    {
     "name": "stdout",
     "output_type": "stream",
     "text": [
      "fold : 2\n",
      "\tepoch : 0\n"
     ]
    },
    {
     "name": "stderr",
     "output_type": "stream",
     "text": [
      "Loss: 0.0790: 100%|██████████| 40/40 [00:05<00:00,  6.67it/s]\n",
      "Loss: 0.0205: 100%|██████████| 10/10 [00:00<00:00, 11.19it/s]\n"
     ]
    },
    {
     "name": "stdout",
     "output_type": "stream",
     "text": [
      "\tepoch : 1\n"
     ]
    },
    {
     "name": "stderr",
     "output_type": "stream",
     "text": [
      "Loss: 0.1132: 100%|██████████| 40/40 [00:06<00:00,  6.58it/s]\n",
      "Loss: 0.1228: 100%|██████████| 10/10 [00:00<00:00, 11.31it/s]\n"
     ]
    },
    {
     "name": "stdout",
     "output_type": "stream",
     "text": [
      "\tepoch : 2\n"
     ]
    },
    {
     "name": "stderr",
     "output_type": "stream",
     "text": [
      "Loss: 0.2328: 100%|██████████| 40/40 [00:06<00:00,  6.65it/s]\n",
      "Loss: 0.2691: 100%|██████████| 10/10 [00:00<00:00, 11.12it/s]\n"
     ]
    },
    {
     "name": "stdout",
     "output_type": "stream",
     "text": [
      "fold : 3\n",
      "\tepoch : 0\n"
     ]
    },
    {
     "name": "stderr",
     "output_type": "stream",
     "text": [
      "Loss: 0.0633: 100%|██████████| 40/40 [00:06<00:00,  6.65it/s]\n",
      "Loss: 0.0242: 100%|██████████| 10/10 [00:00<00:00, 11.05it/s]\n"
     ]
    },
    {
     "name": "stdout",
     "output_type": "stream",
     "text": [
      "\tepoch : 1\n"
     ]
    },
    {
     "name": "stderr",
     "output_type": "stream",
     "text": [
      "Loss: 0.1948: 100%|██████████| 40/40 [00:06<00:00,  6.65it/s]\n",
      "Loss: 0.0265: 100%|██████████| 10/10 [00:00<00:00, 11.03it/s]\n"
     ]
    },
    {
     "name": "stdout",
     "output_type": "stream",
     "text": [
      "\tepoch : 2\n"
     ]
    },
    {
     "name": "stderr",
     "output_type": "stream",
     "text": [
      "Loss: 0.1238: 100%|██████████| 40/40 [00:06<00:00,  6.59it/s]\n",
      "Loss: 0.0363: 100%|██████████| 10/10 [00:00<00:00, 11.07it/s]\n"
     ]
    },
    {
     "name": "stdout",
     "output_type": "stream",
     "text": [
      "fold : 4\n",
      "\tepoch : 0\n"
     ]
    },
    {
     "name": "stderr",
     "output_type": "stream",
     "text": [
      "Loss: 0.1204: 100%|██████████| 40/40 [00:06<00:00,  6.62it/s]\n",
      "Loss: 0.0117: 100%|██████████| 10/10 [00:00<00:00, 11.16it/s]\n"
     ]
    },
    {
     "name": "stdout",
     "output_type": "stream",
     "text": [
      "\tepoch : 1\n"
     ]
    },
    {
     "name": "stderr",
     "output_type": "stream",
     "text": [
      "Loss: 0.1042: 100%|██████████| 40/40 [00:06<00:00,  6.60it/s]\n",
      "Loss: 0.0053: 100%|██████████| 10/10 [00:00<00:00, 11.42it/s]\n"
     ]
    },
    {
     "name": "stdout",
     "output_type": "stream",
     "text": [
      "\tepoch : 2\n"
     ]
    },
    {
     "name": "stderr",
     "output_type": "stream",
     "text": [
      "Loss: 0.0961: 100%|██████████| 40/40 [00:06<00:00,  6.67it/s]\n",
      "Loss: 0.0448: 100%|██████████| 10/10 [00:00<00:00, 11.14it/s]\n"
     ]
    },
    {
     "name": "stdout",
     "output_type": "stream",
     "text": [
      "----------------------------------------------------------------------------------------------------\n",
      "efficientnet_b0\n"
     ]
    },
    {
     "data": {
      "application/vnd.jupyter.widget-view+json": {
       "model_id": "8b33654c9c904303b70c19410b35c867",
       "version_major": 2,
       "version_minor": 0
      },
      "text/plain": [
       "VBox(children=(Label(value='Waiting for wandb.init()...\\r'), FloatProgress(value=0.011112251629432043, max=1.0…"
      ]
     },
     "metadata": {},
     "output_type": "display_data"
    },
    {
     "name": "stdout",
     "output_type": "stream",
     "text": [
      "fold : 0\n",
      "\tepoch : 0\n"
     ]
    },
    {
     "name": "stderr",
     "output_type": "stream",
     "text": [
      "Loss: 1.3250: 100%|██████████| 40/40 [00:04<00:00,  9.61it/s]\n",
      "Loss: 0.3169: 100%|██████████| 10/10 [00:00<00:00, 14.32it/s]\n"
     ]
    },
    {
     "name": "stdout",
     "output_type": "stream",
     "text": [
      "\tepoch : 1\n"
     ]
    },
    {
     "name": "stderr",
     "output_type": "stream",
     "text": [
      "Loss: 0.0663: 100%|██████████| 40/40 [00:04<00:00,  9.81it/s]\n",
      "Loss: 0.6263: 100%|██████████| 10/10 [00:00<00:00, 14.23it/s]\n"
     ]
    },
    {
     "name": "stdout",
     "output_type": "stream",
     "text": [
      "\tepoch : 2\n"
     ]
    },
    {
     "name": "stderr",
     "output_type": "stream",
     "text": [
      "Loss: 0.0165: 100%|██████████| 40/40 [00:04<00:00,  9.76it/s]\n",
      "Loss: 0.4664: 100%|██████████| 10/10 [00:00<00:00, 13.46it/s]\n"
     ]
    },
    {
     "name": "stdout",
     "output_type": "stream",
     "text": [
      "fold : 1\n",
      "\tepoch : 0\n"
     ]
    },
    {
     "name": "stderr",
     "output_type": "stream",
     "text": [
      "Loss: 0.0282: 100%|██████████| 40/40 [00:04<00:00,  9.64it/s]\n",
      "Loss: 0.0256: 100%|██████████| 10/10 [00:00<00:00, 13.60it/s]\n"
     ]
    },
    {
     "name": "stdout",
     "output_type": "stream",
     "text": [
      "\tepoch : 1\n"
     ]
    },
    {
     "name": "stderr",
     "output_type": "stream",
     "text": [
      "Loss: 0.1547: 100%|██████████| 40/40 [00:04<00:00,  9.74it/s]\n",
      "Loss: 0.1280: 100%|██████████| 10/10 [00:00<00:00, 14.26it/s]\n"
     ]
    },
    {
     "name": "stdout",
     "output_type": "stream",
     "text": [
      "\tepoch : 2\n"
     ]
    },
    {
     "name": "stderr",
     "output_type": "stream",
     "text": [
      "Loss: 0.0012: 100%|██████████| 40/40 [00:04<00:00,  9.68it/s]\n",
      "Loss: 0.0418: 100%|██████████| 10/10 [00:00<00:00, 14.60it/s]\n"
     ]
    },
    {
     "name": "stdout",
     "output_type": "stream",
     "text": [
      "fold : 2\n",
      "\tepoch : 0\n"
     ]
    },
    {
     "name": "stderr",
     "output_type": "stream",
     "text": [
      "Loss: 0.0733: 100%|██████████| 40/40 [00:04<00:00,  9.79it/s]\n",
      "Loss: 0.2881: 100%|██████████| 10/10 [00:00<00:00, 13.95it/s]\n"
     ]
    },
    {
     "name": "stdout",
     "output_type": "stream",
     "text": [
      "\tepoch : 1\n"
     ]
    },
    {
     "name": "stderr",
     "output_type": "stream",
     "text": [
      "Loss: 0.0240: 100%|██████████| 40/40 [00:04<00:00,  9.83it/s]\n",
      "Loss: 0.0226: 100%|██████████| 10/10 [00:00<00:00, 14.28it/s]\n"
     ]
    },
    {
     "name": "stdout",
     "output_type": "stream",
     "text": [
      "\tepoch : 2\n"
     ]
    },
    {
     "name": "stderr",
     "output_type": "stream",
     "text": [
      "Loss: 0.0172: 100%|██████████| 40/40 [00:04<00:00,  9.92it/s]\n",
      "Loss: 0.0152: 100%|██████████| 10/10 [00:00<00:00, 14.54it/s]\n"
     ]
    },
    {
     "name": "stdout",
     "output_type": "stream",
     "text": [
      "fold : 3\n",
      "\tepoch : 0\n"
     ]
    },
    {
     "name": "stderr",
     "output_type": "stream",
     "text": [
      "Loss: 0.0044: 100%|██████████| 40/40 [00:04<00:00,  9.76it/s]\n",
      "Loss: 0.0861: 100%|██████████| 10/10 [00:00<00:00, 14.30it/s]\n"
     ]
    },
    {
     "name": "stdout",
     "output_type": "stream",
     "text": [
      "\tepoch : 1\n"
     ]
    },
    {
     "name": "stderr",
     "output_type": "stream",
     "text": [
      "Loss: 0.0032: 100%|██████████| 40/40 [00:04<00:00,  9.69it/s]\n",
      "Loss: 0.0108: 100%|██████████| 10/10 [00:00<00:00, 14.47it/s]\n"
     ]
    },
    {
     "name": "stdout",
     "output_type": "stream",
     "text": [
      "\tepoch : 2\n"
     ]
    },
    {
     "name": "stderr",
     "output_type": "stream",
     "text": [
      "Loss: 0.0208: 100%|██████████| 40/40 [00:04<00:00,  9.76it/s]\n",
      "Loss: 0.3318: 100%|██████████| 10/10 [00:00<00:00, 14.44it/s]\n"
     ]
    },
    {
     "name": "stdout",
     "output_type": "stream",
     "text": [
      "fold : 4\n",
      "\tepoch : 0\n"
     ]
    },
    {
     "name": "stderr",
     "output_type": "stream",
     "text": [
      "Loss: 0.0006: 100%|██████████| 40/40 [00:04<00:00,  9.76it/s]\n",
      "Loss: 0.3355: 100%|██████████| 10/10 [00:00<00:00, 13.64it/s]\n"
     ]
    },
    {
     "name": "stdout",
     "output_type": "stream",
     "text": [
      "\tepoch : 1\n"
     ]
    },
    {
     "name": "stderr",
     "output_type": "stream",
     "text": [
      "Loss: 0.0759: 100%|██████████| 40/40 [00:04<00:00,  9.72it/s]\n",
      "Loss: 0.0204: 100%|██████████| 10/10 [00:00<00:00, 13.65it/s]\n"
     ]
    },
    {
     "name": "stdout",
     "output_type": "stream",
     "text": [
      "\tepoch : 2\n"
     ]
    },
    {
     "name": "stderr",
     "output_type": "stream",
     "text": [
      "Loss: 0.1477: 100%|██████████| 40/40 [00:04<00:00,  9.75it/s]\n",
      "Loss: 0.0241: 100%|██████████| 10/10 [00:00<00:00, 14.03it/s]\n"
     ]
    },
    {
     "name": "stdout",
     "output_type": "stream",
     "text": [
      "----------------------------------------------------------------------------------------------------\n",
      "efficientnet_b4\n"
     ]
    },
    {
     "data": {
      "application/vnd.jupyter.widget-view+json": {
       "model_id": "c64b58958d54445e80915ea85d752a93",
       "version_major": 2,
       "version_minor": 0
      },
      "text/plain": [
       "VBox(children=(Label(value='Waiting for wandb.init()...\\r'), FloatProgress(value=0.01111226926247279, max=1.0)…"
      ]
     },
     "metadata": {},
     "output_type": "display_data"
    },
    {
     "name": "stdout",
     "output_type": "stream",
     "text": [
      "fold : 0\n",
      "\tepoch : 0\n"
     ]
    },
    {
     "name": "stderr",
     "output_type": "stream",
     "text": [
      "Loss: 0.2947: 100%|██████████| 40/40 [00:06<00:00,  5.88it/s]\n",
      "Loss: 0.4316: 100%|██████████| 10/10 [00:00<00:00, 11.28it/s]\n"
     ]
    },
    {
     "name": "stdout",
     "output_type": "stream",
     "text": [
      "\tepoch : 1\n"
     ]
    },
    {
     "name": "stderr",
     "output_type": "stream",
     "text": [
      "Loss: 0.6794: 100%|██████████| 40/40 [00:06<00:00,  5.88it/s]\n",
      "Loss: 0.3848: 100%|██████████| 10/10 [00:00<00:00, 11.74it/s]\n"
     ]
    },
    {
     "name": "stdout",
     "output_type": "stream",
     "text": [
      "\tepoch : 2\n"
     ]
    },
    {
     "name": "stderr",
     "output_type": "stream",
     "text": [
      "Loss: 0.1058: 100%|██████████| 40/40 [00:06<00:00,  5.86it/s]\n",
      "Loss: 0.4135: 100%|██████████| 10/10 [00:00<00:00, 10.59it/s]\n"
     ]
    },
    {
     "name": "stdout",
     "output_type": "stream",
     "text": [
      "fold : 1\n",
      "\tepoch : 0\n"
     ]
    },
    {
     "name": "stderr",
     "output_type": "stream",
     "text": [
      "Loss: 0.0177: 100%|██████████| 40/40 [00:06<00:00,  5.89it/s]\n",
      "Loss: 0.0558: 100%|██████████| 10/10 [00:00<00:00, 11.04it/s]\n"
     ]
    },
    {
     "name": "stdout",
     "output_type": "stream",
     "text": [
      "\tepoch : 1\n"
     ]
    },
    {
     "name": "stderr",
     "output_type": "stream",
     "text": [
      "Loss: 0.0088: 100%|██████████| 40/40 [00:06<00:00,  5.91it/s]\n",
      "Loss: 0.0196: 100%|██████████| 10/10 [00:00<00:00, 11.45it/s]\n"
     ]
    },
    {
     "name": "stdout",
     "output_type": "stream",
     "text": [
      "\tepoch : 2\n"
     ]
    },
    {
     "name": "stderr",
     "output_type": "stream",
     "text": [
      "Loss: 0.0202: 100%|██████████| 40/40 [00:06<00:00,  5.84it/s]\n",
      "Loss: 0.0056: 100%|██████████| 10/10 [00:00<00:00, 11.02it/s]\n"
     ]
    },
    {
     "name": "stdout",
     "output_type": "stream",
     "text": [
      "fold : 2\n",
      "\tepoch : 0\n"
     ]
    },
    {
     "name": "stderr",
     "output_type": "stream",
     "text": [
      "Loss: 0.0152: 100%|██████████| 40/40 [00:06<00:00,  5.89it/s]\n",
      "Loss: 0.0001: 100%|██████████| 10/10 [00:00<00:00, 11.08it/s]\n"
     ]
    },
    {
     "name": "stdout",
     "output_type": "stream",
     "text": [
      "\tepoch : 1\n"
     ]
    },
    {
     "name": "stderr",
     "output_type": "stream",
     "text": [
      "Loss: 0.0066: 100%|██████████| 40/40 [00:06<00:00,  5.84it/s]\n",
      "Loss: 0.0000: 100%|██████████| 10/10 [00:00<00:00, 11.09it/s]\n"
     ]
    },
    {
     "name": "stdout",
     "output_type": "stream",
     "text": [
      "\tepoch : 2\n"
     ]
    },
    {
     "name": "stderr",
     "output_type": "stream",
     "text": [
      "Loss: 0.0348: 100%|██████████| 40/40 [00:06<00:00,  5.89it/s]\n",
      "Loss: 0.0000: 100%|██████████| 10/10 [00:00<00:00, 11.64it/s]\n"
     ]
    },
    {
     "name": "stdout",
     "output_type": "stream",
     "text": [
      "fold : 3\n",
      "\tepoch : 0\n"
     ]
    },
    {
     "name": "stderr",
     "output_type": "stream",
     "text": [
      "Loss: 0.0032: 100%|██████████| 40/40 [00:06<00:00,  5.89it/s]\n",
      "Loss: 0.0001: 100%|██████████| 10/10 [00:00<00:00, 11.60it/s]\n"
     ]
    },
    {
     "name": "stdout",
     "output_type": "stream",
     "text": [
      "\tepoch : 1\n"
     ]
    },
    {
     "name": "stderr",
     "output_type": "stream",
     "text": [
      "Loss: 0.0259: 100%|██████████| 40/40 [00:06<00:00,  5.86it/s]\n",
      "Loss: 0.0016: 100%|██████████| 10/10 [00:00<00:00, 11.78it/s]\n"
     ]
    },
    {
     "name": "stdout",
     "output_type": "stream",
     "text": [
      "\tepoch : 2\n"
     ]
    },
    {
     "name": "stderr",
     "output_type": "stream",
     "text": [
      "Loss: 0.0276: 100%|██████████| 40/40 [00:06<00:00,  5.88it/s]\n",
      "Loss: 0.0002: 100%|██████████| 10/10 [00:00<00:00, 11.35it/s]\n"
     ]
    },
    {
     "name": "stdout",
     "output_type": "stream",
     "text": [
      "fold : 4\n",
      "\tepoch : 0\n"
     ]
    },
    {
     "name": "stderr",
     "output_type": "stream",
     "text": [
      "Loss: 0.0001: 100%|██████████| 40/40 [00:06<00:00,  5.89it/s]\n",
      "Loss: 0.0000: 100%|██████████| 10/10 [00:00<00:00, 11.37it/s]\n"
     ]
    },
    {
     "name": "stdout",
     "output_type": "stream",
     "text": [
      "\tepoch : 1\n"
     ]
    },
    {
     "name": "stderr",
     "output_type": "stream",
     "text": [
      "Loss: 0.0032: 100%|██████████| 40/40 [00:06<00:00,  5.90it/s]\n",
      "Loss: 0.0000: 100%|██████████| 10/10 [00:00<00:00, 11.01it/s]\n"
     ]
    },
    {
     "name": "stdout",
     "output_type": "stream",
     "text": [
      "\tepoch : 2\n"
     ]
    },
    {
     "name": "stderr",
     "output_type": "stream",
     "text": [
      "Loss: 0.0017: 100%|██████████| 40/40 [00:06<00:00,  5.87it/s]\n",
      "Loss: 0.0001: 100%|██████████| 10/10 [00:00<00:00, 11.74it/s]\n"
     ]
    },
    {
     "name": "stdout",
     "output_type": "stream",
     "text": [
      "----------------------------------------------------------------------------------------------------\n",
      "caformer_s18\n"
     ]
    },
    {
     "data": {
      "application/vnd.jupyter.widget-view+json": {
       "model_id": "251273fa91fb4b26913ca6daf01d2ce8",
       "version_major": 2,
       "version_minor": 0
      },
      "text/plain": [
       "VBox(children=(Label(value='Waiting for wandb.init()...\\r'), FloatProgress(value=0.011112281680107116, max=1.0…"
      ]
     },
     "metadata": {},
     "output_type": "display_data"
    },
    {
     "name": "stdout",
     "output_type": "stream",
     "text": [
      "fold : 0\n",
      "\tepoch : 0\n"
     ]
    },
    {
     "name": "stderr",
     "output_type": "stream",
     "text": [
      "Loss: 1.0179: 100%|██████████| 40/40 [00:08<00:00,  4.54it/s]\n",
      "Loss: 1.1165: 100%|██████████| 10/10 [00:00<00:00, 10.14it/s]\n"
     ]
    },
    {
     "name": "stdout",
     "output_type": "stream",
     "text": [
      "\tepoch : 1\n"
     ]
    },
    {
     "name": "stderr",
     "output_type": "stream",
     "text": [
      "Loss: 0.5121: 100%|██████████| 40/40 [00:08<00:00,  4.50it/s]\n",
      "Loss: 0.5070: 100%|██████████| 10/10 [00:00<00:00, 10.15it/s]\n"
     ]
    },
    {
     "name": "stdout",
     "output_type": "stream",
     "text": [
      "\tepoch : 2\n"
     ]
    },
    {
     "name": "stderr",
     "output_type": "stream",
     "text": [
      "Loss: 0.2481: 100%|██████████| 40/40 [00:08<00:00,  4.52it/s]\n",
      "Loss: 0.9123: 100%|██████████| 10/10 [00:00<00:00, 10.59it/s]\n"
     ]
    },
    {
     "name": "stdout",
     "output_type": "stream",
     "text": [
      "fold : 1\n",
      "\tepoch : 0\n"
     ]
    },
    {
     "name": "stderr",
     "output_type": "stream",
     "text": [
      "Loss: 0.1890: 100%|██████████| 40/40 [00:08<00:00,  4.52it/s]\n",
      "Loss: 0.2116: 100%|██████████| 10/10 [00:00<00:00, 10.70it/s]\n"
     ]
    },
    {
     "name": "stdout",
     "output_type": "stream",
     "text": [
      "\tepoch : 1\n"
     ]
    },
    {
     "name": "stderr",
     "output_type": "stream",
     "text": [
      "Loss: 0.1646: 100%|██████████| 40/40 [00:08<00:00,  4.50it/s]\n",
      "Loss: 0.2968: 100%|██████████| 10/10 [00:00<00:00, 10.47it/s]\n"
     ]
    },
    {
     "name": "stdout",
     "output_type": "stream",
     "text": [
      "\tepoch : 2\n"
     ]
    },
    {
     "name": "stderr",
     "output_type": "stream",
     "text": [
      "Loss: 0.6476: 100%|██████████| 40/40 [00:08<00:00,  4.53it/s]\n",
      "Loss: 0.2930: 100%|██████████| 10/10 [00:00<00:00, 10.52it/s]\n"
     ]
    },
    {
     "name": "stdout",
     "output_type": "stream",
     "text": [
      "fold : 2\n",
      "\tepoch : 0\n"
     ]
    },
    {
     "name": "stderr",
     "output_type": "stream",
     "text": [
      "Loss: 0.1912: 100%|██████████| 40/40 [00:08<00:00,  4.49it/s]\n",
      "Loss: 0.1258: 100%|██████████| 10/10 [00:00<00:00, 10.40it/s]\n"
     ]
    },
    {
     "name": "stdout",
     "output_type": "stream",
     "text": [
      "\tepoch : 1\n"
     ]
    },
    {
     "name": "stderr",
     "output_type": "stream",
     "text": [
      "Loss: 0.0281: 100%|██████████| 40/40 [00:08<00:00,  4.52it/s]\n",
      "Loss: 0.2561: 100%|██████████| 10/10 [00:00<00:00, 10.68it/s]\n"
     ]
    },
    {
     "name": "stdout",
     "output_type": "stream",
     "text": [
      "\tepoch : 2\n"
     ]
    },
    {
     "name": "stderr",
     "output_type": "stream",
     "text": [
      "Loss: 0.0994: 100%|██████████| 40/40 [00:08<00:00,  4.53it/s]\n",
      "Loss: 0.1303: 100%|██████████| 10/10 [00:00<00:00, 10.21it/s]\n"
     ]
    },
    {
     "name": "stdout",
     "output_type": "stream",
     "text": [
      "fold : 3\n",
      "\tepoch : 0\n"
     ]
    },
    {
     "name": "stderr",
     "output_type": "stream",
     "text": [
      "Loss: 0.0030: 100%|██████████| 40/40 [00:08<00:00,  4.53it/s]\n",
      "Loss: 0.0764: 100%|██████████| 10/10 [00:00<00:00, 10.27it/s]\n"
     ]
    },
    {
     "name": "stdout",
     "output_type": "stream",
     "text": [
      "\tepoch : 1\n"
     ]
    },
    {
     "name": "stderr",
     "output_type": "stream",
     "text": [
      "Loss: 0.2299: 100%|██████████| 40/40 [00:08<00:00,  4.53it/s]\n",
      "Loss: 0.0488: 100%|██████████| 10/10 [00:00<00:00, 10.75it/s]\n"
     ]
    },
    {
     "name": "stdout",
     "output_type": "stream",
     "text": [
      "\tepoch : 2\n"
     ]
    },
    {
     "name": "stderr",
     "output_type": "stream",
     "text": [
      "Loss: 0.3686: 100%|██████████| 40/40 [00:08<00:00,  4.55it/s]\n",
      "Loss: 0.2261: 100%|██████████| 10/10 [00:00<00:00, 10.43it/s]\n"
     ]
    },
    {
     "name": "stdout",
     "output_type": "stream",
     "text": [
      "fold : 4\n",
      "\tepoch : 0\n"
     ]
    },
    {
     "name": "stderr",
     "output_type": "stream",
     "text": [
      "Loss: 0.0268: 100%|██████████| 40/40 [00:08<00:00,  4.55it/s]\n",
      "Loss: 0.2250: 100%|██████████| 10/10 [00:00<00:00, 10.21it/s]\n"
     ]
    },
    {
     "name": "stdout",
     "output_type": "stream",
     "text": [
      "\tepoch : 1\n"
     ]
    },
    {
     "name": "stderr",
     "output_type": "stream",
     "text": [
      "Loss: 0.0324: 100%|██████████| 40/40 [00:08<00:00,  4.52it/s]\n",
      "Loss: 0.6543: 100%|██████████| 10/10 [00:00<00:00, 10.62it/s]\n"
     ]
    },
    {
     "name": "stdout",
     "output_type": "stream",
     "text": [
      "\tepoch : 2\n"
     ]
    },
    {
     "name": "stderr",
     "output_type": "stream",
     "text": [
      "Loss: 0.2343: 100%|██████████| 40/40 [00:08<00:00,  4.52it/s]\n",
      "Loss: 0.1442: 100%|██████████| 10/10 [00:00<00:00, 10.11it/s]\n"
     ]
    },
    {
     "name": "stdout",
     "output_type": "stream",
     "text": [
      "----------------------------------------------------------------------------------------------------\n",
      "vit_laion_2b\n"
     ]
    },
    {
     "data": {
      "application/vnd.jupyter.widget-view+json": {
       "model_id": "43780f5ebfcf431a8666c3ce2d24b8a0",
       "version_major": 2,
       "version_minor": 0
      },
      "text/plain": [
       "VBox(children=(Label(value='Waiting for wandb.init()...\\r'), FloatProgress(value=0.01111271662844552, max=1.0)…"
      ]
     },
     "metadata": {},
     "output_type": "display_data"
    },
    {
     "name": "stdout",
     "output_type": "stream",
     "text": [
      "fold : 0\n",
      "\tepoch : 0\n"
     ]
    },
    {
     "name": "stderr",
     "output_type": "stream",
     "text": [
      "Loss: 3.1249: 100%|██████████| 40/40 [00:39<00:00,  1.02it/s]\n",
      "Loss: 2.9595: 100%|██████████| 10/10 [00:03<00:00,  2.62it/s]\n"
     ]
    },
    {
     "name": "stdout",
     "output_type": "stream",
     "text": [
      "\tepoch : 1\n"
     ]
    },
    {
     "name": "stderr",
     "output_type": "stream",
     "text": [
      "Loss: 2.5829: 100%|██████████| 40/40 [00:43<00:00,  1.08s/it]\n",
      "Loss: 2.3883: 100%|██████████| 10/10 [00:04<00:00,  2.44it/s]\n"
     ]
    },
    {
     "name": "stdout",
     "output_type": "stream",
     "text": [
      "\tepoch : 2\n"
     ]
    },
    {
     "name": "stderr",
     "output_type": "stream",
     "text": [
      "Loss: 2.6782: 100%|██████████| 40/40 [00:44<00:00,  1.10s/it]\n",
      "Loss: 2.3230: 100%|██████████| 10/10 [00:04<00:00,  2.44it/s]\n"
     ]
    },
    {
     "name": "stdout",
     "output_type": "stream",
     "text": [
      "fold : 1\n",
      "\tepoch : 0\n"
     ]
    },
    {
     "name": "stderr",
     "output_type": "stream",
     "text": [
      "Loss: 2.9387: 100%|██████████| 40/40 [00:44<00:00,  1.11s/it]\n",
      "Loss: 1.9627: 100%|██████████| 10/10 [00:04<00:00,  2.39it/s]\n"
     ]
    },
    {
     "name": "stdout",
     "output_type": "stream",
     "text": [
      "\tepoch : 1\n"
     ]
    },
    {
     "name": "stderr",
     "output_type": "stream",
     "text": [
      "Loss: 3.1673: 100%|██████████| 40/40 [00:43<00:00,  1.09s/it]\n",
      "Loss: 2.0501: 100%|██████████| 10/10 [00:04<00:00,  2.40it/s]\n"
     ]
    },
    {
     "name": "stdout",
     "output_type": "stream",
     "text": [
      "\tepoch : 2\n"
     ]
    },
    {
     "name": "stderr",
     "output_type": "stream",
     "text": [
      "Loss: 2.5705: 100%|██████████| 40/40 [00:44<00:00,  1.10s/it]\n",
      "Loss: 2.7789: 100%|██████████| 10/10 [00:04<00:00,  2.35it/s]\n"
     ]
    },
    {
     "name": "stdout",
     "output_type": "stream",
     "text": [
      "fold : 2\n",
      "\tepoch : 0\n"
     ]
    },
    {
     "name": "stderr",
     "output_type": "stream",
     "text": [
      "Loss: 2.8951: 100%|██████████| 40/40 [00:43<00:00,  1.10s/it]\n",
      "Loss: 2.3745: 100%|██████████| 10/10 [00:04<00:00,  2.47it/s]\n"
     ]
    },
    {
     "name": "stdout",
     "output_type": "stream",
     "text": [
      "\tepoch : 1\n"
     ]
    },
    {
     "name": "stderr",
     "output_type": "stream",
     "text": [
      "Loss: 2.2331: 100%|██████████| 40/40 [00:44<00:00,  1.10s/it]\n",
      "Loss: 2.1551: 100%|██████████| 10/10 [00:04<00:00,  2.47it/s]\n"
     ]
    },
    {
     "name": "stdout",
     "output_type": "stream",
     "text": [
      "\tepoch : 2\n"
     ]
    },
    {
     "name": "stderr",
     "output_type": "stream",
     "text": [
      "Loss: 2.1667: 100%|██████████| 40/40 [00:44<00:00,  1.11s/it]\n",
      "Loss: 2.3196: 100%|██████████| 10/10 [00:04<00:00,  2.40it/s]\n"
     ]
    },
    {
     "name": "stdout",
     "output_type": "stream",
     "text": [
      "fold : 3\n",
      "\tepoch : 0\n"
     ]
    },
    {
     "name": "stderr",
     "output_type": "stream",
     "text": [
      "Loss: 2.2498: 100%|██████████| 40/40 [00:44<00:00,  1.11s/it]\n",
      "Loss: 1.8297: 100%|██████████| 10/10 [00:04<00:00,  2.42it/s]\n"
     ]
    },
    {
     "name": "stdout",
     "output_type": "stream",
     "text": [
      "\tepoch : 1\n"
     ]
    },
    {
     "name": "stderr",
     "output_type": "stream",
     "text": [
      "Loss: 1.3211: 100%|██████████| 40/40 [00:44<00:00,  1.11s/it]\n",
      "Loss: 1.7862: 100%|██████████| 10/10 [00:04<00:00,  2.46it/s]\n"
     ]
    },
    {
     "name": "stdout",
     "output_type": "stream",
     "text": [
      "\tepoch : 2\n"
     ]
    },
    {
     "name": "stderr",
     "output_type": "stream",
     "text": [
      "Loss: 2.3158: 100%|██████████| 40/40 [00:44<00:00,  1.10s/it]\n",
      "Loss: 1.7685: 100%|██████████| 10/10 [00:04<00:00,  2.38it/s]\n"
     ]
    },
    {
     "name": "stdout",
     "output_type": "stream",
     "text": [
      "fold : 4\n",
      "\tepoch : 0\n"
     ]
    },
    {
     "name": "stderr",
     "output_type": "stream",
     "text": [
      "Loss: 1.8827: 100%|██████████| 40/40 [00:43<00:00,  1.10s/it]\n",
      "Loss: 1.5149: 100%|██████████| 10/10 [00:04<00:00,  2.48it/s]\n"
     ]
    },
    {
     "name": "stdout",
     "output_type": "stream",
     "text": [
      "\tepoch : 1\n"
     ]
    },
    {
     "name": "stderr",
     "output_type": "stream",
     "text": [
      "Loss: 1.8563: 100%|██████████| 40/40 [00:44<00:00,  1.10s/it]\n",
      "Loss: 1.5073: 100%|██████████| 10/10 [00:04<00:00,  2.44it/s]\n"
     ]
    },
    {
     "name": "stdout",
     "output_type": "stream",
     "text": [
      "\tepoch : 2\n"
     ]
    },
    {
     "name": "stderr",
     "output_type": "stream",
     "text": [
      "Loss: 1.7020: 100%|██████████| 40/40 [00:44<00:00,  1.10s/it]\n",
      "Loss: 1.6205: 100%|██████████| 10/10 [00:04<00:00,  2.45it/s]\n"
     ]
    }
   ],
   "source": [
    "from sklearn.model_selection import StratifiedKFold\n",
    "from torch.utils.data import Subset\n",
    "import os\n",
    "\n",
    "os.environ['WANDB_SILENT'] = 'true'\n",
    "skf = StratifiedKFold(n_splits = 5, shuffle = True, random_state = 42)\n",
    "\n",
    "best_models = {}\n",
    "\n",
    "for model_name, model in models.items():\n",
    "    print(\"-\" * 100)\n",
    "    print(model_name)\n",
    "\n",
    "    f1_scores = []\n",
    "    valid_losses = []\n",
    "    trained_models = []\n",
    "\n",
    "    loss_fn = nn.CrossEntropyLoss()\n",
    "    optimizer = Adam(model.parameters(), lr = LR)\n",
    "\n",
    "    wandb.init(project=\"cv_competition_base_models_4\", name=f\"{model_name}\", reinit=True)\n",
    "    \n",
    "    for fold, (train_idx, val_idx) in enumerate(skf.split(trn_dataset, labels)):\n",
    "        print(f'fold : {fold}')\n",
    "        train_dataset = Subset(trn_dataset, train_idx)\n",
    "        val_dataset = Subset(trn_dataset, val_idx)\n",
    "\n",
    "        trn_loader = DataLoader(\n",
    "            train_dataset,\n",
    "            batch_size = BATCH_SIZE,\n",
    "            shuffle = True,\n",
    "            num_workers = num_workers,\n",
    "            pin_memory = True,\n",
    "            drop_last = False\n",
    "        )\n",
    "\n",
    "        val_loader = DataLoader(\n",
    "            val_dataset,\n",
    "            batch_size = BATCH_SIZE,\n",
    "            shuffle = False,\n",
    "            num_workers = 0,\n",
    "            pin_memory = True\n",
    "        )\n",
    "\n",
    "        for epoch in range(EPOCHS):\n",
    "            print(f\"\\tepoch : {epoch}\")\n",
    "            trn_ret = train_one_epoch(trn_loader, model, optimizer, loss_fn, device, epoch)\n",
    "            val_ret =  valid_one_epoch(val_loader, model, loss_fn, device, epoch)\n",
    "\n",
    "            f1_scores.append(val_ret['valid_f1'])\n",
    "            valid_losses.append(val_ret['valid_loss'])\n",
    "            trained_models.append(val_ret['model'])\n",
    "    \n",
    "    best_model_idx = np.argmax(np.array(f1_scores))\n",
    "    best_models[model_name] = trained_models[best_model_idx]\n",
    "    \n",
    "wandb.finish()"
   ]
  },
  {
   "cell_type": "markdown",
   "metadata": {},
   "source": [
    "# Test"
   ]
  },
  {
   "cell_type": "code",
   "execution_count": 31,
   "metadata": {},
   "outputs": [],
   "source": [
    "tst_loader = DataLoader(\n",
    "    tst_dataset,\n",
    "    batch_size = BATCH_SIZE,\n",
    "    shuffle = False,\n",
    "    num_workers = 0,\n",
    "    pin_memory = True\n",
    ")"
   ]
  },
  {
   "cell_type": "code",
   "execution_count": 34,
   "metadata": {},
   "outputs": [
    {
     "name": "stderr",
     "output_type": "stream",
     "text": [
      "100%|██████████| 99/99 [00:08<00:00, 12.17it/s]\n",
      "100%|██████████| 99/99 [00:08<00:00, 11.37it/s]\n",
      "100%|██████████| 99/99 [00:06<00:00, 14.27it/s]\n",
      "100%|██████████| 99/99 [00:08<00:00, 11.36it/s]\n",
      "100%|██████████| 99/99 [00:09<00:00, 10.59it/s]\n",
      "100%|██████████| 99/99 [00:37<00:00,  2.66it/s]\n"
     ]
    }
   ],
   "source": [
    "for model_name, model in best_models.items():\n",
    "    preds_list = []\n",
    "    model.eval()\n",
    "\n",
    "    for image, _ in tqdm(tst_loader):\n",
    "        image = image.to(device)\n",
    "\n",
    "        with torch.no_grad():\n",
    "            preds = model(image)\n",
    "        preds_list.extend(preds.argmax(dim=1).detach().cpu().numpy())\n",
    "\n",
    "    pred_df = pd.DataFrame(tst_dataset.df, columns=['ID', 'target'])\n",
    "    pred_df['target'] = preds_list\n",
    "    pred_df.to_csv(f\"/upstage-cv-classification-cv2/{model_name}_pred.csv\", index=False)"
   ]
  },
  {
   "cell_type": "markdown",
   "metadata": {},
   "source": [
    "# Result Analyze"
   ]
  },
  {
   "cell_type": "code",
   "execution_count": 33,
   "metadata": {},
   "outputs": [],
   "source": [
    "trn_loader = DataLoader(\n",
    "    trn_dataset,\n",
    "    batch_size = BATCH_SIZE,\n",
    "    shuffle = True,\n",
    "    num_workers = num_workers,\n",
    "    pin_memory = True,\n",
    "    drop_last = False\n",
    ")"
   ]
  },
  {
   "cell_type": "code",
   "execution_count": 36,
   "metadata": {},
   "outputs": [
    {
     "name": "stderr",
     "output_type": "stream",
     "text": [
      "100%|██████████| 50/50 [00:04<00:00, 11.40it/s]\n",
      "100%|██████████| 50/50 [00:04<00:00, 11.28it/s]\n",
      "100%|██████████| 50/50 [00:03<00:00, 13.84it/s]\n",
      "100%|██████████| 50/50 [00:04<00:00, 11.38it/s]\n",
      "100%|██████████| 50/50 [00:04<00:00, 10.60it/s]\n",
      "100%|██████████| 50/50 [00:18<00:00,  2.69it/s]\n"
     ]
    },
    {
     "data": {
      "image/png": "[encoded data removed]",
      "text/plain": [
       "<Figure size 1000x1200 with 6 Axes>"
      ]
     },
     "metadata": {},
     "output_type": "display_data"
    }
   ],
   "source": [
    "import matplotlib.pyplot as plt\n",
    "import seaborn as sns\n",
    "\n",
    "plt.figure(figsize=(10, 12))\n",
    "\n",
    "for idx, (model_name, model) in enumerate(best_models.items()):\n",
    "    preds_list = []\n",
    "    model.eval()\n",
    "\n",
    "    for image, _ in tqdm(trn_loader):\n",
    "        image = image.to(device)\n",
    "\n",
    "        with torch.no_grad():\n",
    "            preds = model(image)\n",
    "        preds_list.extend(preds.argmax(dim=1).detach().cpu().numpy())\n",
    "\n",
    "    pred_df = pd.DataFrame(trn_dataset.df, columns=['ID', 'target'])\n",
    "    pred_df['pred_target'] = preds_list\n",
    "\n",
    "    plt.subplot(2, 3, idx+1)\n",
    "    plt.title(model_name)\n",
    "    sns.histplot(data=pred_df, x = \"target\", y='pred_target', bins=range(11), cbar=True)\n"
   ]
  },
  {
   "cell_type": "code",
   "execution_count": 37,
   "metadata": {},
   "outputs": [
    {
     "ename": "NameError",
     "evalue": "name 'CLIP' is not defined",
     "output_type": "error",
     "traceback": [
      "\u001b[0;31m---------------------------------------------------------------------------\u001b[0m",
      "\u001b[0;31mNameError\u001b[0m                                 Traceback (most recent call last)",
      "Cell \u001b[0;32mIn[37], line 1\u001b[0m\n\u001b[0;32m----> 1\u001b[0m \u001b[43mCLIP\u001b[49m\n\u001b[1;32m      2\u001b[0m Align\n\u001b[1;32m      3\u001b[0m PaLI\n",
      "\u001b[0;31mNameError\u001b[0m: name 'CLIP' is not defined"
     ]
    }
   ],
   "source": [
    "SWIN\n",
    "efficient_b4\n",
    "clip"
   ]
  },
  {
   "cell_type": "code",
   "execution_count": null,
   "metadata": {},
   "outputs": [],
   "source": []
  }
 ],
 "metadata": {
  "kernelspec": {
   "display_name": "myvenv",
   "language": "python",
   "name": "python3"
  },
  "language_info": {
   "codemirror_mode": {
    "name": "ipython",
    "version": 3
   },
   "file_extension": ".py",
   "mimetype": "text/x-python",
   "name": "python",
   "nbconvert_exporter": "python",
   "pygments_lexer": "ipython3",
   "version": "3.10.14"
  }
 },
 "nbformat": 4,
 "nbformat_minor": 2
}
