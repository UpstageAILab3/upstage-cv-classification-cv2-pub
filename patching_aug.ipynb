{
 "cells": [
  {
   "cell_type": "code",
   "execution_count": 4,
   "metadata": {},
   "outputs": [
    {
     "name": "stderr",
     "output_type": "stream",
     "text": [
      "100%|██████████| 1570/1570 [00:07<00:00, 218.37it/s]\n",
      "100%|██████████| 1570/1570 [00:14<00:00, 110.41it/s]"
     ]
    },
    {
     "name": "stdout",
     "output_type": "stream",
     "text": [
      "Augmentation complete and CSV file saved.\n"
     ]
    },
    {
     "name": "stderr",
     "output_type": "stream",
     "text": [
      "\n"
     ]
    }
   ],
   "source": [
    "import os\n",
    "import shutil\n",
    "import pandas as pd\n",
    "import numpy as np\n",
    "from PIL import Image\n",
    "from tqdm import tqdm\n",
    "\n",
    "class ImageDataset:\n",
    "    def __init__(self, csv, directory, target_size=(380, 380)):\n",
    "        self.df = pd.read_csv(csv).values\n",
    "        self.directory = directory\n",
    "        self.target_size = target_size\n",
    "\n",
    "    def __len__(self):\n",
    "        return len(self.df)\n",
    "\n",
    "    def __getitem__(self, idx):\n",
    "        name, target = self.df[idx]\n",
    "        img_path = os.path.join(self.directory, name)\n",
    "        \n",
    "        if not os.path.exists(img_path):\n",
    "            raise FileNotFoundError(f\"Image {name} not found in the directory {self.directory}\")\n",
    "        \n",
    "        img = Image.open(img_path).resize(self.target_size)\n",
    "        img = np.array(img)\n",
    "        return img, target, name\n",
    "\n",
    "class PatchAugmentation:\n",
    "    def __init__(self, max_patch_size=(32, 32)):\n",
    "        self.max_patch_size = max_patch_size\n",
    "\n",
    "    def __call__(self, img1, label1, img2, label2):\n",
    "        h, w, _ = img1.shape\n",
    "        ph, pw = min(self.max_patch_size[0], h), min(self.max_patch_size[1], w)\n",
    "        \n",
    "        x, y = np.random.randint(0, w - pw + 1), np.random.randint(0, h - ph + 1)\n",
    "        \n",
    "        img1[y:y + ph, x:x + pw] = img2[y:y + ph, x:x + pw]\n",
    "        combined_label = label1  # Keep the label of the base image\n",
    "        return img1, combined_label\n",
    "\n",
    "# Paths\n",
    "csv_path = 'dj/data/train.csv'\n",
    "image_dir = 'dj/data/train/'\n",
    "output_dir = 'dj/data/train_augmented/'\n",
    "\n",
    "# Create output directory if it doesn't exist\n",
    "os.makedirs(output_dir, exist_ok=True)\n",
    "\n",
    "# Load dataset\n",
    "dataset = ImageDataset(csv_path, image_dir)\n",
    "patch_augmenter = PatchAugmentation(max_patch_size=(32, 32))\n",
    "\n",
    "# New CSV file\n",
    "new_csv_data = []\n",
    "\n",
    "# Copy original images and update new CSV\n",
    "for i in tqdm(range(len(dataset))):\n",
    "    img, label, name = dataset[i]\n",
    "    \n",
    "    # Save original image to augmented directory\n",
    "    original_img_path = os.path.join(image_dir, name)\n",
    "    new_img_path = os.path.join(output_dir, name)\n",
    "    shutil.copy(original_img_path, new_img_path)\n",
    "    \n",
    "    # Append to new CSV data\n",
    "    new_csv_data.append([name, label])\n",
    "\n",
    "# Augmentation loop\n",
    "for i in tqdm(range(len(dataset))):\n",
    "    img1, label1, name1 = dataset[i]\n",
    "    \n",
    "    # Select a random second image\n",
    "    idx2 = np.random.randint(0, len(dataset))\n",
    "    img2, label2, name2 = dataset[idx2]\n",
    "    \n",
    "    # Apply patch augmentation\n",
    "    augmented_img, augmented_label = patch_augmenter(img1, label1, img2, label2)\n",
    "    \n",
    "    # Convert augmented image back to PIL Image\n",
    "    augmented_img_pil = Image.fromarray(augmented_img.astype(np.uint8))\n",
    "    \n",
    "    # Save augmented image\n",
    "    new_name = f\"patch_{name1}\"\n",
    "    augmented_img_pil.save(os.path.join(output_dir, new_name))\n",
    "    \n",
    "    # Append to new CSV data\n",
    "    new_csv_data.append([new_name, augmented_label])\n",
    "\n",
    "# Save new CSV file\n",
    "new_csv_df = pd.DataFrame(new_csv_data, columns=['ID', 'target'])\n",
    "new_csv_df.to_csv('dj/data/train_augmented.csv', index=False)\n",
    "\n",
    "print(\"Augmentation complete and CSV file saved.\")\n"
   ]
  },
  {
   "cell_type": "code",
   "execution_count": null,
   "metadata": {},
   "outputs": [],
   "source": []
  }
 ],
 "metadata": {
  "language_info": {
   "name": "python"
  }
 },
 "nbformat": 4,
 "nbformat_minor": 2
}
