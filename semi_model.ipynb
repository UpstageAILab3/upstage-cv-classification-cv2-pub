{
 "cells": [
  {
   "cell_type": "code",
   "execution_count": 2,
   "metadata": {},
   "outputs": [
    {
     "name": "stderr",
     "output_type": "stream",
     "text": [
      "INFO:albumentations.check_version:A new version of Albumentations is available: 1.4.13 (you have 1.4.12). Upgrade using: pip install -U albumentations. To disable automatic update checks, set the environment variable NO_ALBUMENTATIONS_UPDATE to 1.\n"
     ]
    }
   ],
   "source": [
    "import os\n",
    "import gc\n",
    "\n",
    "import timm\n",
    "import torch\n",
    "import albumentations as A\n",
    "import pandas as pd\n",
    "import numpy as np\n",
    "import torch.nn as nn\n",
    "\n",
    "from albumentations.pytorch import ToTensorV2\n",
    "from torch.optim import Adam\n",
    "from torch.utils.data import Dataset, DataLoader\n",
    "\n",
    "from PIL import Image\n",
    "from tqdm import tqdm\n",
    "from sklearn.metrics import accuracy_score, f1_score, classification_report, confusion_matrix\n",
    "\n",
    "import matplotlib.pyplot as plt\n",
    "import seaborn as sns\n",
    "\n",
    "import wandb"
   ]
  },
  {
   "cell_type": "code",
   "execution_count": 12,
   "metadata": {},
   "outputs": [],
   "source": [
    "# device\n",
    "device = torch.device('cuda' if torch.cuda.is_available() else 'cpu')\n",
    "\n",
    "PRE_PATH = '/upstage-cv-classification-cv2/data/'\n",
    "\n",
    "# PATH\n",
    "TRAIN_AUG_CSV_PATH = PRE_PATH + 'train_semi_aug2.csv'\n",
    "TRAIN_AUG_IMAGE_PATH = PRE_PATH + 'train_semi_aug2'\n",
    "\n",
    "VALID_CSV_PATH = PRE_PATH + 'valid.csv'\n",
    "VALID_IMAGE_PATH = PRE_PATH + 'valid'\n",
    "\n",
    "TEST_CSV_PATH = PRE_PATH + 'sample_submission.csv'\n",
    "TEST_IMAGE_PATH = PRE_PATH + 'test'\n",
    "\n",
    "RESULT_CSV_PATH = PRE_PATH + 'results/train_semi_aug2.csv'\n",
    "\n",
    "WANDB_PROJECT_NAME = 'SEMI'\n",
    "WANDB_RUN_NAME = 'train & test37_agu'"
   ]
  },
  {
   "cell_type": "markdown",
   "metadata": {},
   "source": [
    "# HyperParameter"
   ]
  },
  {
   "cell_type": "code",
   "execution_count": 4,
   "metadata": {},
   "outputs": [],
   "source": [
    "# training config\n",
    "img_size = 380\n",
    "LR = 1e-3\n",
    "EPOCHS = 1\n",
    "BATCH_SIZE = 32\n",
    "num_workers = 0\n",
    "\n",
    "patience = 5\n",
    "min_delta = 0.001 # 성능 개선의 최소 변화량"
   ]
  },
  {
   "cell_type": "code",
   "execution_count": 5,
   "metadata": {},
   "outputs": [
    {
     "name": "stdout",
     "output_type": "stream",
     "text": [
      "52160 3140\n"
     ]
    }
   ],
   "source": [
    "# test image 변환\n",
    "data_transform = A.Compose([\n",
    "    A.Resize(height = img_size, width = img_size),\n",
    "    A.Normalize(mean=[0.485, 0.456, 0.406], std = [0.229, 0.224, 0.225]),\n",
    "    ToTensorV2()\n",
    "])\n",
    "\n",
    "class ImageDataset(Dataset):\n",
    "    def __init__(self, csv, path, transform=None):\n",
    "        self.df = pd.read_csv(csv).values\n",
    "        self.path = path\n",
    "        self.transform = transform\n",
    "\n",
    "    def __len__(self):\n",
    "        return len(self.df)\n",
    "    \n",
    "    def __getitem__(self, idx):\n",
    "        name, target = self.df[idx]\n",
    "        img = np.array(Image.open(os.path.join(self.path, name)))\n",
    "        if self.transform:\n",
    "            img = self.transform(image = img)['image']\n",
    "    \n",
    "        return img, target\n",
    "\n",
    "    def get_labels(self):\n",
    "        return self.df[:, 1] \n",
    "\n",
    "trn_dataset = ImageDataset(\n",
    "    TRAIN_AUG_CSV_PATH,\n",
    "    TRAIN_AUG_IMAGE_PATH,\n",
    "    transform = data_transform\n",
    ")\n",
    "\n",
    "val_dataset = ImageDataset(\n",
    "    VALID_CSV_PATH,\n",
    "    VALID_IMAGE_PATH,\n",
    "    transform = data_transform\n",
    ")\n",
    "\n",
    "tst_dataset = ImageDataset(\n",
    "    TEST_CSV_PATH,\n",
    "    TEST_IMAGE_PATH,\n",
    "    transform = data_transform\n",
    ")\n",
    "\n",
    "labels = trn_dataset.get_labels()\n",
    "labels = labels.astype(int)\n",
    "\n",
    "# DataLoader\n",
    "trn_loader = DataLoader(\n",
    "    trn_dataset,\n",
    "    batch_size = BATCH_SIZE,\n",
    "    shuffle = True,\n",
    "    num_workers = num_workers,\n",
    "    pin_memory = True,\n",
    "    drop_last = False\n",
    ")\n",
    "\n",
    "val_loader = DataLoader(\n",
    "    val_dataset,\n",
    "    batch_size = BATCH_SIZE,\n",
    "    num_workers = 0,\n",
    "    pin_memory = True,\n",
    "    drop_last = False\n",
    ")\n",
    "\n",
    "tst_loader = DataLoader(\n",
    "    tst_dataset,\n",
    "    batch_size = BATCH_SIZE,\n",
    "    shuffle = False,\n",
    "    num_workers = 0,\n",
    "    pin_memory = True\n",
    ")\n",
    "\n",
    "print(len(trn_dataset), len(tst_dataset))"
   ]
  },
  {
   "cell_type": "markdown",
   "metadata": {},
   "source": [
    "# Model"
   ]
  },
  {
   "cell_type": "code",
   "execution_count": 6,
   "metadata": {},
   "outputs": [
    {
     "name": "stderr",
     "output_type": "stream",
     "text": [
      "INFO:timm.models._builder:Loading pretrained weights from Hugging Face hub (timm/efficientnet_b4.ra2_in1k)\n",
      "INFO:timm.models._hub:[timm/efficientnet_b4.ra2_in1k] Safe alternative available for 'pytorch_model.bin' (as 'model.safetensors'). Loading weights using safetensors.\n",
      "INFO:timm.models._builder:Missing keys (classifier.weight, classifier.bias) discovered while loading pretrained weights. This is expected if model is being adapted.\n"
     ]
    }
   ],
   "source": [
    "torch.cuda.empty_cache()\n",
    "gc.collect()\n",
    "\n",
    "# model\n",
    "model = timm.create_model('efficientnet_b4',\n",
    "                        pretrained=True,\n",
    "                        num_classes = 17).to(device)\n",
    "\n",
    "loss_fn = nn.CrossEntropyLoss()\n",
    "optimizer = Adam(model.parameters(), lr = LR)\n"
   ]
  },
  {
   "cell_type": "code",
   "execution_count": 7,
   "metadata": {},
   "outputs": [],
   "source": [
    "def valid_one_epoch(loader, model, loss_fn, device, epoch):\n",
    "    model.eval()\n",
    "    valid_loss = 0\n",
    "\n",
    "    preds_list =[]\n",
    "    targets_list = []\n",
    "\n",
    "    with torch.no_grad():\n",
    "        pbar = tqdm(loader)\n",
    "        for step, (image, targets) in enumerate(pbar):\n",
    "            image = image.to(device)\n",
    "            targets = targets.to(device)\n",
    "\n",
    "            preds = model(image)\n",
    "            loss = loss_fn(preds, targets)\n",
    "       \n",
    "            valid_loss += loss.item()\n",
    "        \n",
    "            preds_list.extend(preds.argmax(dim=1).detach().cpu().numpy())\n",
    "            targets_list.extend(targets.detach().cpu().numpy())\n",
    "\n",
    "            pbar.set_description(f\"Loss: {loss.item():.4f}\")\n",
    "\n",
    "            wandb.log({\n",
    "                \"valid_step\" : epoch * len(loader) + step,\n",
    "                \"valid_loss_step\" : loss.item()\n",
    "            })\n",
    "\n",
    "    valid_loss /= len(loader)\n",
    "    valid_acc = accuracy_score(targets_list, preds_list)\n",
    "    valid_f1 = f1_score(targets_list, preds_list, average = 'macro')\n",
    "\n",
    "    ret = {\n",
    "        \"epoch\" : epoch,\n",
    "        \"valid_loss\" : valid_loss,\n",
    "        \"valid_acc\" : valid_acc,\n",
    "        \"valid_f1\" : valid_f1\n",
    "    }\n",
    "\n",
    "    wandb.log({\n",
    "        \"valid_epoch\" : epoch,\n",
    "        \"val_loss_epoch\" : valid_loss,\n",
    "        \"val_acc\" : valid_acc,\n",
    "        \"val_f1\" : valid_f1\n",
    "    })\n",
    "\n",
    "    return ret"
   ]
  },
  {
   "cell_type": "code",
   "execution_count": 8,
   "metadata": {},
   "outputs": [],
   "source": [
    "# one epoch 학습\n",
    "def train_one_epoch(train_loader, model, optimizer, loss_fn, device, epoch):    \n",
    "    model.train()\n",
    "    train_loss = 0\n",
    "    preds_list =[]\n",
    "    targets_list = []\n",
    "\n",
    "    pbar = tqdm(train_loader)\n",
    "    for step, (image, targets) in enumerate(pbar):\n",
    "        image = image.to(device)\n",
    "        targets = targets.to(device)\n",
    "\n",
    "        optimizer.zero_grad()\n",
    "\n",
    "        preds = model(image)\n",
    "        loss = loss_fn(preds, targets)\n",
    "        loss.backward()\n",
    "        optimizer.step()\n",
    "\n",
    "        train_loss += loss.item()\n",
    "        \n",
    "        preds_list.extend(preds.argmax(dim=1).detach().cpu().numpy())\n",
    "        targets_list.extend(targets.detach().cpu().numpy())\n",
    "\n",
    "        pbar.set_description(f\"Loss: {loss.item():.4f}\")\n",
    "\n",
    "        wandb.log({\n",
    "            \"train_step\" : epoch * len(train_loader) + step,\n",
    "            \"train_loss_step\" : loss.item()\n",
    "        })\n",
    "\n",
    "     \n",
    "        \n",
    "    train_loss /= len(train_loader)\n",
    "    train_acc = accuracy_score(targets_list, preds_list)\n",
    "    train_f1 = f1_score(targets_list, preds_list, average = 'macro')\n",
    "\n",
    "    ret = {\n",
    "        \"model\" : model,\n",
    "        \"train_epoch\" : epoch,\n",
    "        \"train_loss\" : train_loss,\n",
    "        \"tarin_acc\" : train_acc,\n",
    "        \"train_f1\" : train_f1\n",
    "    }\n",
    "\n",
    "    wandb.log({\n",
    "        \"train_epoch\" : epoch,\n",
    "        \"train_loss_epoch\" : train_loss,\n",
    "        \"train_acc\" : train_acc,\n",
    "        \"train_f1\" : train_f1\n",
    "    })\n",
    "\n",
    "    return ret"
   ]
  },
  {
   "cell_type": "code",
   "execution_count": 9,
   "metadata": {},
   "outputs": [
    {
     "name": "stdout",
     "output_type": "stream",
     "text": [
      "0 epoch\n"
     ]
    },
    {
     "name": "stderr",
     "output_type": "stream",
     "text": [
      "Loss: 0.0006: 100%|██████████| 1630/1630 [10:27<00:00,  2.60it/s]\n",
      "Loss: 0.2651: 100%|██████████| 10/10 [00:01<00:00,  6.10it/s]"
     ]
    },
    {
     "name": "stdout",
     "output_type": "stream",
     "text": [
      "valid loss : 0.548398444056511\n",
      "valid f1 : 0.8899152929873339\n",
      "성능 개선 됨 : 0.548398444056511 > 0.999\n"
     ]
    },
    {
     "name": "stderr",
     "output_type": "stream",
     "text": [
      "\n"
     ]
    }
   ],
   "source": [
    "os.environ['WANDB_SILENT'] = 'true'\n",
    "\n",
    "f1_scores = []\n",
    "valid_losses = []\n",
    "trained_models = []\n",
    "patience_counter = 0\n",
    "best_loss = 1\n",
    "\n",
    "wandb.init(project=WANDB_PROJECT_NAME, name=WANDB_RUN_NAME)\n",
    "\n",
    "for epoch in range(EPOCHS):\n",
    "    print(f\"{epoch} epoch\")\n",
    "    trn_ret = train_one_epoch(trn_loader, model, optimizer, loss_fn, device, epoch)\n",
    "    val_ret =  valid_one_epoch(val_loader, model, loss_fn, device, epoch)\n",
    "\n",
    "    f1_scores.append(val_ret['valid_f1'])\n",
    "    valid_losses.append(val_ret['valid_loss'])\n",
    "    trained_models.append(model)\n",
    "\n",
    "    print(f\"valid loss : {val_ret['valid_loss']}\")\n",
    "    print(f\"valid f1 : {val_ret['valid_f1']}\")\n",
    "\n",
    "    # 성능 개선 됨\n",
    "    if val_ret['valid_loss'] < best_loss - min_delta:\n",
    "        print(f\"성능 개선 됨 : {val_ret['valid_loss']} > {best_loss - min_delta}\")\n",
    "        best_loss = val_ret['valid_loss']\n",
    "        patience_counter = 0  \n",
    "        \n",
    "    # 성능 개선 되지 않음\n",
    "    else:\n",
    "        patience_counter += 1  \n",
    "        print(f\"성능 개선 안됨 : {val_ret['valid_loss']} > {best_loss - min_delta}\")\n",
    "        print(f\"patience counter : {patience_counter}\")\n",
    "\n",
    "    # 성능 개선이 patience 만큼 안되면 학습 중단\n",
    "    if patience_counter >= patience:\n",
    "        print(f\"Early stopping at epoch {epoch}\")\n",
    "        break"
   ]
  },
  {
   "cell_type": "markdown",
   "metadata": {},
   "source": [
    "# Model Test"
   ]
  },
  {
   "cell_type": "code",
   "execution_count": 10,
   "metadata": {},
   "outputs": [],
   "source": [
    "best_model_idx = np.argmax(np.array(f1_scores))\n",
    "best_model = trained_models[best_model_idx]"
   ]
  },
  {
   "cell_type": "code",
   "execution_count": 13,
   "metadata": {},
   "outputs": [
    {
     "name": "stderr",
     "output_type": "stream",
     "text": [
      "100%|██████████| 99/99 [00:16<00:00,  6.07it/s]\n"
     ]
    }
   ],
   "source": [
    "preds_list = []\n",
    "\n",
    "best_model.eval()\n",
    "\n",
    "for image, _ in tqdm(tst_loader):\n",
    "    image = image.to(device)\n",
    "\n",
    "    with torch.no_grad():\n",
    "        preds = best_model(image)\n",
    "        \n",
    "    preds_list.extend(preds.argmax(dim=1).detach().cpu().numpy())\n",
    "\n",
    "pred_df = pd.DataFrame(tst_dataset.df, columns=['ID', 'target'])\n",
    "pred_df['target'] = preds_list\n",
    "pred_df.to_csv(f\"{RESULT_CSV_PATH}\", index=False)"
   ]
  },
  {
   "cell_type": "markdown",
   "metadata": {},
   "source": [
    "# 모델 결과 분석"
   ]
  },
  {
   "cell_type": "code",
   "execution_count": 14,
   "metadata": {},
   "outputs": [
    {
     "name": "stderr",
     "output_type": "stream",
     "text": [
      "Loss: 0.2651: 100%|██████████| 10/10 [00:01<00:00,  6.43it/s]\n"
     ]
    }
   ],
   "source": [
    "valid_preds_list = []\n",
    "valid_targets_list = []\n",
    "valid_probs_list = []\n",
    "\n",
    "loss_fn = nn.CrossEntropyLoss()\n",
    "optimizer = Adam(model.parameters(), lr = LR)\n",
    "\n",
    "model.eval()\n",
    "\n",
    "with torch.no_grad():\n",
    "    pbar = tqdm(val_loader)\n",
    "    for step, (image, targets) in enumerate(pbar):\n",
    "        image = image.to(device)\n",
    "        targets = targets.to(device)\n",
    "\n",
    "        outputs = model(image)\n",
    "        loss = loss_fn(outputs, targets)\n",
    "\n",
    "        probs = torch.softmax(outputs, dim=1)\n",
    "        probs, preds = torch.max(probs, dim=1)\n",
    "    \n",
    "        valid_preds_list.extend(preds.detach().cpu().numpy())\n",
    "        valid_targets_list.extend(targets.detach().cpu().numpy())\n",
    "        valid_probs_list.extend(probs.detach().cpu().numpy())\n",
    "\n",
    "        pbar.set_description(f\"Loss: {loss.item():.4f}\")"
   ]
  },
  {
   "cell_type": "code",
   "execution_count": 15,
   "metadata": {},
   "outputs": [
    {
     "name": "stderr",
     "output_type": "stream",
     "text": [
      "Loss: 18.7981: 100%|██████████| 99/99 [00:15<00:00,  6.27it/s]\n"
     ]
    }
   ],
   "source": [
    "test_preds_list = []\n",
    "test_probs_list = []\n",
    "test_preds_second_list = []\n",
    "test_probs_second_list = []\n",
    "\n",
    "loss_fn = nn.CrossEntropyLoss()\n",
    "optimizer = Adam(model.parameters(), lr = LR)\n",
    "\n",
    "model.eval()\n",
    "\n",
    "with torch.no_grad():\n",
    "    pbar = tqdm(tst_loader)\n",
    "    for step, (image, targets) in enumerate(pbar):\n",
    "        image = image.to(device)\n",
    "        targets = targets.to(device)\n",
    "\n",
    "        outputs = model(image)\n",
    "        loss = loss_fn(outputs, targets)\n",
    "\n",
    "        probs = torch.softmax(outputs, dim=1)\n",
    "        \n",
    "        # 최댓값과 두 번째로 큰 값 가져오기\n",
    "        top_probs, top_indices = torch.topk(probs, 2, dim=1)\n",
    "        \n",
    "        # 최댓 확률값과 예측 클래스 인덱스\n",
    "        max_probs = top_probs[:, 0]\n",
    "        preds = top_indices[:, 0]\n",
    "        \n",
    "        # 두 번째로 큰 확률값과 클래스 인덱스\n",
    "        second_probs = top_probs[:, 1]\n",
    "        second_preds = top_indices[:, 1]\n",
    "\n",
    "        # 제일 확률 높은 데이터\n",
    "        test_preds_list.extend(preds.detach().cpu().numpy()) \n",
    "        test_probs_list.extend(max_probs.detach().cpu().numpy())\n",
    "\n",
    "        # 두번째 확률 높은 데이터  \n",
    "        test_preds_second_list.extend(second_preds.detach().cpu().numpy())\n",
    "        test_probs_second_list.extend(second_probs.detach().cpu().numpy())\n",
    "\n",
    "        pbar.set_description(f\"Loss: {loss.item():.4f}\")\n",
    "\n"
   ]
  },
  {
   "cell_type": "code",
   "execution_count": 16,
   "metadata": {},
   "outputs": [
    {
     "data": {
      "text/html": [
       "<div>\n",
       "<style scoped>\n",
       "    .dataframe tbody tr th:only-of-type {\n",
       "        vertical-align: middle;\n",
       "    }\n",
       "\n",
       "    .dataframe tbody tr th {\n",
       "        vertical-align: top;\n",
       "    }\n",
       "\n",
       "    .dataframe thead th {\n",
       "        text-align: right;\n",
       "    }\n",
       "</style>\n",
       "<table border=\"1\" class=\"dataframe\">\n",
       "  <thead>\n",
       "    <tr style=\"text-align: right;\">\n",
       "      <th></th>\n",
       "      <th>first_pred</th>\n",
       "      <th>first_prob</th>\n",
       "      <th>second_pred</th>\n",
       "      <th>second_prob</th>\n",
       "    </tr>\n",
       "  </thead>\n",
       "  <tbody>\n",
       "    <tr>\n",
       "      <th>0</th>\n",
       "      <td>2</td>\n",
       "      <td>0.999999</td>\n",
       "      <td>0</td>\n",
       "      <td>9.297884e-07</td>\n",
       "    </tr>\n",
       "    <tr>\n",
       "      <th>1</th>\n",
       "      <td>12</td>\n",
       "      <td>1.000000</td>\n",
       "      <td>6</td>\n",
       "      <td>7.143623e-09</td>\n",
       "    </tr>\n",
       "    <tr>\n",
       "      <th>2</th>\n",
       "      <td>5</td>\n",
       "      <td>1.000000</td>\n",
       "      <td>4</td>\n",
       "      <td>4.965795e-11</td>\n",
       "    </tr>\n",
       "    <tr>\n",
       "      <th>3</th>\n",
       "      <td>3</td>\n",
       "      <td>0.496328</td>\n",
       "      <td>13</td>\n",
       "      <td>3.344945e-01</td>\n",
       "    </tr>\n",
       "    <tr>\n",
       "      <th>4</th>\n",
       "      <td>2</td>\n",
       "      <td>0.999997</td>\n",
       "      <td>11</td>\n",
       "      <td>6.628844e-07</td>\n",
       "    </tr>\n",
       "    <tr>\n",
       "      <th>...</th>\n",
       "      <td>...</td>\n",
       "      <td>...</td>\n",
       "      <td>...</td>\n",
       "      <td>...</td>\n",
       "    </tr>\n",
       "    <tr>\n",
       "      <th>3135</th>\n",
       "      <td>6</td>\n",
       "      <td>0.999511</td>\n",
       "      <td>7</td>\n",
       "      <td>2.858152e-04</td>\n",
       "    </tr>\n",
       "    <tr>\n",
       "      <th>3136</th>\n",
       "      <td>10</td>\n",
       "      <td>1.000000</td>\n",
       "      <td>6</td>\n",
       "      <td>1.215626e-08</td>\n",
       "    </tr>\n",
       "    <tr>\n",
       "      <th>3137</th>\n",
       "      <td>8</td>\n",
       "      <td>1.000000</td>\n",
       "      <td>0</td>\n",
       "      <td>1.335091e-11</td>\n",
       "    </tr>\n",
       "    <tr>\n",
       "      <th>3138</th>\n",
       "      <td>0</td>\n",
       "      <td>0.999987</td>\n",
       "      <td>13</td>\n",
       "      <td>6.317595e-06</td>\n",
       "    </tr>\n",
       "    <tr>\n",
       "      <th>3139</th>\n",
       "      <td>12</td>\n",
       "      <td>1.000000</td>\n",
       "      <td>15</td>\n",
       "      <td>2.480674e-09</td>\n",
       "    </tr>\n",
       "  </tbody>\n",
       "</table>\n",
       "<p>3140 rows × 4 columns</p>\n",
       "</div>"
      ],
      "text/plain": [
       "      first_pred  first_prob  second_pred   second_prob\n",
       "0              2    0.999999            0  9.297884e-07\n",
       "1             12    1.000000            6  7.143623e-09\n",
       "2              5    1.000000            4  4.965795e-11\n",
       "3              3    0.496328           13  3.344945e-01\n",
       "4              2    0.999997           11  6.628844e-07\n",
       "...          ...         ...          ...           ...\n",
       "3135           6    0.999511            7  2.858152e-04\n",
       "3136          10    1.000000            6  1.215626e-08\n",
       "3137           8    1.000000            0  1.335091e-11\n",
       "3138           0    0.999987           13  6.317595e-06\n",
       "3139          12    1.000000           15  2.480674e-09\n",
       "\n",
       "[3140 rows x 4 columns]"
      ]
     },
     "execution_count": 16,
     "metadata": {},
     "output_type": "execute_result"
    }
   ],
   "source": [
    "test_result_df = pd.DataFrame()\n",
    "test_result_df['first_pred'] = test_preds_list\n",
    "test_result_df['first_prob'] = test_probs_list\n",
    "test_result_df['second_pred'] = test_preds_second_list\n",
    "test_result_df['second_prob'] = test_probs_second_list\n",
    "test_result_df"
   ]
  },
  {
   "cell_type": "code",
   "execution_count": 18,
   "metadata": {},
   "outputs": [
    {
     "data": {
      "text/plain": [
       "<Axes: xlabel='second_pred', ylabel='first_pred'>"
      ]
     },
     "execution_count": 18,
     "metadata": {},
     "output_type": "execute_result"
    },
    {
     "data": {
      "image/png": "[encoded data removed]",
      "text/plain": [
       "<Figure size 640x480 with 2 Axes>"
      ]
     },
     "metadata": {},
     "output_type": "display_data"
    }
   ],
   "source": [
    "temp_df = test_result_df[(test_result_df['first_prob'] - test_result_df['second_prob']) < 0.3].sort_values(by='first_prob')\n",
    "crosstab = pd.crosstab(temp_df['first_pred'], temp_df['second_pred'])\n",
    "\n",
    "sns.heatmap(data = crosstab, annot=True)"
   ]
  },
  {
   "cell_type": "code",
   "execution_count": 21,
   "metadata": {},
   "outputs": [
    {
     "name": "stdout",
     "output_type": "stream",
     "text": [
      "Classification Report:\n",
      "              precision    recall  f1-score   support\n",
      "\n",
      "           0       1.00      1.00      1.00        20\n",
      "           1       1.00      1.00      1.00        13\n",
      "           2       1.00      1.00      1.00        20\n",
      "           3       0.55      0.50      0.52        12\n",
      "           4       0.73      0.94      0.82        17\n",
      "           5       0.94      1.00      0.97        16\n",
      "           6       1.00      0.86      0.93        29\n",
      "           7       0.75      0.60      0.67        20\n",
      "           8       1.00      0.94      0.97        16\n",
      "           9       1.00      1.00      1.00        12\n",
      "          10       0.83      1.00      0.91        20\n",
      "          11       1.00      0.85      0.92        13\n",
      "          12       0.96      1.00      0.98        22\n",
      "          13       1.00      1.00      1.00        17\n",
      "          14       0.93      0.93      0.93        14\n",
      "          15       1.00      1.00      1.00        19\n",
      "          16       0.94      1.00      0.97        16\n",
      "\n",
      "    accuracy                           0.92       296\n",
      "   macro avg       0.92      0.92      0.92       296\n",
      "weighted avg       0.92      0.92      0.92       296\n",
      "\n"
     ]
    }
   ],
   "source": [
    "print(\"Classification Report:\")\n",
    "report = classification_report(valid_targets_list, valid_preds_list, target_names=[str(i) for i in range(17)])\n",
    "print(report)"
   ]
  }
 ],
 "metadata": {
  "kernelspec": {
   "display_name": "myvenv",
   "language": "python",
   "name": "python3"
  },
  "language_info": {
   "codemirror_mode": {
    "name": "ipython",
    "version": 3
   },
   "file_extension": ".py",
   "mimetype": "text/x-python",
   "name": "python",
   "nbconvert_exporter": "python",
   "pygments_lexer": "ipython3",
   "version": "3.10.14"
  }
 },
 "nbformat": 4,
 "nbformat_minor": 2
}
