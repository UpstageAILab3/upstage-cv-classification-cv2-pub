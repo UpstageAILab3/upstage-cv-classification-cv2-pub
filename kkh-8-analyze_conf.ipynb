{
 "cells": [
  {
   "cell_type": "code",
   "execution_count": 10,
   "metadata": {},
   "outputs": [],
   "source": [
    "import logging\n",
    "import timm\n",
    "import os\n",
    "import random\n",
    "import torch\n",
    "import pandas as pd\n",
    "import numpy as np\n",
    "from albumentations.pytorch import ToTensorV2\n",
    "import albumentations as A\n",
    "from PIL import Image\n",
    "from tqdm import tqdm\n",
    "from torch.utils.data import Dataset, DataLoader\n",
    "from sklearn.metrics import f1_score\n",
    "import platform\n",
    "\n",
    "os_name = platform.system()\n",
    "if os_name == 'Windows':\n",
    "    PRE_PATH = ''\n",
    "elif os_name == 'Linux':\n",
    "    PRE_PATH = '/kkh/'\n",
    "elif os_name == 'Darwin': # 맥\n",
    "    PRE_PATH = '/kkh/'\n",
    "    \n",
    "TRAIN_KR_IMAGE_PATH = PRE_PATH + 'data/train_kr'\n",
    "TRAIN_KR_CSV_PATH = PRE_PATH + 'data/train_kr.csv'\n",
    "MODEL_FILE = PRE_PATH + 'submission/0.9190/' + 'efficientnet_b4_Ep7_L_0.5274_A_0.9054_F1_0.9024.pt'\n",
    "MODEL_SAVE_PATH = PRE_PATH + 'evaluation/'\n",
    "\n",
    "SEED = 42\n",
    "os.environ['PYTHONHASHSEED'] = str(SEED)\n",
    "random.seed(SEED)\n",
    "np.random.seed(SEED)\n",
    "torch.manual_seed(SEED)\n",
    "torch.cuda.manual_seed(SEED)\n",
    "torch.cuda.manual_seed_all(SEED)\n",
    "torch.backends.cudnn.benchmark = True\n",
    "device = torch.device('cuda' if torch.cuda.is_available() else 'cpu')\n",
    "\n",
    "NUM_CLASSES = 17\n",
    "BATCH_SIZE = 32\n",
    "NUM_WORKERS = 0  # 일단 0으로 설정하여 단일 프로세스로 수행"
   ]
  },
  {
   "cell_type": "code",
   "execution_count": 11,
   "metadata": {},
   "outputs": [],
   "source": [
    "def create_directory_with_backup(path):\n",
    "    try:\n",
    "        if os.path.exists(path):\n",
    "            backup_path = path + '_backup'\n",
    "            os.rename(path, backup_path)\n",
    "            print(f\"Existing folder renamed to: {backup_path}\")\n",
    "        os.makedirs(path)\n",
    "        print(f\"Folder created: {path}\")\n",
    "    except Exception as e:\n",
    "        print(f\"An error occurred: {e}\")\n",
    "\n",
    "# Dataset class 정의\n",
    "class ImageDataset(Dataset):\n",
    "    def __init__(self, df, image_path, transform=None):\n",
    "        self.df = df\n",
    "        self.image_path = image_path\n",
    "        self.transform = transform\n",
    "\n",
    "    def __len__(self):\n",
    "        return len(self.df)\n",
    "\n",
    "    def __getitem__(self, idx):\n",
    "        try:\n",
    "            name, target = self.df.iloc[idx]\n",
    "            img = np.array(Image.open(os.path.join(self.image_path, name)).convert(\"RGB\"))\n",
    "\n",
    "            # 변환 적용\n",
    "            if self.transform:\n",
    "                img = self.transform(image=img)['image']\n",
    "\n",
    "            return img, target\n",
    "\n",
    "        except Exception as e:\n",
    "            print(f\"Error loading image {self.df.iloc[idx, 0]}: {e}\")\n",
    "            return torch.zeros(3, 380, 380), -1\n",
    "\n",
    "# 이미지 변환 설정\n",
    "def get_transforms():\n",
    "    valid_transform = A.Compose([\n",
    "        A.Resize(380, 380),\n",
    "        A.Normalize(mean=[0.485, 0.456, 0.406], std=[0.229, 0.224, 0.225]),\n",
    "        ToTensorV2()\n",
    "    ])\n",
    "    return valid_transform\n",
    "\n",
    "# 특정 클래스에 대한 confidence 계산 및 출력\n",
    "def calculate_class_confidence(model, loader, target_class):\n",
    "    model.eval()\n",
    "    results = []\n",
    "    with torch.no_grad():\n",
    "        tbar = tqdm(loader, desc=\"Calculating Confidence\")\n",
    "        for images, targets in tbar:\n",
    "            images = images.to(device)\n",
    "            outputs = model(images)\n",
    "            confidences = torch.softmax(outputs, dim=1)\n",
    "            target_confidences = confidences[:, target_class].detach().cpu().numpy()\n",
    "            for idx, confidence in enumerate(target_confidences):\n",
    "                results.append((loader.dataset.df.iloc[idx, 0], confidence))\n",
    "    \n",
    "    results = sorted(results, key=lambda x: x[1], reverse=True)\n",
    "    for filename, confidence in results:\n",
    "        if confidence < 0.8:\n",
    "            print(f\"Image: {filename}, Confidence: {confidence:.4f}\")\n",
    "\n",
    "# 메인 함수\n",
    "def run_confidence_check(target_class):\n",
    "    train_df = pd.read_csv(TRAIN_KR_CSV_PATH)\n",
    "\n",
    "    # 클래스가 3인 이미지들만 필터링\n",
    "    target_df = train_df[train_df['target'] == target_class]\n",
    "\n",
    "    valid_transform = get_transforms()\n",
    "\n",
    "    train_dataset = ImageDataset(target_df, TRAIN_KR_IMAGE_PATH, transform=valid_transform)\n",
    "    train_loader = DataLoader(train_dataset, batch_size=BATCH_SIZE, shuffle=False, num_workers=NUM_WORKERS)\n",
    "\n",
    "    model_name = 'tf_efficientnet_b4'\n",
    "    model = timm.create_model(model_name, pretrained=False, num_classes=NUM_CLASSES, in_chans=3)\n",
    "\n",
    "    # map_location 인자를 사용하여 모델을 CPU에서 로드\n",
    "    model.load_state_dict(torch.load(MODEL_FILE, map_location=device))\n",
    "    model = model.to(device)\n",
    "\n",
    "    # 특정 클래스에 대한 confidence 계산 및 출력\n",
    "    calculate_class_confidence(model, train_loader, target_class)"
   ]
  },
  {
   "cell_type": "code",
   "execution_count": 12,
   "metadata": {},
   "outputs": [
    {
     "name": "stderr",
     "output_type": "stream",
     "text": [
      "Calculating Confidence: 100%|██████████| 4/4 [00:24<00:00,  6.06s/it]\n"
     ]
    },
    {
     "name": "stdout",
     "output_type": "stream",
     "text": [
      "Image: 108c622ecd7a9ea0_계좌번호.jpg, Confidence: 0.7737\n",
      "Image: 07a0a849cab135e0_계좌번호.jpg, Confidence: 0.7231\n"
     ]
    },
    {
     "name": "stderr",
     "output_type": "stream",
     "text": [
      "Calculating Confidence: 100%|██████████| 2/2 [00:10<00:00,  5.35s/it]\n",
      "Calculating Confidence: 100%|██████████| 4/4 [00:23<00:00,  5.94s/it]\n",
      "Calculating Confidence: 100%|██████████| 4/4 [00:24<00:00,  6.02s/it]\n"
     ]
    },
    {
     "name": "stdout",
     "output_type": "stream",
     "text": [
      "Image: 25cb3d4a2e9d24e2_입퇴원 확인서.jpg, Confidence: 0.5398\n",
      "Image: 51fe52a95d431a86_입퇴원 확인서.jpg, Confidence: 0.4879\n",
      "Image: 337eb06c7c2d709d_입퇴원 확인서.jpg, Confidence: 0.2414\n",
      "Image: 4620f6e53442f3b6_입퇴원 확인서.jpg, Confidence: 0.0158\n",
      "Image: 0808c7453316041c_입퇴원 확인서.jpg, Confidence: 0.0000\n",
      "Image: 45f0d2dfc7e47c03_입퇴원 확인서.jpg, Confidence: 0.0000\n",
      "Image: 1c893f02de43b62a_입퇴원 확인서.jpg, Confidence: 0.0000\n"
     ]
    },
    {
     "name": "stderr",
     "output_type": "stream",
     "text": [
      "Calculating Confidence: 100%|██████████| 4/4 [00:22<00:00,  5.64s/it]\n"
     ]
    },
    {
     "name": "stdout",
     "output_type": "stream",
     "text": [
      "Image: 39a4f1b94db5e879_진단서.jpg, Confidence: 0.0000\n"
     ]
    },
    {
     "name": "stderr",
     "output_type": "stream",
     "text": [
      "Calculating Confidence: 100%|██████████| 4/4 [00:23<00:00,  5.91s/it]\n",
      "Calculating Confidence: 100%|██████████| 4/4 [00:23<00:00,  5.78s/it]\n",
      "Calculating Confidence: 100%|██████████| 4/4 [00:22<00:00,  5.53s/it]\n"
     ]
    },
    {
     "name": "stdout",
     "output_type": "stream",
     "text": [
      "Image: 03084c1b03921a99_통원진료 확인서.jpg, Confidence: 0.0000\n"
     ]
    },
    {
     "name": "stderr",
     "output_type": "stream",
     "text": [
      "Calculating Confidence: 100%|██████████| 4/4 [00:22<00:00,  5.62s/it]\n",
      "Calculating Confidence: 100%|██████████| 4/4 [00:22<00:00,  5.63s/it]\n",
      "Calculating Confidence: 100%|██████████| 4/4 [00:22<00:00,  5.61s/it]\n",
      "Calculating Confidence: 100%|██████████| 4/4 [00:22<00:00,  5.57s/it]\n"
     ]
    },
    {
     "name": "stdout",
     "output_type": "stream",
     "text": [
      "Image: 38d1796b6ad99ddd_약제비 영수증.jpg, Confidence: 0.0000\n",
      "Image: 0583254a73b48ece_약제비 영수증.jpg, Confidence: 0.0000\n"
     ]
    },
    {
     "name": "stderr",
     "output_type": "stream",
     "text": [
      "Calculating Confidence: 100%|██████████| 4/4 [00:23<00:00,  5.84s/it]\n"
     ]
    },
    {
     "name": "stdout",
     "output_type": "stream",
     "text": [
      "Image: 1ba8ba8d582eb19f_처방전.jpg, Confidence: 0.5263\n",
      "Image: 4538698894b1f859_처방전.jpg, Confidence: 0.0113\n"
     ]
    },
    {
     "name": "stderr",
     "output_type": "stream",
     "text": [
      "Calculating Confidence: 100%|██████████| 3/3 [00:16<00:00,  5.62s/it]\n"
     ]
    },
    {
     "name": "stdout",
     "output_type": "stream",
     "text": [
      "Image: 0e73f69b538fb276_이력서.jpg, Confidence: 0.7875\n",
      "Image: 44a6366325306cc6_이력서.jpg, Confidence: 0.6060\n",
      "Image: 139fec9a67910e28_이력서.jpg, Confidence: 0.5019\n",
      "Image: 2b1076abe3e4338d_이력서.jpg, Confidence: 0.2954\n",
      "Image: 363edeab084e0800_이력서.jpg, Confidence: 0.0000\n"
     ]
    },
    {
     "name": "stderr",
     "output_type": "stream",
     "text": [
      "Calculating Confidence: 100%|██████████| 2/2 [00:11<00:00,  5.53s/it]\n"
     ]
    },
    {
     "name": "stdout",
     "output_type": "stream",
     "text": [
      "Image: 8db8f37ec84b4f8f_소견서.jpg, Confidence: 0.2176\n",
      "Image: 45ec22e6b1b60734_소견서.jpg, Confidence: 0.0474\n",
      "Image: 3696b2ffaa6147e6_소견서.jpg, Confidence: 0.0377\n",
      "Image: 840c53f776730ffe_소견서.jpg, Confidence: 0.0013\n",
      "Image: 1ec14a14bbe633db_소견서.jpg, Confidence: 0.0000\n"
     ]
    },
    {
     "name": "stderr",
     "output_type": "stream",
     "text": [
      "Calculating Confidence: 100%|██████████| 4/4 [00:23<00:00,  5.94s/it]\n",
      "Calculating Confidence: 100%|██████████| 4/4 [00:24<00:00,  6.04s/it]\n"
     ]
    }
   ],
   "source": [
    "# target_class = 3  # 여기서 특정 클래스를 설정\n",
    "for target_class in range(17):\n",
    "    run_confidence_check(target_class)"
   ]
  }
 ],
 "metadata": {
  "kernelspec": {
   "display_name": "cv",
   "language": "python",
   "name": "python3"
  },
  "language_info": {
   "codemirror_mode": {
    "name": "ipython",
    "version": 3
   },
   "file_extension": ".py",
   "mimetype": "text/x-python",
   "name": "python",
   "nbconvert_exporter": "python",
   "pygments_lexer": "ipython3",
   "version": "3.10.14"
  }
 },
 "nbformat": 4,
 "nbformat_minor": 2
}
