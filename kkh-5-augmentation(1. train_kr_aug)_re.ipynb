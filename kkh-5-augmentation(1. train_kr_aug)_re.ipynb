{
 "cells": [
  {
   "cell_type": "code",
   "execution_count": 2,
   "metadata": {},
   "outputs": [
    {
     "ename": "ModuleNotFoundError",
     "evalue": "No module named 'albumentations'",
     "output_type": "error",
     "traceback": [
      "\u001b[1;31m---------------------------------------------------------------------------\u001b[0m",
      "\u001b[1;31mModuleNotFoundError\u001b[0m                       Traceback (most recent call last)",
      "Cell \u001b[1;32mIn[2], line 7\u001b[0m\n\u001b[0;32m      5\u001b[0m \u001b[38;5;28;01mimport\u001b[39;00m \u001b[38;5;21;01mcv2\u001b[39;00m\n\u001b[0;32m      6\u001b[0m \u001b[38;5;28;01mimport\u001b[39;00m \u001b[38;5;21;01mnumpy\u001b[39;00m \u001b[38;5;28;01mas\u001b[39;00m \u001b[38;5;21;01mnp\u001b[39;00m\n\u001b[1;32m----> 7\u001b[0m \u001b[38;5;28;01mimport\u001b[39;00m \u001b[38;5;21;01malbumentations\u001b[39;00m \u001b[38;5;28;01mas\u001b[39;00m \u001b[38;5;21;01mA\u001b[39;00m\n\u001b[0;32m      8\u001b[0m \u001b[38;5;28;01mimport\u001b[39;00m \u001b[38;5;21;01maugraphy\u001b[39;00m\n\u001b[0;32m      9\u001b[0m \u001b[38;5;28;01mfrom\u001b[39;00m \u001b[38;5;21;01mmatplotlib\u001b[39;00m \u001b[38;5;28;01mimport\u001b[39;00m pyplot \u001b[38;5;28;01mas\u001b[39;00m plt\n",
      "\u001b[1;31mModuleNotFoundError\u001b[0m: No module named 'albumentations'"
     ]
    }
   ],
   "source": [
    "import os\n",
    "import shutil\n",
    "import random\n",
    "import pandas as pd\n",
    "import cv2\n",
    "import numpy as np\n",
    "import albumentations as A\n",
    "import augraphy\n",
    "from matplotlib import pyplot as plt\n",
    "%matplotlib inline\n",
    "\n",
    "pre_path = '/kkh/'\n",
    "train_kr_image_path = pre_path + 'data/train_kr'\n",
    "train_kr_aug_image_path = pre_path + 'data/train_kr_aug'\n",
    "meta_kr_csv_path = pre_path + 'data/meta_kr.csv'\n",
    "meta_kr_df = pd.read_csv(meta_kr_csv_path)\n",
    "train_kr_csv_path = pre_path + 'data/train_kr.csv'\n",
    "train_kr_df = pd.read_csv(train_kr_csv_path)\n",
    "train_kr_aug_csv_path = pre_path + 'data/train_kr_aug.csv'\n",
    "train_kr_aug_df = pd.read_csv(train_kr_aug_csv_path)\n",
    "\n",
    "# 각 이미지당 생성할 증강 이미지 개수\n",
    "AUGMENTATIONS_PER_IMAGE = 2  # 이 값을 변경하여 증강 개수 조절"
   ]
  },
  {
   "cell_type": "code",
   "execution_count": 2,
   "metadata": {},
   "outputs": [],
   "source": [
    "def setup_directories():\n",
    "    if os.path.exists(train_kr_aug_image_path):\n",
    "        shutil.rmtree(train_kr_aug_image_path)\n",
    "    os.makedirs(train_kr_aug_image_path, exist_ok=True)\n",
    "    \n",
    "    if os.path.exists(train_kr_aug_df):\n",
    "        os.remove(train_kr_aug_df)\n",
    "\n",
    "# 이미지 증강 함수\n",
    "def augment_image(image):\n",
    "    # Albumentations를 사용한 증강\n",
    "    albu_aug = A.Compose([\n",
    "        A.RandomBrightnessContrast(p=0.5),\n",
    "        A.RandomGamma(p=0.5),\n",
    "        A.GaussNoise(p=0.5),\n",
    "        A.Rotate(limit=10, p=0.5),\n",
    "    ])\n",
    "    \n",
    "    # Augraphy를 사용한 증강\n",
    "    aug_pipeline = augraphy.default_pipeline()\n",
    "    \n",
    "    # Albumentations 적용\n",
    "    augmented = albu_aug(image=image)\n",
    "    albu_result = augmented['image']\n",
    "    \n",
    "    # Augraphy 적용\n",
    "    aug_result = aug_pipeline.augment(albu_result)\n",
    "    \n",
    "    return aug_result"
   ]
  },
  {
   "cell_type": "code",
   "execution_count": 6,
   "metadata": {},
   "outputs": [],
   "source": [
    "setup_directories()\n",
    "\n",
    "# CSV 파일 읽기\n",
    "df = pd.read_csv(train_kr_csv_path)\n",
    "\n",
    "augmented_data = []\n",
    "\n",
    "for _, row in df.iterrows():\n",
    "    img_path = os.path.join(train_kr_image_path, row['ID'])\n",
    "    target = row['target']\n",
    "    \n",
    "    # 원본 이미지 읽기\n",
    "    image = cv2.imread(img_path)\n",
    "    image = cv2.cvtColor(image, cv2.COLOR_BGR2RGB)\n",
    "    \n",
    "    # 원본 이미지 저장\n",
    "    cv2.imwrite(os.path.join(train_kr_aug_image_path, row['ID']), cv2.cvtColor(image, cv2.COLOR_RGB2BGR))\n",
    "    augmented_data.append({'ID': row['ID'], 'target': target})\n",
    "    \n",
    "    # 증강된 이미지 생성 및 저장\n",
    "    for i in range(AUGMENTATIONS_PER_IMAGE):\n",
    "        augmented_image = augment_image(image)\n",
    "        aug_filename = f\"{os.path.splitext(row['ID'])[0]}_aug_{i+1}.jpg\"\n",
    "        cv2.imwrite(os.path.join(train_kr_aug_image_path, aug_filename), cv2.cvtColor(augmented_image, cv2.COLOR_RGB2BGR))\n",
    "        augmented_data.append({'ID': aug_filename, 'target': target})\n",
    "\n",
    "# 증강된 데이터를 CSV 파일로 저장\n",
    "augmented_df = pd.DataFrame(augmented_data)\n",
    "augmented_df.to_csv(train_kr_aug_csv_path, index=False)"
   ]
  },
  {
   "cell_type": "code",
   "execution_count": null,
   "metadata": {},
   "outputs": [],
   "source": [
    "# 랜덤하게 3개의 이미지 선택하여 비교\n",
    "sample_images = random.sample(df['ID'].tolist(), 3)\n",
    "\n",
    "fig, axes = plt.subplots(3, AUGMENTATIONS_PER_IMAGE + 1, figsize=(5*(AUGMENTATIONS_PER_IMAGE + 1), 15))\n",
    "\n",
    "for i, img_name in enumerate(sample_images):\n",
    "    # 원본 이미지\n",
    "    original = cv2.imread(os.path.join(train_kr_image_path, img_name))\n",
    "    original = cv2.cvtColor(original, cv2.COLOR_BGR2RGB)\n",
    "    \n",
    "    # 원본 이미지 표시\n",
    "    axes[i, 0].imshow(original)\n",
    "    axes[i, 0].set_title('Original')\n",
    "    axes[i, 0].axis('off')\n",
    "    \n",
    "    # 증강된 이미지들 표시\n",
    "    for j in range(AUGMENTATIONS_PER_IMAGE):\n",
    "        aug_img = cv2.imread(os.path.join(train_kr_aug_image_path, f\"{os.path.splitext(img_name)[0]}_aug_{j+1}.jpg\"))\n",
    "        aug_img = cv2.cvtColor(aug_img, cv2.COLOR_BGR2RGB)\n",
    "        \n",
    "        axes[i, j+1].imshow(aug_img)\n",
    "        axes[i, j+1].set_title(f'Augmented {j+1}')\n",
    "        axes[i, j+1].axis('off')\n",
    "\n",
    "plt.tight_layout()\n",
    "plt.show()"
   ]
  }
 ],
 "metadata": {
  "kernelspec": {
   "display_name": "base",
   "language": "python",
   "name": "python3"
  },
  "language_info": {
   "codemirror_mode": {
    "name": "ipython",
    "version": 3
   },
   "file_extension": ".py",
   "mimetype": "text/x-python",
   "name": "python",
   "nbconvert_exporter": "python",
   "pygments_lexer": "ipython3",
   "version": "3.10.11"
  }
 },
 "nbformat": 4,
 "nbformat_minor": 2
}
