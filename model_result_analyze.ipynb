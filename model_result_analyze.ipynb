{
 "cells": [
  {
   "cell_type": "code",
   "execution_count": 79,
   "metadata": {},
   "outputs": [],
   "source": [
    "import timm\n",
    "import torch\n",
    "from tqdm import tqdm\n",
    "import os\n",
    "import gc\n",
    "\n",
    "import wandb\n",
    "\n",
    "import pandas as pd\n",
    "import numpy as np\n",
    "\n",
    "import albumentations as A\n",
    "from albumentations.pytorch import ToTensorV2\n",
    "\n",
    "from torch.utils.data import Dataset, DataLoader\n",
    "import torch.nn.functional as F\n",
    "import torch.nn as nn\n",
    "from torch.optim import Adam\n",
    "\n",
    "from PIL import Image\n",
    "\n",
    "from sklearn.metrics import classification_report, confusion_matrix\n",
    "\n",
    "import matplotlib.pyplot as plt\n",
    "import seaborn as sns\n",
    "\n",
    "# device\n",
    "device = torch.device('cuda' if torch.cuda.is_available() else 'cpu')"
   ]
  },
  {
   "cell_type": "code",
   "execution_count": 84,
   "metadata": {},
   "outputs": [],
   "source": [
    "MODEL_PATH = '/upstage-cv-classification-cv2/results/best_model.pth'\n",
    "MODEL_NAME = 'efficientnet_b4'\n",
    "\n",
    "VALID_CSV_PATH = '/upstage-cv-classification-cv2/data/valid.csv'\n",
    "VALID_IMAGE_PATH = '/upstage-cv-classification-cv2/data/valid'\n",
    "\n",
    "TEST_CSV_PATH = '/upstage-cv-classification-cv2/data/sample_submission.csv'\n",
    "TEST_IMAGE_PATH = '/upstage-cv-classification-cv2/data/test'\n",
    "\n",
    "PROJECT_NAME = 'PatchModel_analyze'\n",
    "\n",
    "META_CSV_PATH = '/upstage-cv-classification-cv2/data/meta.csv'"
   ]
  },
  {
   "cell_type": "code",
   "execution_count": 85,
   "metadata": {},
   "outputs": [
    {
     "data": {
      "text/html": [
       "<div>\n",
       "<style scoped>\n",
       "    .dataframe tbody tr th:only-of-type {\n",
       "        vertical-align: middle;\n",
       "    }\n",
       "\n",
       "    .dataframe tbody tr th {\n",
       "        vertical-align: top;\n",
       "    }\n",
       "\n",
       "    .dataframe thead th {\n",
       "        text-align: right;\n",
       "    }\n",
       "</style>\n",
       "<table border=\"1\" class=\"dataframe\">\n",
       "  <thead>\n",
       "    <tr style=\"text-align: right;\">\n",
       "      <th></th>\n",
       "      <th>target</th>\n",
       "      <th>class_name</th>\n",
       "      <th>kr_class_name</th>\n",
       "    </tr>\n",
       "  </thead>\n",
       "  <tbody>\n",
       "    <tr>\n",
       "      <th>0</th>\n",
       "      <td>0</td>\n",
       "      <td>account_number</td>\n",
       "      <td>계좌번호</td>\n",
       "    </tr>\n",
       "    <tr>\n",
       "      <th>1</th>\n",
       "      <td>1</td>\n",
       "      <td>application_for_payment_of_pregnancy_medical_e...</td>\n",
       "      <td>건강보험 임신출산 진료비 지급 신청서</td>\n",
       "    </tr>\n",
       "    <tr>\n",
       "      <th>2</th>\n",
       "      <td>2</td>\n",
       "      <td>car_dashboard</td>\n",
       "      <td>자동차 계기판</td>\n",
       "    </tr>\n",
       "    <tr>\n",
       "      <th>3</th>\n",
       "      <td>3</td>\n",
       "      <td>confirmation_of_admission_and_discharge</td>\n",
       "      <td>입퇴원 확인서</td>\n",
       "    </tr>\n",
       "    <tr>\n",
       "      <th>4</th>\n",
       "      <td>4</td>\n",
       "      <td>diagnosis</td>\n",
       "      <td>진단서</td>\n",
       "    </tr>\n",
       "    <tr>\n",
       "      <th>5</th>\n",
       "      <td>5</td>\n",
       "      <td>driver_lisence</td>\n",
       "      <td>운전면허증</td>\n",
       "    </tr>\n",
       "    <tr>\n",
       "      <th>6</th>\n",
       "      <td>6</td>\n",
       "      <td>medical_bill_receipts</td>\n",
       "      <td>진료비영수증</td>\n",
       "    </tr>\n",
       "    <tr>\n",
       "      <th>7</th>\n",
       "      <td>7</td>\n",
       "      <td>medical_outpatient_certificate</td>\n",
       "      <td>통원진료 확인서</td>\n",
       "    </tr>\n",
       "    <tr>\n",
       "      <th>8</th>\n",
       "      <td>8</td>\n",
       "      <td>national_id_card</td>\n",
       "      <td>주민등록증</td>\n",
       "    </tr>\n",
       "    <tr>\n",
       "      <th>9</th>\n",
       "      <td>9</td>\n",
       "      <td>passport</td>\n",
       "      <td>여권</td>\n",
       "    </tr>\n",
       "    <tr>\n",
       "      <th>10</th>\n",
       "      <td>10</td>\n",
       "      <td>payment_confirmation</td>\n",
       "      <td>진료비 납입 확인서</td>\n",
       "    </tr>\n",
       "    <tr>\n",
       "      <th>11</th>\n",
       "      <td>11</td>\n",
       "      <td>pharmaceutical_receipt</td>\n",
       "      <td>약제비 영수증</td>\n",
       "    </tr>\n",
       "    <tr>\n",
       "      <th>12</th>\n",
       "      <td>12</td>\n",
       "      <td>prescription</td>\n",
       "      <td>처방전</td>\n",
       "    </tr>\n",
       "    <tr>\n",
       "      <th>13</th>\n",
       "      <td>13</td>\n",
       "      <td>resume</td>\n",
       "      <td>이력서</td>\n",
       "    </tr>\n",
       "    <tr>\n",
       "      <th>14</th>\n",
       "      <td>14</td>\n",
       "      <td>statement_of_opinion</td>\n",
       "      <td>소견서</td>\n",
       "    </tr>\n",
       "    <tr>\n",
       "      <th>15</th>\n",
       "      <td>15</td>\n",
       "      <td>vehicle_registration_certificate</td>\n",
       "      <td>자동차 등록증</td>\n",
       "    </tr>\n",
       "    <tr>\n",
       "      <th>16</th>\n",
       "      <td>16</td>\n",
       "      <td>vehicle_registration_plate</td>\n",
       "      <td>자동차 번호판</td>\n",
       "    </tr>\n",
       "  </tbody>\n",
       "</table>\n",
       "</div>"
      ],
      "text/plain": [
       "    target                                         class_name  \\\n",
       "0        0                                     account_number   \n",
       "1        1  application_for_payment_of_pregnancy_medical_e...   \n",
       "2        2                                      car_dashboard   \n",
       "3        3            confirmation_of_admission_and_discharge   \n",
       "4        4                                          diagnosis   \n",
       "5        5                                     driver_lisence   \n",
       "6        6                              medical_bill_receipts   \n",
       "7        7                     medical_outpatient_certificate   \n",
       "8        8                                   national_id_card   \n",
       "9        9                                           passport   \n",
       "10      10                               payment_confirmation   \n",
       "11      11                             pharmaceutical_receipt   \n",
       "12      12                                       prescription   \n",
       "13      13                                             resume   \n",
       "14      14                               statement_of_opinion   \n",
       "15      15                   vehicle_registration_certificate   \n",
       "16      16                         vehicle_registration_plate   \n",
       "\n",
       "           kr_class_name  \n",
       "0                   계좌번호  \n",
       "1   건강보험 임신출산 진료비 지급 신청서  \n",
       "2                자동차 계기판  \n",
       "3                입퇴원 확인서  \n",
       "4                    진단서  \n",
       "5                  운전면허증  \n",
       "6                 진료비영수증  \n",
       "7               통원진료 확인서  \n",
       "8                  주민등록증  \n",
       "9                     여권  \n",
       "10            진료비 납입 확인서  \n",
       "11               약제비 영수증  \n",
       "12                   처방전  \n",
       "13                   이력서  \n",
       "14                   소견서  \n",
       "15               자동차 등록증  \n",
       "16               자동차 번호판  "
      ]
     },
     "execution_count": 85,
     "metadata": {},
     "output_type": "execute_result"
    }
   ],
   "source": [
    "meta = pd.read_csv(META_CSV_PATH)\n",
    "\n",
    "translations = {\n",
    "        'account_number': '계좌번호',\n",
    "        'application_for_payment_of_pregnancy_medical_expenses': '건강보험 임신출산 진료비 지급 신청서',\n",
    "        'car_dashboard': '자동차 계기판',\n",
    "        'confirmation_of_admission_and_discharge': '입퇴원 확인서',\n",
    "        'diagnosis': '진단서',\n",
    "        'driver_lisence': '운전면허증',\n",
    "        'medical_bill_receipts': '진료비영수증',\n",
    "        'medical_outpatient_certificate': '통원진료 확인서',\n",
    "        'national_id_card': '주민등록증',\n",
    "        'passport': '여권',\n",
    "        'payment_confirmation': '진료비 납입 확인서',\n",
    "        'pharmaceutical_receipt': '약제비 영수증',\n",
    "        'prescription': '처방전',\n",
    "        'resume': '이력서',\n",
    "        'statement_of_opinion': '소견서',\n",
    "        'vehicle_registration_certificate': '자동차 등록증',\n",
    "        'vehicle_registration_plate': '자동차 번호판'\n",
    "}\n",
    "\n",
    "meta['kr_class_name'] = meta['class_name'].map(lambda x : translations[x])\n",
    "meta"
   ]
  },
  {
   "cell_type": "markdown",
   "metadata": {},
   "source": [
    "# 모델 로드"
   ]
  },
  {
   "cell_type": "code",
   "execution_count": 86,
   "metadata": {},
   "outputs": [
    {
     "data": {
      "text/plain": [
       "2189"
      ]
     },
     "execution_count": 86,
     "metadata": {},
     "output_type": "execute_result"
    }
   ],
   "source": [
    "torch.cuda.empty_cache()\n",
    "gc.collect()"
   ]
  },
  {
   "cell_type": "code",
   "execution_count": 87,
   "metadata": {},
   "outputs": [
    {
     "name": "stderr",
     "output_type": "stream",
     "text": [
      "/tmp/ipykernel_418792/2802445694.py:4: FutureWarning: You are using `torch.load` with `weights_only=False` (the current default value), which uses the default pickle module implicitly. It is possible to construct malicious pickle data which will execute arbitrary code during unpickling (See https://github.com/pytorch/pytorch/blob/main/SECURITY.md#untrusted-models for more details). In a future release, the default value for `weights_only` will be flipped to `True`. This limits the functions that could be executed during unpickling. Arbitrary objects will no longer be allowed to be loaded via this mode unless they are explicitly allowlisted by the user via `torch.serialization.add_safe_globals`. We recommend you start setting `weights_only=True` for any use case where you don't have full control of the loaded file. Please open an issue on GitHub for any issues related to this experimental feature.\n",
      "  model.load_state_dict(torch.load(MODEL_PATH))\n"
     ]
    },
    {
     "data": {
      "text/plain": [
       "<All keys matched successfully>"
      ]
     },
     "execution_count": 87,
     "metadata": {},
     "output_type": "execute_result"
    }
   ],
   "source": [
    "model = timm.create_model(MODEL_NAME, pretrained=False, num_classes=17).to(device)\n",
    "\n",
    "# 모델 가중치 로드\n",
    "model.load_state_dict(torch.load(MODEL_PATH))"
   ]
  },
  {
   "cell_type": "markdown",
   "metadata": {},
   "source": [
    "# 모델 성능 확인"
   ]
  },
  {
   "cell_type": "code",
   "execution_count": 88,
   "metadata": {},
   "outputs": [],
   "source": [
    "# training config\n",
    "img_size = 380\n",
    "LR = 1e-3\n",
    "BATCH_SIZE = 32\n",
    "\n",
    "patience = 5\n",
    "min_delta = 0.001 # 성능 개선의 최소 변화량\n",
    "\n",
    "# test image 변환\n",
    "data_transform = A.Compose([\n",
    "    A.Resize(height = img_size, width = img_size),\n",
    "    A.Normalize(mean=[0.485, 0.456, 0.406], std = [0.229, 0.224, 0.225]),\n",
    "    ToTensorV2()\n",
    "])\n",
    "\n",
    "class ImageDataset(Dataset):\n",
    "    def __init__(self, csv, path, transform=None):\n",
    "        self.df = pd.read_csv(csv).values\n",
    "        self.path = path\n",
    "        self.transform = transform\n",
    "\n",
    "    def __len__(self):\n",
    "        return len(self.df)\n",
    "    \n",
    "    def __getitem__(self, idx):\n",
    "        name, target = self.df[idx]\n",
    "        img = np.array(Image.open(os.path.join(self.path, name)))\n",
    "        if self.transform:\n",
    "            img = self.transform(image = img)['image']\n",
    "    \n",
    "        return img, target, name\n",
    "\n",
    "    def get_labels(self):\n",
    "        return self.df[:, 1] "
   ]
  },
  {
   "cell_type": "code",
   "execution_count": 89,
   "metadata": {},
   "outputs": [],
   "source": [
    "val_dataset = ImageDataset(\n",
    "    VALID_CSV_PATH,\n",
    "    VALID_IMAGE_PATH,\n",
    "    transform = data_transform\n",
    ")\n",
    "\n",
    "test_dataset = ImageDataset(\n",
    "    TEST_CSV_PATH,\n",
    "    TEST_IMAGE_PATH,\n",
    "    transform = data_transform\n",
    ")\n",
    "\n",
    "val_loader = DataLoader(\n",
    "    val_dataset,\n",
    "    batch_size = BATCH_SIZE,\n",
    "    num_workers = 0,\n",
    "    pin_memory = True,\n",
    "    drop_last = False\n",
    ")\n",
    "\n",
    "test_loader = DataLoader(\n",
    "    test_dataset,\n",
    "    batch_size = BATCH_SIZE,\n",
    "    num_workers = 0,\n",
    "    pin_memory = True,\n",
    "    drop_last = False\n",
    ")"
   ]
  },
  {
   "cell_type": "code",
   "execution_count": 90,
   "metadata": {},
   "outputs": [
    {
     "name": "stderr",
     "output_type": "stream",
     "text": [
      "Loss: 0.0158: 100%|██████████| 10/10 [00:01<00:00,  6.81it/s]\n"
     ]
    }
   ],
   "source": [
    "valid_preds_list = []\n",
    "valid_targets_list = []\n",
    "valid_ids = []\n",
    "\n",
    "loss_fn = nn.CrossEntropyLoss()\n",
    "optimizer = Adam(model.parameters(), lr = LR)\n",
    "\n",
    "model.eval()\n",
    "\n",
    "with torch.no_grad():\n",
    "    pbar = tqdm(val_loader)\n",
    "    for step, (image, targets, id) in enumerate(pbar):\n",
    "        image = image.to(device)\n",
    "        targets = targets.to(device)\n",
    "\n",
    "        preds = model(image)\n",
    "        loss = loss_fn(preds, targets)\n",
    "    \n",
    "        valid_preds_list.extend(preds.argmax(dim=1).detach().cpu().numpy())\n",
    "        valid_targets_list.extend(targets.detach().cpu().numpy())\n",
    "        valid_ids.extend(id)\n",
    "\n",
    "        pbar.set_description(f\"Loss: {loss.item():.4f}\")\n",
    "\n"
   ]
  },
  {
   "cell_type": "code",
   "execution_count": 91,
   "metadata": {},
   "outputs": [
    {
     "name": "stderr",
     "output_type": "stream",
     "text": [
      "Loss: 13.8069: 100%|██████████| 99/99 [00:15<00:00,  6.42it/s]\n"
     ]
    }
   ],
   "source": [
    "test_preds_list = []\n",
    "test_ids = []\n",
    "test_probs_list = []\n",
    "test_preds_second_list = []\n",
    "test_probs_second_list = []\n",
    "\n",
    "loss_fn = nn.CrossEntropyLoss()\n",
    "optimizer = Adam(model.parameters(), lr = LR)\n",
    "\n",
    "model.eval()\n",
    "\n",
    "with torch.no_grad():\n",
    "    pbar = tqdm(test_loader)\n",
    "    for step, (image, targets, id) in enumerate(pbar):\n",
    "        image = image.to(device)\n",
    "        targets = targets.to(device)\n",
    "\n",
    "        outputs = model(image)\n",
    "        loss = loss_fn(outputs, targets)\n",
    "\n",
    "        probs = torch.softmax(outputs, dim=1)\n",
    "        \n",
    "        # 최댓값과 두 번째로 큰 값 가져오기\n",
    "        top_probs, top_indices = torch.topk(probs, 2, dim=1)\n",
    "        \n",
    "        # 최댓 확률값과 예측 클래스 인덱스\n",
    "        max_probs = top_probs[:, 0]\n",
    "        preds = top_indices[:, 0]\n",
    "        \n",
    "        # 두 번째로 큰 확률값과 클래스 인덱스\n",
    "        second_probs = top_probs[:, 1]\n",
    "        second_preds = top_indices[:, 1]\n",
    "\n",
    "        # 제일 확률 높은 데이터\n",
    "        test_preds_list.extend(preds.detach().cpu().numpy()) \n",
    "        test_probs_list.extend(max_probs.detach().cpu().numpy())\n",
    "\n",
    "        # 두번째 확률 높은 데이터  \n",
    "        test_preds_second_list.extend(second_preds.detach().cpu().numpy())\n",
    "        test_probs_second_list.extend(second_probs.detach().cpu().numpy())\n",
    "\n",
    "        test_ids.extend(id)\n",
    "\n",
    "        pbar.set_description(f\"Loss: {loss.item():.4f}\")\n",
    "\n"
   ]
  },
  {
   "cell_type": "code",
   "execution_count": 92,
   "metadata": {},
   "outputs": [
    {
     "data": {
      "text/html": [
       "<div>\n",
       "<style scoped>\n",
       "    .dataframe tbody tr th:only-of-type {\n",
       "        vertical-align: middle;\n",
       "    }\n",
       "\n",
       "    .dataframe tbody tr th {\n",
       "        vertical-align: top;\n",
       "    }\n",
       "\n",
       "    .dataframe thead th {\n",
       "        text-align: right;\n",
       "    }\n",
       "</style>\n",
       "<table border=\"1\" class=\"dataframe\">\n",
       "  <thead>\n",
       "    <tr style=\"text-align: right;\">\n",
       "      <th></th>\n",
       "      <th>id</th>\n",
       "      <th>pred</th>\n",
       "      <th>target</th>\n",
       "      <th>pred_kr</th>\n",
       "      <th>target_kr</th>\n",
       "    </tr>\n",
       "  </thead>\n",
       "  <tbody>\n",
       "    <tr>\n",
       "      <th>0</th>\n",
       "      <td>valid_d919dabe9f066dfc.jpg</td>\n",
       "      <td>1</td>\n",
       "      <td>1</td>\n",
       "      <td>건강보험 임신출산 진료비 지급 신청서</td>\n",
       "      <td>건강보험 임신출산 진료비 지급 신청서</td>\n",
       "    </tr>\n",
       "    <tr>\n",
       "      <th>1</th>\n",
       "      <td>valid_7f23b9ae37e539ea.jpg</td>\n",
       "      <td>1</td>\n",
       "      <td>1</td>\n",
       "      <td>건강보험 임신출산 진료비 지급 신청서</td>\n",
       "      <td>건강보험 임신출산 진료비 지급 신청서</td>\n",
       "    </tr>\n",
       "    <tr>\n",
       "      <th>2</th>\n",
       "      <td>valid_9a36a151cf95bb29.jpg</td>\n",
       "      <td>1</td>\n",
       "      <td>1</td>\n",
       "      <td>건강보험 임신출산 진료비 지급 신청서</td>\n",
       "      <td>건강보험 임신출산 진료비 지급 신청서</td>\n",
       "    </tr>\n",
       "    <tr>\n",
       "      <th>3</th>\n",
       "      <td>valid_f0d11155d48758de.jpg</td>\n",
       "      <td>1</td>\n",
       "      <td>1</td>\n",
       "      <td>건강보험 임신출산 진료비 지급 신청서</td>\n",
       "      <td>건강보험 임신출산 진료비 지급 신청서</td>\n",
       "    </tr>\n",
       "    <tr>\n",
       "      <th>4</th>\n",
       "      <td>valid_c8816965abf6559b.jpg</td>\n",
       "      <td>1</td>\n",
       "      <td>1</td>\n",
       "      <td>건강보험 임신출산 진료비 지급 신청서</td>\n",
       "      <td>건강보험 임신출산 진료비 지급 신청서</td>\n",
       "    </tr>\n",
       "    <tr>\n",
       "      <th>...</th>\n",
       "      <td>...</td>\n",
       "      <td>...</td>\n",
       "      <td>...</td>\n",
       "      <td>...</td>\n",
       "      <td>...</td>\n",
       "    </tr>\n",
       "    <tr>\n",
       "      <th>291</th>\n",
       "      <td>valid_1421fb31607c5123.jpg</td>\n",
       "      <td>13</td>\n",
       "      <td>13</td>\n",
       "      <td>이력서</td>\n",
       "      <td>이력서</td>\n",
       "    </tr>\n",
       "    <tr>\n",
       "      <th>292</th>\n",
       "      <td>valid_70ee60fe819b7b39.jpg</td>\n",
       "      <td>0</td>\n",
       "      <td>0</td>\n",
       "      <td>계좌번호</td>\n",
       "      <td>계좌번호</td>\n",
       "    </tr>\n",
       "    <tr>\n",
       "      <th>293</th>\n",
       "      <td>valid_359fab2e1b0ab5e1.jpg</td>\n",
       "      <td>2</td>\n",
       "      <td>2</td>\n",
       "      <td>자동차 계기판</td>\n",
       "      <td>자동차 계기판</td>\n",
       "    </tr>\n",
       "    <tr>\n",
       "      <th>294</th>\n",
       "      <td>valid_01385f22f2490868.jpg</td>\n",
       "      <td>4</td>\n",
       "      <td>4</td>\n",
       "      <td>진단서</td>\n",
       "      <td>진단서</td>\n",
       "    </tr>\n",
       "    <tr>\n",
       "      <th>295</th>\n",
       "      <td>valid_81dfc09159a18109.jpg</td>\n",
       "      <td>6</td>\n",
       "      <td>6</td>\n",
       "      <td>진료비영수증</td>\n",
       "      <td>진료비영수증</td>\n",
       "    </tr>\n",
       "  </tbody>\n",
       "</table>\n",
       "<p>296 rows × 5 columns</p>\n",
       "</div>"
      ],
      "text/plain": [
       "                             id  pred  target               pred_kr  \\\n",
       "0    valid_d919dabe9f066dfc.jpg     1       1  건강보험 임신출산 진료비 지급 신청서   \n",
       "1    valid_7f23b9ae37e539ea.jpg     1       1  건강보험 임신출산 진료비 지급 신청서   \n",
       "2    valid_9a36a151cf95bb29.jpg     1       1  건강보험 임신출산 진료비 지급 신청서   \n",
       "3    valid_f0d11155d48758de.jpg     1       1  건강보험 임신출산 진료비 지급 신청서   \n",
       "4    valid_c8816965abf6559b.jpg     1       1  건강보험 임신출산 진료비 지급 신청서   \n",
       "..                          ...   ...     ...                   ...   \n",
       "291  valid_1421fb31607c5123.jpg    13      13                   이력서   \n",
       "292  valid_70ee60fe819b7b39.jpg     0       0                  계좌번호   \n",
       "293  valid_359fab2e1b0ab5e1.jpg     2       2               자동차 계기판   \n",
       "294  valid_01385f22f2490868.jpg     4       4                   진단서   \n",
       "295  valid_81dfc09159a18109.jpg     6       6                진료비영수증   \n",
       "\n",
       "                target_kr  \n",
       "0    건강보험 임신출산 진료비 지급 신청서  \n",
       "1    건강보험 임신출산 진료비 지급 신청서  \n",
       "2    건강보험 임신출산 진료비 지급 신청서  \n",
       "3    건강보험 임신출산 진료비 지급 신청서  \n",
       "4    건강보험 임신출산 진료비 지급 신청서  \n",
       "..                    ...  \n",
       "291                   이력서  \n",
       "292                  계좌번호  \n",
       "293               자동차 계기판  \n",
       "294                   진단서  \n",
       "295                진료비영수증  \n",
       "\n",
       "[296 rows x 5 columns]"
      ]
     },
     "execution_count": 92,
     "metadata": {},
     "output_type": "execute_result"
    }
   ],
   "source": [
    "valid_result_df = pd.DataFrame()\n",
    "valid_result_df['id'] = valid_ids\n",
    "valid_result_df['pred'] = valid_preds_list\n",
    "valid_result_df['target'] = valid_targets_list\n",
    "\n",
    "valid_result_df['pred_kr'] = valid_result_df['pred'].map(lambda x : meta.loc[meta['target'] == x, 'kr_class_name'].values[0])\n",
    "valid_result_df['target_kr'] = valid_result_df['target'].map(lambda x : meta.loc[meta['target'] == x, 'kr_class_name'].values[0])\n",
    "\n",
    "valid_result_df"
   ]
  },
  {
   "cell_type": "code",
   "execution_count": 95,
   "metadata": {},
   "outputs": [
    {
     "data": {
      "text/html": [
       "<div>\n",
       "<style scoped>\n",
       "    .dataframe tbody tr th:only-of-type {\n",
       "        vertical-align: middle;\n",
       "    }\n",
       "\n",
       "    .dataframe tbody tr th {\n",
       "        vertical-align: top;\n",
       "    }\n",
       "\n",
       "    .dataframe thead th {\n",
       "        text-align: right;\n",
       "    }\n",
       "</style>\n",
       "<table border=\"1\" class=\"dataframe\">\n",
       "  <thead>\n",
       "    <tr style=\"text-align: right;\">\n",
       "      <th></th>\n",
       "      <th>id</th>\n",
       "      <th>first_pred</th>\n",
       "      <th>first_prob</th>\n",
       "      <th>second_pred</th>\n",
       "      <th>second_prob</th>\n",
       "      <th>first_pred_kr</th>\n",
       "      <th>second_pred_kr</th>\n",
       "    </tr>\n",
       "  </thead>\n",
       "  <tbody>\n",
       "    <tr>\n",
       "      <th>0</th>\n",
       "      <td>0008fdb22ddce0ce.jpg</td>\n",
       "      <td>2</td>\n",
       "      <td>1.000000</td>\n",
       "      <td>12</td>\n",
       "      <td>5.293225e-11</td>\n",
       "      <td>자동차 계기판</td>\n",
       "      <td>처방전</td>\n",
       "    </tr>\n",
       "    <tr>\n",
       "      <th>1</th>\n",
       "      <td>00091bffdffd83de.jpg</td>\n",
       "      <td>12</td>\n",
       "      <td>1.000000</td>\n",
       "      <td>6</td>\n",
       "      <td>3.877882e-08</td>\n",
       "      <td>처방전</td>\n",
       "      <td>진료비영수증</td>\n",
       "    </tr>\n",
       "    <tr>\n",
       "      <th>2</th>\n",
       "      <td>00396fbc1f6cc21d.jpg</td>\n",
       "      <td>5</td>\n",
       "      <td>1.000000</td>\n",
       "      <td>12</td>\n",
       "      <td>1.668210e-11</td>\n",
       "      <td>운전면허증</td>\n",
       "      <td>처방전</td>\n",
       "    </tr>\n",
       "    <tr>\n",
       "      <th>3</th>\n",
       "      <td>00471f8038d9c4b6.jpg</td>\n",
       "      <td>4</td>\n",
       "      <td>0.816450</td>\n",
       "      <td>12</td>\n",
       "      <td>8.639906e-02</td>\n",
       "      <td>진단서</td>\n",
       "      <td>처방전</td>\n",
       "    </tr>\n",
       "    <tr>\n",
       "      <th>4</th>\n",
       "      <td>00901f504008d884.jpg</td>\n",
       "      <td>2</td>\n",
       "      <td>1.000000</td>\n",
       "      <td>1</td>\n",
       "      <td>7.791749e-13</td>\n",
       "      <td>자동차 계기판</td>\n",
       "      <td>건강보험 임신출산 진료비 지급 신청서</td>\n",
       "    </tr>\n",
       "    <tr>\n",
       "      <th>...</th>\n",
       "      <td>...</td>\n",
       "      <td>...</td>\n",
       "      <td>...</td>\n",
       "      <td>...</td>\n",
       "      <td>...</td>\n",
       "      <td>...</td>\n",
       "      <td>...</td>\n",
       "    </tr>\n",
       "    <tr>\n",
       "      <th>3135</th>\n",
       "      <td>ffb4b6f619fb60ea.jpg</td>\n",
       "      <td>6</td>\n",
       "      <td>0.999964</td>\n",
       "      <td>10</td>\n",
       "      <td>2.279942e-05</td>\n",
       "      <td>진료비영수증</td>\n",
       "      <td>진료비 납입 확인서</td>\n",
       "    </tr>\n",
       "    <tr>\n",
       "      <th>3136</th>\n",
       "      <td>ffb54299b1ad4159.jpg</td>\n",
       "      <td>10</td>\n",
       "      <td>0.968894</td>\n",
       "      <td>11</td>\n",
       "      <td>2.595469e-02</td>\n",
       "      <td>진료비 납입 확인서</td>\n",
       "      <td>약제비 영수증</td>\n",
       "    </tr>\n",
       "    <tr>\n",
       "      <th>3137</th>\n",
       "      <td>ffc2c91dff8cf2c0.jpg</td>\n",
       "      <td>8</td>\n",
       "      <td>1.000000</td>\n",
       "      <td>0</td>\n",
       "      <td>4.640368e-08</td>\n",
       "      <td>주민등록증</td>\n",
       "      <td>계좌번호</td>\n",
       "    </tr>\n",
       "    <tr>\n",
       "      <th>3138</th>\n",
       "      <td>ffc4e330a5353a2a.jpg</td>\n",
       "      <td>0</td>\n",
       "      <td>1.000000</td>\n",
       "      <td>11</td>\n",
       "      <td>6.265063e-13</td>\n",
       "      <td>계좌번호</td>\n",
       "      <td>약제비 영수증</td>\n",
       "    </tr>\n",
       "    <tr>\n",
       "      <th>3139</th>\n",
       "      <td>ffc71fed753d90c1.jpg</td>\n",
       "      <td>12</td>\n",
       "      <td>0.999996</td>\n",
       "      <td>4</td>\n",
       "      <td>2.512948e-06</td>\n",
       "      <td>처방전</td>\n",
       "      <td>진단서</td>\n",
       "    </tr>\n",
       "  </tbody>\n",
       "</table>\n",
       "<p>3140 rows × 7 columns</p>\n",
       "</div>"
      ],
      "text/plain": [
       "                        id  first_pred  first_prob  second_pred   second_prob  \\\n",
       "0     0008fdb22ddce0ce.jpg           2    1.000000           12  5.293225e-11   \n",
       "1     00091bffdffd83de.jpg          12    1.000000            6  3.877882e-08   \n",
       "2     00396fbc1f6cc21d.jpg           5    1.000000           12  1.668210e-11   \n",
       "3     00471f8038d9c4b6.jpg           4    0.816450           12  8.639906e-02   \n",
       "4     00901f504008d884.jpg           2    1.000000            1  7.791749e-13   \n",
       "...                    ...         ...         ...          ...           ...   \n",
       "3135  ffb4b6f619fb60ea.jpg           6    0.999964           10  2.279942e-05   \n",
       "3136  ffb54299b1ad4159.jpg          10    0.968894           11  2.595469e-02   \n",
       "3137  ffc2c91dff8cf2c0.jpg           8    1.000000            0  4.640368e-08   \n",
       "3138  ffc4e330a5353a2a.jpg           0    1.000000           11  6.265063e-13   \n",
       "3139  ffc71fed753d90c1.jpg          12    0.999996            4  2.512948e-06   \n",
       "\n",
       "     first_pred_kr        second_pred_kr  \n",
       "0          자동차 계기판                   처방전  \n",
       "1              처방전                진료비영수증  \n",
       "2            운전면허증                   처방전  \n",
       "3              진단서                   처방전  \n",
       "4          자동차 계기판  건강보험 임신출산 진료비 지급 신청서  \n",
       "...            ...                   ...  \n",
       "3135        진료비영수증            진료비 납입 확인서  \n",
       "3136    진료비 납입 확인서               약제비 영수증  \n",
       "3137         주민등록증                  계좌번호  \n",
       "3138          계좌번호               약제비 영수증  \n",
       "3139           처방전                   진단서  \n",
       "\n",
       "[3140 rows x 7 columns]"
      ]
     },
     "execution_count": 95,
     "metadata": {},
     "output_type": "execute_result"
    }
   ],
   "source": [
    "test_result_df = pd.DataFrame()\n",
    "test_result_df['id'] = test_ids\n",
    "test_result_df['first_pred'] = test_preds_list\n",
    "test_result_df['first_prob'] = test_probs_list\n",
    "test_result_df['second_pred'] = test_preds_second_list\n",
    "test_result_df['second_prob'] = test_probs_second_list\n",
    "\n",
    "test_result_df['first_pred_kr'] = test_result_df['first_pred'].map(lambda x : meta.loc[meta['target'] == x, 'kr_class_name'].values[0])\n",
    "test_result_df['second_pred_kr'] = test_result_df['second_pred'].map(lambda x : meta.loc[meta['target'] == x, 'kr_class_name'].values[0])\n",
    "\n",
    "test_result_df"
   ]
  },
  {
   "cell_type": "code",
   "execution_count": 100,
   "metadata": {},
   "outputs": [
    {
     "data": {
      "text/plain": [
       "<Axes: xlabel='second_pred', ylabel='first_pred'>"
      ]
     },
     "execution_count": 100,
     "metadata": {},
     "output_type": "execute_result"
    },
    {
     "data": {
      "image/png": "[encoded data removed]",
      "text/plain": [
       "<Figure size 640x480 with 2 Axes>"
      ]
     },
     "metadata": {},
     "output_type": "display_data"
    }
   ],
   "source": [
    "temp_df = test_result_df[(test_result_df['first_prob'] < 0.8)].sort_values(by='first_prob')\n",
    "\n",
    "crosstab = pd.crosstab(temp_df['first_pred'], temp_df['second_pred'])\n",
    "\n",
    "sns.heatmap(data = crosstab, annot=True)"
   ]
  },
  {
   "cell_type": "code",
   "execution_count": null,
   "metadata": {},
   "outputs": [
    {
     "name": "stdout",
     "output_type": "stream",
     "text": [
      "Classification Report:\n",
      "              precision    recall  f1-score   support\n",
      "\n",
      "           0       0.95      1.00      0.98        20\n",
      "           1       1.00      1.00      1.00        13\n",
      "           2       1.00      1.00      1.00        20\n",
      "           3       0.64      0.58      0.61        12\n",
      "           4       0.73      0.94      0.82        17\n",
      "           5       0.89      1.00      0.94        16\n",
      "           6       1.00      0.90      0.95        29\n",
      "           7       0.80      0.60      0.69        20\n",
      "           8       0.94      0.94      0.94        16\n",
      "           9       1.00      1.00      1.00        12\n",
      "          10       0.80      1.00      0.89        20\n",
      "          11       1.00      0.85      0.92        13\n",
      "          12       0.95      0.91      0.93        22\n",
      "          13       1.00      0.94      0.97        17\n",
      "          14       0.93      0.93      0.93        14\n",
      "          15       1.00      1.00      1.00        19\n",
      "          16       1.00      1.00      1.00        16\n",
      "\n",
      "    accuracy                           0.92       296\n",
      "   macro avg       0.92      0.92      0.91       296\n",
      "weighted avg       0.92      0.92      0.92       296\n",
      "\n"
     ]
    }
   ],
   "source": [
    "print(\"Classification Report:\")\n",
    "report = classification_report(valid_targets_list, valid_preds_list, target_names=[str(i) for i in range(17)])\n",
    "print(report)"
   ]
  },
  {
   "cell_type": "code",
   "execution_count": null,
   "metadata": {},
   "outputs": [
    {
     "data": {
      "image/png": "[encoded data removed]",
      "text/plain": [
       "<Figure size 1000x800 with 2 Axes>"
      ]
     },
     "metadata": {},
     "output_type": "display_data"
    }
   ],
   "source": [
    "cm = confusion_matrix(valid_targets_list, valid_preds_list)\n",
    "\n",
    "plt.figure(figsize=(10, 8))\n",
    "sns.heatmap(cm, annot=True, fmt=\"d\", cmap=\"Blues\")\n",
    "plt.xlabel(\"Predicted\")\n",
    "plt.ylabel(\"True\")\n",
    "plt.title(\"Confusion Matrix\")\n",
    "plt.show()\n",
    "plt.close()"
   ]
  },
  {
   "cell_type": "markdown",
   "metadata": {},
   "source": [
    "# wandb 시각화"
   ]
  },
  {
   "cell_type": "code",
   "execution_count": 48,
   "metadata": {},
   "outputs": [
    {
     "data": {
      "text/html": [
       "Finishing last run (ID:hgowbzci) before initializing another..."
      ],
      "text/plain": [
       "<IPython.core.display.HTML object>"
      ]
     },
     "metadata": {},
     "output_type": "display_data"
    },
    {
     "data": {
      "application/vnd.jupyter.widget-view+json": {
       "model_id": "ca77369b8cd14703a4394f0cf5c61648",
       "version_major": 2,
       "version_minor": 0
      },
      "text/plain": [
       "VBox(children=(Label(value='144.410 MB of 144.410 MB uploaded\\r'), FloatProgress(value=1.0, max=1.0)))"
      ]
     },
     "metadata": {},
     "output_type": "display_data"
    },
    {
     "data": {
      "text/html": [
       " View run <strong style=\"color:#cdcd00\">valiant-cloud-3</strong> at: <a href='https://wandb.ai/prefer_leee/PatchModel_analyze/runs/hgowbzci' target=\"_blank\">https://wandb.ai/prefer_leee/PatchModel_analyze/runs/hgowbzci</a><br/> View project at: <a href='https://wandb.ai/prefer_leee/PatchModel_analyze' target=\"_blank\">https://wandb.ai/prefer_leee/PatchModel_analyze</a><br/>Synced 6 W&B file(s), 2221 media file(s), 0 artifact file(s) and 0 other file(s)"
      ],
      "text/plain": [
       "<IPython.core.display.HTML object>"
      ]
     },
     "metadata": {},
     "output_type": "display_data"
    },
    {
     "data": {
      "text/html": [
       "Find logs at: <code></code>"
      ],
      "text/plain": [
       "<IPython.core.display.HTML object>"
      ]
     },
     "metadata": {},
     "output_type": "display_data"
    },
    {
     "data": {
      "text/html": [
       "The new W&B backend becomes opt-out in version 0.18.0; try it out with `wandb.require(\"core\")`! See https://wandb.me/wandb-core for more information."
      ],
      "text/plain": [
       "<IPython.core.display.HTML object>"
      ]
     },
     "metadata": {},
     "output_type": "display_data"
    },
    {
     "data": {
      "text/html": [
       "Successfully finished last run (ID:hgowbzci). Initializing new run:<br/>"
      ],
      "text/plain": [
       "<IPython.core.display.HTML object>"
      ]
     },
     "metadata": {},
     "output_type": "display_data"
    },
    {
     "data": {
      "application/vnd.jupyter.widget-view+json": {
       "model_id": "2642e09d1a1d41bdbb0e938e7feb5c9d",
       "version_major": 2,
       "version_minor": 0
      },
      "text/plain": [
       "VBox(children=(Label(value='Waiting for wandb.init()...\\r'), FloatProgress(value=0.011112199930681122, max=1.0…"
      ]
     },
     "metadata": {},
     "output_type": "display_data"
    },
    {
     "data": {
      "text/html": [
       "wandb version 0.17.6 is available!  To upgrade, please run:\n",
       " $ pip install wandb --upgrade"
      ],
      "text/plain": [
       "<IPython.core.display.HTML object>"
      ]
     },
     "metadata": {},
     "output_type": "display_data"
    },
    {
     "data": {
      "text/html": [
       "Tracking run with wandb version 0.17.5"
      ],
      "text/plain": [
       "<IPython.core.display.HTML object>"
      ]
     },
     "metadata": {},
     "output_type": "display_data"
    },
    {
     "data": {
      "text/html": [
       "Run data is saved locally in <code>/wandb/run-20240808_160436-84gno5dp</code>"
      ],
      "text/plain": [
       "<IPython.core.display.HTML object>"
      ]
     },
     "metadata": {},
     "output_type": "display_data"
    },
    {
     "data": {
      "text/html": [
       "Syncing run <strong><a href='https://wandb.ai/prefer_leee/PatchModel_analyze/runs/84gno5dp' target=\"_blank\">vibrant-snowball-4</a></strong> to <a href='https://wandb.ai/prefer_leee/PatchModel_analyze' target=\"_blank\">Weights & Biases</a> (<a href='https://wandb.me/run' target=\"_blank\">docs</a>)<br/>"
      ],
      "text/plain": [
       "<IPython.core.display.HTML object>"
      ]
     },
     "metadata": {},
     "output_type": "display_data"
    },
    {
     "data": {
      "text/html": [
       " View project at <a href='https://wandb.ai/prefer_leee/PatchModel_analyze' target=\"_blank\">https://wandb.ai/prefer_leee/PatchModel_analyze</a>"
      ],
      "text/plain": [
       "<IPython.core.display.HTML object>"
      ]
     },
     "metadata": {},
     "output_type": "display_data"
    },
    {
     "data": {
      "text/html": [
       " View run at <a href='https://wandb.ai/prefer_leee/PatchModel_analyze/runs/84gno5dp' target=\"_blank\">https://wandb.ai/prefer_leee/PatchModel_analyze/runs/84gno5dp</a>"
      ],
      "text/plain": [
       "<IPython.core.display.HTML object>"
      ]
     },
     "metadata": {},
     "output_type": "display_data"
    },
    {
     "name": "stderr",
     "output_type": "stream",
     "text": [
      "\u001b[34m\u001b[1mwandb\u001b[0m: Network error resolved after 0:00:08.273370, resuming normal operation.\n",
      "\u001b[34m\u001b[1mwandb\u001b[0m: 429 encountered ({\"error\":\"rate limit exceeded\"}), retrying request\n",
      "\u001b[34m\u001b[1mwandb\u001b[0m: 429 encountered ({\"error\":\"rate limit exceeded\"}), retrying request\n"
     ]
    }
   ],
   "source": [
    "wandb.init(project=PROJECT_NAME)"
   ]
  },
  {
   "cell_type": "code",
   "execution_count": 49,
   "metadata": {},
   "outputs": [],
   "source": [
    "wandb_images = {\"wrong\" : [],\n",
    "                \"target 00\" : [],\n",
    "                \"target 01\" : [],\n",
    "                \"target 02\" : [],\n",
    "                \"target 03\" : [],\n",
    "                \"target 04\" : [],\n",
    "                \"target 05\" : [],\n",
    "                \"target 06\" : [],\n",
    "                \"target 07\" : [],\n",
    "                \"target 08\" : [],\n",
    "                \"target 09\" : [],\n",
    "                \"target 10\" : [],\n",
    "                \"target 11\" : [],\n",
    "                \"target 12\" : [],\n",
    "                \"target 13\" : [],\n",
    "                \"target 14\" : [],\n",
    "                \"target 15\" : [],\n",
    "                \"target 16\" : [],}\n",
    "\n",
    "for id, pred, target, pred_kr, target_kr in valid_result_df.itertuples(index=False):\n",
    "    image_np = np.array(Image.open(os.path.join(VALID_IMAGE_PATH, id)).resize((224, 224), Image.LANCZOS))\n",
    "    image = wandb.Image(image_np, caption=f\"실제 : {target_kr}({target})\\n예측 : {pred_kr}({pred})\")\n",
    "\n",
    "    wandb_images[f\"target {target:02}\"].append(image)\n",
    "    \n",
    "    if target != pred:\n",
    "        wandb_images[\"wrong\"].append(image)\n",
    "\n",
    "wandb.log(wandb_images)"
   ]
  },
  {
   "cell_type": "code",
   "execution_count": 75,
   "metadata": {},
   "outputs": [
    {
     "data": {
      "text/html": [
       "Finishing last run (ID:qkwey015) before initializing another..."
      ],
      "text/plain": [
       "<IPython.core.display.HTML object>"
      ]
     },
     "metadata": {},
     "output_type": "display_data"
    },
    {
     "data": {
      "application/vnd.jupyter.widget-view+json": {
       "model_id": "c9a16832382a46089d7635a82a224b82",
       "version_major": 2,
       "version_minor": 0
      },
      "text/plain": [
       "VBox(children=(Label(value='0.016 MB of 0.016 MB uploaded\\r'), FloatProgress(value=0.9983544898918665, max=1.0…"
      ]
     },
     "metadata": {},
     "output_type": "display_data"
    },
    {
     "data": {
      "text/html": [
       " View run <strong style=\"color:#cdcd00\">test dataset</strong> at: <a href='https://wandb.ai/prefer_leee/PatchModel_analyze/runs/qkwey015' target=\"_blank\">https://wandb.ai/prefer_leee/PatchModel_analyze/runs/qkwey015</a><br/> View project at: <a href='https://wandb.ai/prefer_leee/PatchModel_analyze' target=\"_blank\">https://wandb.ai/prefer_leee/PatchModel_analyze</a><br/>Synced 5 W&B file(s), 0 media file(s), 0 artifact file(s) and 0 other file(s)"
      ],
      "text/plain": [
       "<IPython.core.display.HTML object>"
      ]
     },
     "metadata": {},
     "output_type": "display_data"
    },
    {
     "data": {
      "text/html": [
       "Find logs at: <code></code>"
      ],
      "text/plain": [
       "<IPython.core.display.HTML object>"
      ]
     },
     "metadata": {},
     "output_type": "display_data"
    },
    {
     "data": {
      "text/html": [
       "The new W&B backend becomes opt-out in version 0.18.0; try it out with `wandb.require(\"core\")`! See https://wandb.me/wandb-core for more information."
      ],
      "text/plain": [
       "<IPython.core.display.HTML object>"
      ]
     },
     "metadata": {},
     "output_type": "display_data"
    },
    {
     "data": {
      "text/html": [
       "Successfully finished last run (ID:qkwey015). Initializing new run:<br/>"
      ],
      "text/plain": [
       "<IPython.core.display.HTML object>"
      ]
     },
     "metadata": {},
     "output_type": "display_data"
    },
    {
     "data": {
      "application/vnd.jupyter.widget-view+json": {
       "model_id": "55d1817ed2c34fba9575dc3e58044d98",
       "version_major": 2,
       "version_minor": 0
      },
      "text/plain": [
       "VBox(children=(Label(value='Waiting for wandb.init()...\\r'), FloatProgress(value=0.011112163960933685, max=1.0…"
      ]
     },
     "metadata": {},
     "output_type": "display_data"
    },
    {
     "data": {
      "text/html": [
       "wandb version 0.17.6 is available!  To upgrade, please run:\n",
       " $ pip install wandb --upgrade"
      ],
      "text/plain": [
       "<IPython.core.display.HTML object>"
      ]
     },
     "metadata": {},
     "output_type": "display_data"
    },
    {
     "data": {
      "text/html": [
       "Tracking run with wandb version 0.17.5"
      ],
      "text/plain": [
       "<IPython.core.display.HTML object>"
      ]
     },
     "metadata": {},
     "output_type": "display_data"
    },
    {
     "data": {
      "text/html": [
       "Run data is saved locally in <code>/wandb/run-20240808_174702-1bzsxsi2</code>"
      ],
      "text/plain": [
       "<IPython.core.display.HTML object>"
      ]
     },
     "metadata": {},
     "output_type": "display_data"
    },
    {
     "data": {
      "text/html": [
       "Syncing run <strong><a href='https://wandb.ai/prefer_leee/PatchModel_analyze/runs/1bzsxsi2' target=\"_blank\">test dataset</a></strong> to <a href='https://wandb.ai/prefer_leee/PatchModel_analyze' target=\"_blank\">Weights & Biases</a> (<a href='https://wandb.me/run' target=\"_blank\">docs</a>)<br/>"
      ],
      "text/plain": [
       "<IPython.core.display.HTML object>"
      ]
     },
     "metadata": {},
     "output_type": "display_data"
    },
    {
     "data": {
      "text/html": [
       " View project at <a href='https://wandb.ai/prefer_leee/PatchModel_analyze' target=\"_blank\">https://wandb.ai/prefer_leee/PatchModel_analyze</a>"
      ],
      "text/plain": [
       "<IPython.core.display.HTML object>"
      ]
     },
     "metadata": {},
     "output_type": "display_data"
    },
    {
     "data": {
      "text/html": [
       " View run at <a href='https://wandb.ai/prefer_leee/PatchModel_analyze/runs/1bzsxsi2' target=\"_blank\">https://wandb.ai/prefer_leee/PatchModel_analyze/runs/1bzsxsi2</a>"
      ],
      "text/plain": [
       "<IPython.core.display.HTML object>"
      ]
     },
     "metadata": {},
     "output_type": "display_data"
    },
    {
     "name": "stderr",
     "output_type": "stream",
     "text": [
      "WARNING:root:Only 108 Image will be uploaded.\n"
     ]
    }
   ],
   "source": [
    "wandb.init(project=PROJECT_NAME, name='test dataset')\n",
    "\"\"\"\n",
    "wandb_images = {\"test 00\" : [],\n",
    "                \"test 01\" : [],\n",
    "                \"test 02\" : [],\n",
    "                \"test 03\" : [],\n",
    "                \"test 04\" : [],\n",
    "                \"test 05\" : [],\n",
    "                \"test 06\" : [],\n",
    "                \"test 07\" : [],\n",
    "                \"test 08\" : [],\n",
    "                \"test 09\" : [],\n",
    "                \"test 10\" : [],\n",
    "                \"test 11\" : [],\n",
    "                \"test 12\" : [],\n",
    "                \"test 13\" : [],\n",
    "                \"test 14\" : [],\n",
    "                \"test 15\" : [],\n",
    "                \"test 16\" : [],\n",
    "                \"test prob 0.8\" : []}\n",
    "\"\"\"\n",
    "\n",
    "wandb_images = {\"test prob 0.8\" : []}\n",
    "\n",
    "for id, pred, prob, pred_kr in test_result_df.itertuples(index=False):\n",
    "    image_np = np.array(Image.open(os.path.join(TEST_IMAGE_PATH, id)).resize((224, 224), Image.LANCZOS))\n",
    "    image = wandb.Image(image_np, caption=f\"예측 : {pred_kr}({pred}) 확신 : {prob}\")\n",
    "\n",
    "    #if len(wandb_images[f\"test {pred:02}\"]) < 108:\n",
    "    #    wandb_images[f\"test {pred:02}\"].append(image)\n",
    "\n",
    "    if prob < 0.8:\n",
    "        wandb_images['test prob 0.8'].append(image)\n",
    "\n",
    "wandb.log(wandb_images)"
   ]
  },
  {
   "cell_type": "code",
   "execution_count": 52,
   "metadata": {},
   "outputs": [],
   "source": [
    "test_result_df.to_csv(\"/upstage-cv-classification-cv2/data/patch_model_pred_result.csv\", index=False)"
   ]
  },
  {
   "cell_type": "code",
   "execution_count": null,
   "metadata": {},
   "outputs": [],
   "source": []
  }
 ],
 "metadata": {
  "kernelspec": {
   "display_name": "myvenv",
   "language": "python",
   "name": "python3"
  },
  "language_info": {
   "codemirror_mode": {
    "name": "ipython",
    "version": 3
   },
   "file_extension": ".py",
   "mimetype": "text/x-python",
   "name": "python",
   "nbconvert_exporter": "python",
   "pygments_lexer": "ipython3",
   "version": "3.10.14"
  }
 },
 "nbformat": 4,
 "nbformat_minor": 2
}
