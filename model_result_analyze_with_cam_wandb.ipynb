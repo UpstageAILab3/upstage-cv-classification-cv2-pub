{
 "cells": [
  {
   "cell_type": "code",
   "execution_count": 59,
   "metadata": {},
   "outputs": [],
   "source": [
    "import timm\n",
    "import torch\n",
    "from tqdm import tqdm\n",
    "import os\n",
    "\n",
    "import wandb\n",
    "\n",
    "import pandas as pd\n",
    "import numpy as np\n",
    "\n",
    "import albumentations as A\n",
    "from albumentations.pytorch import ToTensorV2\n",
    "\n",
    "from torch.utils.data import Dataset, DataLoader\n",
    "import torch.nn as nn\n",
    "from torch.optim import Adam\n",
    "\n",
    "from PIL import Image\n",
    "\n",
    "from sklearn.metrics import classification_report, confusion_matrix\n",
    "\n",
    "import matplotlib.pyplot as plt\n",
    "import seaborn as sns\n",
    "\n",
    "# device\n",
    "device = torch.device('cuda' if torch.cuda.is_available() else 'cpu')"
   ]
  },
  {
   "cell_type": "code",
   "execution_count": 60,
   "metadata": {},
   "outputs": [],
   "source": [
    "MODEL_PATH = '/upstage-cv-classification-cv2/best_model.pth'\n",
    "MODEL_NAME = 'efficientnet_b4'\n",
    "\n",
    "VALID_CSV_PATH = '/upstage-cv-classification-cv2/data/valid.csv'\n",
    "VALID_IMAGE_PATH = '/upstage-cv-classification-cv2/data/valid'\n",
    "\n",
    "PROJECT_NAME = 'PatchModel_analyze'\n",
    "\n",
    "META_CSV_PATH = '/upstage-cv-classification-cv2/data/meta.csv'"
   ]
  },
  {
   "cell_type": "code",
   "execution_count": 61,
   "metadata": {},
   "outputs": [
    {
     "data": {
      "text/html": [
       "<div>\n",
       "<style scoped>\n",
       "    .dataframe tbody tr th:only-of-type {\n",
       "        vertical-align: middle;\n",
       "    }\n",
       "\n",
       "    .dataframe tbody tr th {\n",
       "        vertical-align: top;\n",
       "    }\n",
       "\n",
       "    .dataframe thead th {\n",
       "        text-align: right;\n",
       "    }\n",
       "</style>\n",
       "<table border=\"1\" class=\"dataframe\">\n",
       "  <thead>\n",
       "    <tr style=\"text-align: right;\">\n",
       "      <th></th>\n",
       "      <th>target</th>\n",
       "      <th>class_name</th>\n",
       "      <th>kr_class_name</th>\n",
       "    </tr>\n",
       "  </thead>\n",
       "  <tbody>\n",
       "    <tr>\n",
       "      <th>0</th>\n",
       "      <td>0</td>\n",
       "      <td>account_number</td>\n",
       "      <td>계좌번호</td>\n",
       "    </tr>\n",
       "    <tr>\n",
       "      <th>1</th>\n",
       "      <td>1</td>\n",
       "      <td>application_for_payment_of_pregnancy_medical_e...</td>\n",
       "      <td>건강보험 임신출산 진료비 지급 신청서</td>\n",
       "    </tr>\n",
       "    <tr>\n",
       "      <th>2</th>\n",
       "      <td>2</td>\n",
       "      <td>car_dashboard</td>\n",
       "      <td>자동차 계기판</td>\n",
       "    </tr>\n",
       "    <tr>\n",
       "      <th>3</th>\n",
       "      <td>3</td>\n",
       "      <td>confirmation_of_admission_and_discharge</td>\n",
       "      <td>입퇴원 확인서</td>\n",
       "    </tr>\n",
       "    <tr>\n",
       "      <th>4</th>\n",
       "      <td>4</td>\n",
       "      <td>diagnosis</td>\n",
       "      <td>진단서</td>\n",
       "    </tr>\n",
       "    <tr>\n",
       "      <th>5</th>\n",
       "      <td>5</td>\n",
       "      <td>driver_lisence</td>\n",
       "      <td>운전면허증</td>\n",
       "    </tr>\n",
       "    <tr>\n",
       "      <th>6</th>\n",
       "      <td>6</td>\n",
       "      <td>medical_bill_receipts</td>\n",
       "      <td>진료비영수증</td>\n",
       "    </tr>\n",
       "    <tr>\n",
       "      <th>7</th>\n",
       "      <td>7</td>\n",
       "      <td>medical_outpatient_certificate</td>\n",
       "      <td>통원진료 확인서</td>\n",
       "    </tr>\n",
       "    <tr>\n",
       "      <th>8</th>\n",
       "      <td>8</td>\n",
       "      <td>national_id_card</td>\n",
       "      <td>주민등록증</td>\n",
       "    </tr>\n",
       "    <tr>\n",
       "      <th>9</th>\n",
       "      <td>9</td>\n",
       "      <td>passport</td>\n",
       "      <td>여권</td>\n",
       "    </tr>\n",
       "    <tr>\n",
       "      <th>10</th>\n",
       "      <td>10</td>\n",
       "      <td>payment_confirmation</td>\n",
       "      <td>진료비 납입 확인서</td>\n",
       "    </tr>\n",
       "    <tr>\n",
       "      <th>11</th>\n",
       "      <td>11</td>\n",
       "      <td>pharmaceutical_receipt</td>\n",
       "      <td>약제비 영수증</td>\n",
       "    </tr>\n",
       "    <tr>\n",
       "      <th>12</th>\n",
       "      <td>12</td>\n",
       "      <td>prescription</td>\n",
       "      <td>처방전</td>\n",
       "    </tr>\n",
       "    <tr>\n",
       "      <th>13</th>\n",
       "      <td>13</td>\n",
       "      <td>resume</td>\n",
       "      <td>이력서</td>\n",
       "    </tr>\n",
       "    <tr>\n",
       "      <th>14</th>\n",
       "      <td>14</td>\n",
       "      <td>statement_of_opinion</td>\n",
       "      <td>소견서</td>\n",
       "    </tr>\n",
       "    <tr>\n",
       "      <th>15</th>\n",
       "      <td>15</td>\n",
       "      <td>vehicle_registration_certificate</td>\n",
       "      <td>자동차 등록증</td>\n",
       "    </tr>\n",
       "    <tr>\n",
       "      <th>16</th>\n",
       "      <td>16</td>\n",
       "      <td>vehicle_registration_plate</td>\n",
       "      <td>자동차 번호판</td>\n",
       "    </tr>\n",
       "  </tbody>\n",
       "</table>\n",
       "</div>"
      ],
      "text/plain": [
       "    target                                         class_name  \\\n",
       "0        0                                     account_number   \n",
       "1        1  application_for_payment_of_pregnancy_medical_e...   \n",
       "2        2                                      car_dashboard   \n",
       "3        3            confirmation_of_admission_and_discharge   \n",
       "4        4                                          diagnosis   \n",
       "5        5                                     driver_lisence   \n",
       "6        6                              medical_bill_receipts   \n",
       "7        7                     medical_outpatient_certificate   \n",
       "8        8                                   national_id_card   \n",
       "9        9                                           passport   \n",
       "10      10                               payment_confirmation   \n",
       "11      11                             pharmaceutical_receipt   \n",
       "12      12                                       prescription   \n",
       "13      13                                             resume   \n",
       "14      14                               statement_of_opinion   \n",
       "15      15                   vehicle_registration_certificate   \n",
       "16      16                         vehicle_registration_plate   \n",
       "\n",
       "           kr_class_name  \n",
       "0                   계좌번호  \n",
       "1   건강보험 임신출산 진료비 지급 신청서  \n",
       "2                자동차 계기판  \n",
       "3                입퇴원 확인서  \n",
       "4                    진단서  \n",
       "5                  운전면허증  \n",
       "6                 진료비영수증  \n",
       "7               통원진료 확인서  \n",
       "8                  주민등록증  \n",
       "9                     여권  \n",
       "10            진료비 납입 확인서  \n",
       "11               약제비 영수증  \n",
       "12                   처방전  \n",
       "13                   이력서  \n",
       "14                   소견서  \n",
       "15               자동차 등록증  \n",
       "16               자동차 번호판  "
      ]
     },
     "execution_count": 61,
     "metadata": {},
     "output_type": "execute_result"
    }
   ],
   "source": [
    "meta = pd.read_csv(META_CSV_PATH)\n",
    "\n",
    "translations = {\n",
    "        'account_number': '계좌번호',\n",
    "        'application_for_payment_of_pregnancy_medical_expenses': '건강보험 임신출산 진료비 지급 신청서',\n",
    "        'car_dashboard': '자동차 계기판',\n",
    "        'confirmation_of_admission_and_discharge': '입퇴원 확인서',\n",
    "        'diagnosis': '진단서',\n",
    "        'driver_lisence': '운전면허증',\n",
    "        'medical_bill_receipts': '진료비영수증',\n",
    "        'medical_outpatient_certificate': '통원진료 확인서',\n",
    "        'national_id_card': '주민등록증',\n",
    "        'passport': '여권',\n",
    "        'payment_confirmation': '진료비 납입 확인서',\n",
    "        'pharmaceutical_receipt': '약제비 영수증',\n",
    "        'prescription': '처방전',\n",
    "        'resume': '이력서',\n",
    "        'statement_of_opinion': '소견서',\n",
    "        'vehicle_registration_certificate': '자동차 등록증',\n",
    "        'vehicle_registration_plate': '자동차 번호판'\n",
    "}\n",
    "\n",
    "meta['kr_class_name'] = meta['class_name'].map(lambda x : translations[x])\n",
    "meta"
   ]
  },
  {
   "cell_type": "markdown",
   "metadata": {},
   "source": [
    "# 모델 로드"
   ]
  },
  {
   "cell_type": "code",
   "execution_count": 62,
   "metadata": {},
   "outputs": [
    {
     "name": "stderr",
     "output_type": "stream",
     "text": [
      "/tmp/ipykernel_341062/2802445694.py:4: FutureWarning: You are using `torch.load` with `weights_only=False` (the current default value), which uses the default pickle module implicitly. It is possible to construct malicious pickle data which will execute arbitrary code during unpickling (See https://github.com/pytorch/pytorch/blob/main/SECURITY.md#untrusted-models for more details). In a future release, the default value for `weights_only` will be flipped to `True`. This limits the functions that could be executed during unpickling. Arbitrary objects will no longer be allowed to be loaded via this mode unless they are explicitly allowlisted by the user via `torch.serialization.add_safe_globals`. We recommend you start setting `weights_only=True` for any use case where you don't have full control of the loaded file. Please open an issue on GitHub for any issues related to this experimental feature.\n",
      "  model.load_state_dict(torch.load(MODEL_PATH))\n"
     ]
    },
    {
     "data": {
      "text/plain": [
       "<All keys matched successfully>"
      ]
     },
     "execution_count": 62,
     "metadata": {},
     "output_type": "execute_result"
    }
   ],
   "source": [
    "model = timm.create_model(MODEL_NAME, pretrained=False, num_classes=17).to(device)\n",
    "\n",
    "# 모델 가중치 로드\n",
    "model.load_state_dict(torch.load(MODEL_PATH))"
   ]
  },
  {
   "cell_type": "markdown",
   "metadata": {},
   "source": [
    "# 모델 성능 확인"
   ]
  },
  {
   "cell_type": "code",
   "execution_count": 63,
   "metadata": {},
   "outputs": [],
   "source": [
    "# training config\n",
    "img_size = 380\n",
    "LR = 1e-3\n",
    "BATCH_SIZE = 32\n",
    "\n",
    "patience = 5\n",
    "min_delta = 0.001 # 성능 개선의 최소 변화량\n",
    "\n",
    "# test image 변환\n",
    "data_transform = A.Compose([\n",
    "    A.Resize(height = img_size, width = img_size),\n",
    "    A.Normalize(mean=[0.485, 0.456, 0.406], std = [0.229, 0.224, 0.225]),\n",
    "    ToTensorV2()\n",
    "])\n",
    "\n",
    "class ImageDataset(Dataset):\n",
    "    def __init__(self, csv, path, transform=None):\n",
    "        self.df = pd.read_csv(csv).values\n",
    "        self.path = path\n",
    "        self.transform = transform\n",
    "\n",
    "    def __len__(self):\n",
    "        return len(self.df)\n",
    "    \n",
    "    def __getitem__(self, idx):\n",
    "        name, target = self.df[idx]\n",
    "        img = np.array(Image.open(os.path.join(self.path, name)))\n",
    "        if self.transform:\n",
    "            img = self.transform(image = img)['image']\n",
    "    \n",
    "        return img, target, name\n",
    "\n",
    "    def get_labels(self):\n",
    "        return self.df[:, 1] "
   ]
  },
  {
   "cell_type": "code",
   "execution_count": 64,
   "metadata": {},
   "outputs": [],
   "source": [
    "val_dataset = ImageDataset(\n",
    "    VALID_CSV_PATH,\n",
    "    VALID_IMAGE_PATH,\n",
    "    transform = data_transform\n",
    ")\n",
    "\n",
    "val_loader = DataLoader(\n",
    "    val_dataset,\n",
    "    batch_size = BATCH_SIZE,\n",
    "    num_workers = 0,\n",
    "    pin_memory = True,\n",
    "    drop_last = False\n",
    ")"
   ]
  },
  {
   "cell_type": "code",
   "execution_count": 65,
   "metadata": {},
   "outputs": [
    {
     "name": "stderr",
     "output_type": "stream",
     "text": [
      "Loss: 0.0158: 100%|██████████| 10/10 [00:01<00:00,  6.49it/s]\n"
     ]
    }
   ],
   "source": [
    "preds_list = []\n",
    "targets_list = []\n",
    "ids = []\n",
    "\n",
    "loss_fn = nn.CrossEntropyLoss()\n",
    "optimizer = Adam(model.parameters(), lr = LR)\n",
    "\n",
    "model.eval()\n",
    "\n",
    "with torch.no_grad():\n",
    "    pbar = tqdm(val_loader)\n",
    "    for step, (image, targets, id) in enumerate(pbar):\n",
    "        image = image.to(device)\n",
    "        targets = targets.to(device)\n",
    "\n",
    "        preds = model(image)\n",
    "        loss = loss_fn(preds, targets)\n",
    "    \n",
    "        preds_list.extend(preds.argmax(dim=1).detach().cpu().numpy())\n",
    "        targets_list.extend(targets.detach().cpu().numpy())\n",
    "        ids.extend(id)\n",
    "\n",
    "        pbar.set_description(f\"Loss: {loss.item():.4f}\")\n",
    "\n"
   ]
  },
  {
   "cell_type": "code",
   "execution_count": 66,
   "metadata": {},
   "outputs": [
    {
     "data": {
      "text/html": [
       "<div>\n",
       "<style scoped>\n",
       "    .dataframe tbody tr th:only-of-type {\n",
       "        vertical-align: middle;\n",
       "    }\n",
       "\n",
       "    .dataframe tbody tr th {\n",
       "        vertical-align: top;\n",
       "    }\n",
       "\n",
       "    .dataframe thead th {\n",
       "        text-align: right;\n",
       "    }\n",
       "</style>\n",
       "<table border=\"1\" class=\"dataframe\">\n",
       "  <thead>\n",
       "    <tr style=\"text-align: right;\">\n",
       "      <th></th>\n",
       "      <th>id</th>\n",
       "      <th>pred</th>\n",
       "      <th>target</th>\n",
       "      <th>pred_kr</th>\n",
       "      <th>target_kr</th>\n",
       "    </tr>\n",
       "  </thead>\n",
       "  <tbody>\n",
       "    <tr>\n",
       "      <th>0</th>\n",
       "      <td>valid_d919dabe9f066dfc.jpg</td>\n",
       "      <td>1</td>\n",
       "      <td>1</td>\n",
       "      <td>건강보험 임신출산 진료비 지급 신청서</td>\n",
       "      <td>건강보험 임신출산 진료비 지급 신청서</td>\n",
       "    </tr>\n",
       "    <tr>\n",
       "      <th>1</th>\n",
       "      <td>valid_7f23b9ae37e539ea.jpg</td>\n",
       "      <td>1</td>\n",
       "      <td>1</td>\n",
       "      <td>건강보험 임신출산 진료비 지급 신청서</td>\n",
       "      <td>건강보험 임신출산 진료비 지급 신청서</td>\n",
       "    </tr>\n",
       "    <tr>\n",
       "      <th>2</th>\n",
       "      <td>valid_9a36a151cf95bb29.jpg</td>\n",
       "      <td>1</td>\n",
       "      <td>1</td>\n",
       "      <td>건강보험 임신출산 진료비 지급 신청서</td>\n",
       "      <td>건강보험 임신출산 진료비 지급 신청서</td>\n",
       "    </tr>\n",
       "    <tr>\n",
       "      <th>3</th>\n",
       "      <td>valid_f0d11155d48758de.jpg</td>\n",
       "      <td>1</td>\n",
       "      <td>1</td>\n",
       "      <td>건강보험 임신출산 진료비 지급 신청서</td>\n",
       "      <td>건강보험 임신출산 진료비 지급 신청서</td>\n",
       "    </tr>\n",
       "    <tr>\n",
       "      <th>4</th>\n",
       "      <td>valid_c8816965abf6559b.jpg</td>\n",
       "      <td>1</td>\n",
       "      <td>1</td>\n",
       "      <td>건강보험 임신출산 진료비 지급 신청서</td>\n",
       "      <td>건강보험 임신출산 진료비 지급 신청서</td>\n",
       "    </tr>\n",
       "    <tr>\n",
       "      <th>...</th>\n",
       "      <td>...</td>\n",
       "      <td>...</td>\n",
       "      <td>...</td>\n",
       "      <td>...</td>\n",
       "      <td>...</td>\n",
       "    </tr>\n",
       "    <tr>\n",
       "      <th>291</th>\n",
       "      <td>valid_1421fb31607c5123.jpg</td>\n",
       "      <td>13</td>\n",
       "      <td>13</td>\n",
       "      <td>이력서</td>\n",
       "      <td>이력서</td>\n",
       "    </tr>\n",
       "    <tr>\n",
       "      <th>292</th>\n",
       "      <td>valid_70ee60fe819b7b39.jpg</td>\n",
       "      <td>0</td>\n",
       "      <td>0</td>\n",
       "      <td>계좌번호</td>\n",
       "      <td>계좌번호</td>\n",
       "    </tr>\n",
       "    <tr>\n",
       "      <th>293</th>\n",
       "      <td>valid_359fab2e1b0ab5e1.jpg</td>\n",
       "      <td>2</td>\n",
       "      <td>2</td>\n",
       "      <td>자동차 계기판</td>\n",
       "      <td>자동차 계기판</td>\n",
       "    </tr>\n",
       "    <tr>\n",
       "      <th>294</th>\n",
       "      <td>valid_01385f22f2490868.jpg</td>\n",
       "      <td>4</td>\n",
       "      <td>4</td>\n",
       "      <td>진단서</td>\n",
       "      <td>진단서</td>\n",
       "    </tr>\n",
       "    <tr>\n",
       "      <th>295</th>\n",
       "      <td>valid_81dfc09159a18109.jpg</td>\n",
       "      <td>6</td>\n",
       "      <td>6</td>\n",
       "      <td>진료비영수증</td>\n",
       "      <td>진료비영수증</td>\n",
       "    </tr>\n",
       "  </tbody>\n",
       "</table>\n",
       "<p>296 rows × 5 columns</p>\n",
       "</div>"
      ],
      "text/plain": [
       "                             id  pred  target               pred_kr  \\\n",
       "0    valid_d919dabe9f066dfc.jpg     1       1  건강보험 임신출산 진료비 지급 신청서   \n",
       "1    valid_7f23b9ae37e539ea.jpg     1       1  건강보험 임신출산 진료비 지급 신청서   \n",
       "2    valid_9a36a151cf95bb29.jpg     1       1  건강보험 임신출산 진료비 지급 신청서   \n",
       "3    valid_f0d11155d48758de.jpg     1       1  건강보험 임신출산 진료비 지급 신청서   \n",
       "4    valid_c8816965abf6559b.jpg     1       1  건강보험 임신출산 진료비 지급 신청서   \n",
       "..                          ...   ...     ...                   ...   \n",
       "291  valid_1421fb31607c5123.jpg    13      13                   이력서   \n",
       "292  valid_70ee60fe819b7b39.jpg     0       0                  계좌번호   \n",
       "293  valid_359fab2e1b0ab5e1.jpg     2       2               자동차 계기판   \n",
       "294  valid_01385f22f2490868.jpg     4       4                   진단서   \n",
       "295  valid_81dfc09159a18109.jpg     6       6                진료비영수증   \n",
       "\n",
       "                target_kr  \n",
       "0    건강보험 임신출산 진료비 지급 신청서  \n",
       "1    건강보험 임신출산 진료비 지급 신청서  \n",
       "2    건강보험 임신출산 진료비 지급 신청서  \n",
       "3    건강보험 임신출산 진료비 지급 신청서  \n",
       "4    건강보험 임신출산 진료비 지급 신청서  \n",
       "..                    ...  \n",
       "291                   이력서  \n",
       "292                  계좌번호  \n",
       "293               자동차 계기판  \n",
       "294                   진단서  \n",
       "295                진료비영수증  \n",
       "\n",
       "[296 rows x 5 columns]"
      ]
     },
     "execution_count": 66,
     "metadata": {},
     "output_type": "execute_result"
    }
   ],
   "source": [
    "result_df = pd.DataFrame()\n",
    "result_df['id'] = ids\n",
    "result_df['pred'] = preds_list\n",
    "result_df['target'] = targets_list\n",
    "\n",
    "result_df['pred_kr'] = result_df['pred'].map(lambda x : meta.loc[meta['target'] == x, 'kr_class_name'].values[0])\n",
    "result_df['target_kr'] = result_df['target'].map(lambda x : meta.loc[meta['target'] == x, 'kr_class_name'].values[0])\n",
    "\n",
    "result_df"
   ]
  },
  {
   "cell_type": "code",
   "execution_count": 67,
   "metadata": {},
   "outputs": [
    {
     "name": "stdout",
     "output_type": "stream",
     "text": [
      "Classification Report:\n",
      "              precision    recall  f1-score   support\n",
      "\n",
      "           0       0.95      1.00      0.98        20\n",
      "           1       1.00      1.00      1.00        13\n",
      "           2       1.00      1.00      1.00        20\n",
      "           3       0.64      0.58      0.61        12\n",
      "           4       0.73      0.94      0.82        17\n",
      "           5       0.89      1.00      0.94        16\n",
      "           6       1.00      0.90      0.95        29\n",
      "           7       0.80      0.60      0.69        20\n",
      "           8       0.94      0.94      0.94        16\n",
      "           9       1.00      1.00      1.00        12\n",
      "          10       0.80      1.00      0.89        20\n",
      "          11       1.00      0.85      0.92        13\n",
      "          12       0.95      0.91      0.93        22\n",
      "          13       1.00      0.94      0.97        17\n",
      "          14       0.93      0.93      0.93        14\n",
      "          15       1.00      1.00      1.00        19\n",
      "          16       1.00      1.00      1.00        16\n",
      "\n",
      "    accuracy                           0.92       296\n",
      "   macro avg       0.92      0.92      0.91       296\n",
      "weighted avg       0.92      0.92      0.92       296\n",
      "\n"
     ]
    }
   ],
   "source": [
    "print(\"Classification Report:\")\n",
    "report = classification_report(targets_list, preds_list, target_names=[str(i) for i in range(17)])\n",
    "print(report)"
   ]
  },
  {
   "cell_type": "code",
   "execution_count": 68,
   "metadata": {},
   "outputs": [
    {
     "data": {
      "image/png": "[encoded data removed]",
      "text/plain": [
       "<Figure size 1000x800 with 2 Axes>"
      ]
     },
     "metadata": {},
     "output_type": "display_data"
    }
   ],
   "source": [
    "cm = confusion_matrix(targets_list, preds_list)\n",
    "\n",
    "plt.figure(figsize=(10, 8))\n",
    "sns.heatmap(cm, annot=True, fmt=\"d\", cmap=\"Blues\")\n",
    "plt.xlabel(\"Predicted\")\n",
    "plt.ylabel(\"True\")\n",
    "plt.title(\"Confusion Matrix\")\n",
    "plt.show()\n",
    "plt.close()"
   ]
  },
  {
   "cell_type": "markdown",
   "metadata": {},
   "source": [
    "# wandb 시각화"
   ]
  },
  {
   "cell_type": "code",
   "execution_count": 69,
   "metadata": {},
   "outputs": [
    {
     "data": {
      "text/html": [
       "Finishing last run (ID:kicb0b0f) before initializing another..."
      ],
      "text/plain": [
       "<IPython.core.display.HTML object>"
      ]
     },
     "metadata": {},
     "output_type": "display_data"
    },
    {
     "data": {
      "application/vnd.jupyter.widget-view+json": {
       "model_id": "36ce1b8a582f4465b91c21cc3760e2d8",
       "version_major": 2,
       "version_minor": 0
      },
      "text/plain": [
       "VBox(children=(Label(value='105.624 MB of 126.715 MB uploaded\\r'), FloatProgress(value=0.8335605155915613, max…"
      ]
     },
     "metadata": {},
     "output_type": "display_data"
    },
    {
     "data": {
      "text/html": [
       " View run <strong style=\"color:#cdcd00\">flowing-star-1</strong> at: <a href='https://wandb.ai/prefer_leee/patch_model_analyze/runs/kicb0b0f' target=\"_blank\">https://wandb.ai/prefer_leee/patch_model_analyze/runs/kicb0b0f</a><br/> View project at: <a href='https://wandb.ai/prefer_leee/patch_model_analyze' target=\"_blank\">https://wandb.ai/prefer_leee/patch_model_analyze</a><br/>Synced 6 W&B file(s), 961 media file(s), 0 artifact file(s) and 0 other file(s)"
      ],
      "text/plain": [
       "<IPython.core.display.HTML object>"
      ]
     },
     "metadata": {},
     "output_type": "display_data"
    },
    {
     "data": {
      "text/html": [
       "Find logs at: <code></code>"
      ],
      "text/plain": [
       "<IPython.core.display.HTML object>"
      ]
     },
     "metadata": {},
     "output_type": "display_data"
    },
    {
     "data": {
      "text/html": [
       "The new W&B backend becomes opt-out in version 0.18.0; try it out with `wandb.require(\"core\")`! See https://wandb.me/wandb-core for more information."
      ],
      "text/plain": [
       "<IPython.core.display.HTML object>"
      ]
     },
     "metadata": {},
     "output_type": "display_data"
    },
    {
     "data": {
      "text/html": [
       "Successfully finished last run (ID:kicb0b0f). Initializing new run:<br/>"
      ],
      "text/plain": [
       "<IPython.core.display.HTML object>"
      ]
     },
     "metadata": {},
     "output_type": "display_data"
    },
    {
     "data": {
      "application/vnd.jupyter.widget-view+json": {
       "model_id": "df7fdf0b414146ca86e5000239d1f653",
       "version_major": 2,
       "version_minor": 0
      },
      "text/plain": [
       "VBox(children=(Label(value='Waiting for wandb.init()...\\r'), FloatProgress(value=0.011112285529573758, max=1.0…"
      ]
     },
     "metadata": {},
     "output_type": "display_data"
    },
    {
     "data": {
      "text/html": [
       "Tracking run with wandb version 0.17.5"
      ],
      "text/plain": [
       "<IPython.core.display.HTML object>"
      ]
     },
     "metadata": {},
     "output_type": "display_data"
    },
    {
     "data": {
      "text/html": [
       "Run data is saved locally in <code>/wandb/run-20240807_120905-yngqc4na</code>"
      ],
      "text/plain": [
       "<IPython.core.display.HTML object>"
      ]
     },
     "metadata": {},
     "output_type": "display_data"
    },
    {
     "data": {
      "text/html": [
       "Syncing run <strong><a href='https://wandb.ai/prefer_leee/PatchModel_analyze/runs/yngqc4na' target=\"_blank\">ethereal-cloud-1</a></strong> to <a href='https://wandb.ai/prefer_leee/PatchModel_analyze' target=\"_blank\">Weights & Biases</a> (<a href='https://wandb.me/run' target=\"_blank\">docs</a>)<br/>"
      ],
      "text/plain": [
       "<IPython.core.display.HTML object>"
      ]
     },
     "metadata": {},
     "output_type": "display_data"
    },
    {
     "data": {
      "text/html": [
       " View project at <a href='https://wandb.ai/prefer_leee/PatchModel_analyze' target=\"_blank\">https://wandb.ai/prefer_leee/PatchModel_analyze</a>"
      ],
      "text/plain": [
       "<IPython.core.display.HTML object>"
      ]
     },
     "metadata": {},
     "output_type": "display_data"
    },
    {
     "data": {
      "text/html": [
       " View run at <a href='https://wandb.ai/prefer_leee/PatchModel_analyze/runs/yngqc4na' target=\"_blank\">https://wandb.ai/prefer_leee/PatchModel_analyze/runs/yngqc4na</a>"
      ],
      "text/plain": [
       "<IPython.core.display.HTML object>"
      ]
     },
     "metadata": {},
     "output_type": "display_data"
    }
   ],
   "source": [
    "wandb.init(project=PROJECT_NAME)\n",
    "\n",
    "wandb.log({\"classification_report\" : wandb.Html(f\"<pre>{report}</pre>\")})"
   ]
  },
  {
   "cell_type": "code",
   "execution_count": 70,
   "metadata": {},
   "outputs": [],
   "source": [
    "wandb_images = {\"wrong\" : [],\n",
    "                \"target 0\" : [],\n",
    "                \"target 1\" : [],\n",
    "                \"target 2\" : [],\n",
    "                \"target 3\" : [],\n",
    "                \"target 4\" : [],\n",
    "                \"target 5\" : [],\n",
    "                \"target 6\" : [],\n",
    "                \"target 7\" : [],\n",
    "                \"target 8\" : [],\n",
    "                \"target 9\" : [],\n",
    "                \"target 10\" : [],\n",
    "                \"target 11\" : [],\n",
    "                \"target 12\" : [],\n",
    "                \"target 13\" : [],\n",
    "                \"target 14\" : [],\n",
    "                \"target 15\" : [],\n",
    "                \"target 16\" : [],}\n",
    "\n",
    "for id, pred, target, pred_kr, target_kr in result_df.itertuples(index=False):\n",
    "    image_np = np.array(Image.open(os.path.join(VALID_IMAGE_PATH, id)).resize((224, 224), Image.LANCZOS))\n",
    "    image = wandb.Image(image_np, caption=f\"실제 : {target_kr}({target}), 예측 : {pred_kr}({pred})\")\n",
    "\n",
    "    wandb_images[f\"target {target}\"].append(image)\n",
    "    \n",
    "    if target != pred:\n",
    "        wandb_images[\"wrong\"].append(image)\n",
    "\n",
    "wandb.log(wandb_images)"
   ]
  },
  {
   "cell_type": "code",
   "execution_count": 72,
   "metadata": {},
   "outputs": [
    {
     "data": {
      "application/vnd.jupyter.widget-view+json": {
       "model_id": "d1373c4d1ed144fab7d54d835b6a9e22",
       "version_major": 2,
       "version_minor": 0
      },
      "text/plain": [
       "VBox(children=(Label(value='21.099 MB of 21.160 MB uploaded\\r'), FloatProgress(value=0.9971274081213188, max=1…"
      ]
     },
     "metadata": {},
     "output_type": "display_data"
    },
    {
     "data": {
      "text/html": [
       " View run <strong style=\"color:#cdcd00\">ethereal-cloud-1</strong> at: <a href='https://wandb.ai/prefer_leee/PatchModel_analyze/runs/yngqc4na' target=\"_blank\">https://wandb.ai/prefer_leee/PatchModel_analyze/runs/yngqc4na</a><br/> View project at: <a href='https://wandb.ai/prefer_leee/PatchModel_analyze' target=\"_blank\">https://wandb.ai/prefer_leee/PatchModel_analyze</a><br/>Synced 5 W&B file(s), 321 media file(s), 0 artifact file(s) and 0 other file(s)"
      ],
      "text/plain": [
       "<IPython.core.display.HTML object>"
      ]
     },
     "metadata": {},
     "output_type": "display_data"
    },
    {
     "data": {
      "text/html": [
       "Find logs at: <code></code>"
      ],
      "text/plain": [
       "<IPython.core.display.HTML object>"
      ]
     },
     "metadata": {},
     "output_type": "display_data"
    },
    {
     "data": {
      "text/html": [
       "The new W&B backend becomes opt-out in version 0.18.0; try it out with `wandb.require(\"core\")`! See https://wandb.me/wandb-core for more information."
      ],
      "text/plain": [
       "<IPython.core.display.HTML object>"
      ]
     },
     "metadata": {},
     "output_type": "display_data"
    }
   ],
   "source": [
    "wandb.finish()"
   ]
  },
  {
   "cell_type": "code",
   "execution_count": null,
   "metadata": {},
   "outputs": [],
   "source": []
  }
 ],
 "metadata": {
  "kernelspec": {
   "display_name": "myvenv",
   "language": "python",
   "name": "python3"
  },
  "language_info": {
   "codemirror_mode": {
    "name": "ipython",
    "version": 3
   },
   "file_extension": ".py",
   "mimetype": "text/x-python",
   "name": "python",
   "nbconvert_exporter": "python",
   "pygments_lexer": "ipython3",
   "version": "3.10.14"
  }
 },
 "nbformat": 4,
 "nbformat_minor": 2
}
