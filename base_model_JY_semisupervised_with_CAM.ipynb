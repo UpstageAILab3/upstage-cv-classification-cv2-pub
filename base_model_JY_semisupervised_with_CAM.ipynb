{
 "cells": [
  {
   "cell_type": "code",
   "execution_count": 59,
   "metadata": {},
   "outputs": [],
   "source": [
    "import os\n",
    "import time\n",
    "\n",
    "import timm\n",
    "import torch\n",
    "import albumentations as A\n",
    "import pandas as pd\n",
    "import numpy as np\n",
    "import torch.nn as nn\n",
    "\n",
    "from albumentations.pytorch import ToTensorV2\n",
    "from torch.optim import Adam\n",
    "from torchvision import transforms\n",
    "from torch.utils.data import Dataset, DataLoader\n",
    "from torchvision.datasets import ImageFolder\n",
    "from torch.optim.lr_scheduler import CosineAnnealingLR\n",
    "\n",
    "from PIL import Image\n",
    "from tqdm import tqdm\n",
    "from sklearn.metrics import accuracy_score, f1_score\n",
    "\n",
    "import matplotlib.pyplot as plt\n",
    "import seaborn as sns\n"
   ]
  },
  {
   "cell_type": "code",
   "execution_count": 60,
   "metadata": {},
   "outputs": [],
   "source": [
    "# device\n",
    "device = torch.device('cuda' if torch.cuda.is_available() else 'cpu')\n",
    "\n",
    "\n",
    "TRAIN_AUG_CSV_PATH = '/root/data/train_kr_aug.csv'\n",
    "TRAIN_AUG_IMAGE_PATH = '/root/data/train_aug'\n",
    "\n",
    "VALID_CSV_PATH = '/root/data/valid.csv'\n",
    "VALID_IMAGE_PATH = '/root/data/valid'\n",
    "\n",
    "TEST_CSV_PATH = '/root/data/sample_submission.csv'\n",
    "TEST_IMAGE_PATH = '/root/data/test'\n",
    "\n",
    "RESULT_CSV_PATH = '/root/'\n"
   ]
  },
  {
   "cell_type": "markdown",
   "metadata": {},
   "source": [
    "# HyperParameter"
   ]
  },
  {
   "cell_type": "code",
   "execution_count": 61,
   "metadata": {},
   "outputs": [],
   "source": [
    "# training config\n",
    "img_size = 380\n",
    "LR = 1e-3\n",
    "EPOCHS = 100\n",
    "BATCH_SIZE = 32\n",
    "num_workers = 0\n",
    "\n",
    "patience = 5\n",
    "min_delta = 0.001 # 성능 개선의 최소 변화량"
   ]
  },
  {
   "cell_type": "markdown",
   "metadata": {},
   "source": [
    "# 1. DATA LOAD"
   ]
  },
  {
   "cell_type": "code",
   "execution_count": 62,
   "metadata": {},
   "outputs": [
    {
     "name": "stdout",
     "output_type": "stream",
     "text": [
      "25120 3140\n"
     ]
    }
   ],
   "source": [
    "# test image 변환\n",
    "data_transform = A.Compose([\n",
    "    A.Resize(height = img_size, width = img_size),\n",
    "    A.Normalize(mean=[0.485, 0.456, 0.406], std = [0.229, 0.224, 0.225]),\n",
    "    ToTensorV2()\n",
    "])\n",
    "\n",
    "class ImageDataset(Dataset):\n",
    "    def __init__(self, csv, path, transform=None):\n",
    "        self.df = pd.read_csv(csv).values\n",
    "        self.path = path\n",
    "        self.transform = transform\n",
    "\n",
    "    def __len__(self):\n",
    "        return len(self.df)\n",
    "    \n",
    "    def __getitem__(self, idx):\n",
    "        name, target = self.df[idx]\n",
    "        img = np.array(Image.open(os.path.join(self.path, name)).convert(\"RGB\"))\n",
    "        if self.transform:\n",
    "            img = self.transform(image=img)['image']\n",
    "    \n",
    "        return img, target, name  # 파일 이름 반환\n",
    "\n",
    "    def get_labels(self):\n",
    "        return self.df[:, 1]\n",
    "\n",
    "trn_dataset = ImageDataset(\n",
    "    TRAIN_AUG_CSV_PATH,\n",
    "    TRAIN_AUG_IMAGE_PATH,\n",
    "    transform = data_transform\n",
    ")\n",
    "\n",
    "val_dataset = ImageDataset(\n",
    "    VALID_CSV_PATH,\n",
    "    VALID_IMAGE_PATH,\n",
    "    transform = data_transform\n",
    ")\n",
    "\n",
    "tst_dataset = ImageDataset(\n",
    "    TEST_CSV_PATH,\n",
    "    TEST_IMAGE_PATH,\n",
    "    transform = data_transform\n",
    ")\n",
    "\n",
    "labels = trn_dataset.get_labels()\n",
    "labels = labels.astype(int)\n",
    "\n",
    "# DataLoader\n",
    "trn_loader = DataLoader(\n",
    "    trn_dataset,\n",
    "    batch_size = BATCH_SIZE,\n",
    "    shuffle = True,\n",
    "    num_workers = num_workers,\n",
    "    pin_memory = True,\n",
    "    drop_last = False\n",
    ")\n",
    "\n",
    "val_loader = DataLoader(\n",
    "    val_dataset,\n",
    "    batch_size = BATCH_SIZE,\n",
    "    num_workers = 0,\n",
    "    pin_memory = True,\n",
    "    drop_last = False\n",
    ")\n",
    "\n",
    "tst_loader = DataLoader(\n",
    "    tst_dataset,\n",
    "    batch_size = BATCH_SIZE,\n",
    "    shuffle = False,\n",
    "    num_workers = 0,\n",
    "    pin_memory = True\n",
    ")\n",
    "\n",
    "print(len(trn_dataset), len(tst_dataset))"
   ]
  },
  {
   "cell_type": "markdown",
   "metadata": {},
   "source": [
    "# 2. Model Train"
   ]
  },
  {
   "cell_type": "code",
   "execution_count": 63,
   "metadata": {},
   "outputs": [],
   "source": [
    "# 모델 생성 및 학습 설정\n",
    "device = torch.device(\"cuda\" if torch.cuda.is_available() else \"cpu\")\n",
    "model = timm.create_model('efficientnet_b0',\n",
    "                        pretrained=True,\n",
    "                        num_classes = 17).to(device)\n",
    "\n",
    "loss_fn = nn.CrossEntropyLoss()\n",
    "optimizer = Adam(model.parameters(), lr = LR)\n"
   ]
  },
  {
   "cell_type": "code",
   "execution_count": 64,
   "metadata": {},
   "outputs": [],
   "source": [
    "# 한 epoch 학습 함수\n",
    "def train_one_epoch(loader, model, optimizer, loss_fn, device, epoch):\n",
    "    model.train()\n",
    "    train_loss = 0\n",
    "    preds_list = []\n",
    "    targets_list = []\n",
    "\n",
    "    pbar = tqdm(loader)\n",
    "    for step, (image, targets, _) in enumerate(pbar):\n",
    "        image = image.to(device)\n",
    "        targets = targets.to(device)\n",
    "\n",
    "        model.zero_grad(set_to_none=True)\n",
    "\n",
    "        preds = model(image)\n",
    "        loss = loss_fn(preds, targets)\n",
    "        loss.backward()\n",
    "        optimizer.step()\n",
    "\n",
    "        train_loss += loss.item()\n",
    "        \n",
    "        preds_list.extend(preds.argmax(dim=1).detach().cpu().numpy())\n",
    "        targets_list.extend(targets.detach().cpu().numpy())\n",
    "\n",
    "        pbar.set_description(f\"Loss: {loss.item():.4f}\")\n",
    "\n",
    "    train_loss /= len(loader)\n",
    "    train_acc = accuracy_score(targets_list, preds_list)\n",
    "    train_f1 = f1_score(targets_list, preds_list, average='macro')\n",
    "\n",
    "    ret = {\n",
    "        \"model\": model,\n",
    "        \"train_epoch\": epoch,\n",
    "        \"train_loss\": train_loss,\n",
    "        \"train_acc\": train_acc,\n",
    "        \"train_f1\": train_f1\n",
    "    }\n",
    "\n",
    "    return ret\n"
   ]
  },
  {
   "cell_type": "code",
   "execution_count": 65,
   "metadata": {},
   "outputs": [],
   "source": [
    "# 한 epoch 검증 함수\n",
    "def valid_one_epoch(loader, model, loss_fn, device, epoch):\n",
    "    model.eval()\n",
    "    valid_loss = 0\n",
    "\n",
    "    preds_list = []\n",
    "    targets_list = []\n",
    "\n",
    "    with torch.no_grad():\n",
    "        pbar = tqdm(loader)\n",
    "        for step, (image, targets, _) in enumerate(pbar):\n",
    "            image = image.to(device)\n",
    "            targets = targets.to(device)\n",
    "\n",
    "            preds = model(image)\n",
    "            loss = loss_fn(preds, targets)\n",
    "       \n",
    "            valid_loss += loss.item()\n",
    "        \n",
    "            preds_list.extend(preds.argmax(dim=1).detach().cpu().numpy())\n",
    "            targets_list.extend(targets.detach().cpu().numpy())\n",
    "\n",
    "            pbar.set_description(f\"Loss: {loss.item():.4f}\")\n",
    "\n",
    "    valid_loss /= len(loader)\n",
    "    valid_acc = accuracy_score(targets_list, preds_list)\n",
    "    valid_f1 = f1_score(targets_list, preds_list, average='macro')\n",
    "\n",
    "    ret = {\n",
    "        \"epoch\": epoch,\n",
    "        \"valid_loss\": valid_loss,\n",
    "        \"valid_acc\": valid_acc,\n",
    "        \"valid_f1\": valid_f1\n",
    "    }\n",
    "\n",
    "    return ret\n"
   ]
  },
  {
   "cell_type": "code",
   "execution_count": 66,
   "metadata": {},
   "outputs": [
    {
     "name": "stdout",
     "output_type": "stream",
     "text": [
      "0 epoch\n"
     ]
    },
    {
     "name": "stderr",
     "output_type": "stream",
     "text": [
      "  0%|          | 0/785 [00:00<?, ?it/s]"
     ]
    },
    {
     "name": "stderr",
     "output_type": "stream",
     "text": [
      "Loss: 0.1896:  85%|████████▌ | 669/785 [03:05<00:32,  3.60it/s]"
     ]
    }
   ],
   "source": [
    "# 학습 및 조기 종료 설정\n",
    "f1_scores = []\n",
    "valid_losses = []\n",
    "best_valid_loss = float('inf')\n",
    "best_model_path = '/root/best_model.pth'\n",
    "\n",
    "for epoch in range(EPOCHS):\n",
    "    print(f\"{epoch} epoch\")\n",
    "    trn_ret = train_one_epoch(trn_loader, model, optimizer, loss_fn, device, epoch)\n",
    "    val_ret = valid_one_epoch(val_loader, model, loss_fn, device, epoch)\n",
    "\n",
    "    f1_scores.append(val_ret['valid_f1'])\n",
    "    valid_losses.append(val_ret['valid_loss'])\n",
    "\n",
    "    print(f\"valid loss : {val_ret['valid_loss']}\")\n",
    "    print(f\"valid f1 : {val_ret['valid_f1']}\")\n",
    "\n",
    "    # 최적 모델 저장\n",
    "    if val_ret['valid_loss'] < best_valid_loss - min_delta:\n",
    "        best_valid_loss = val_ret['valid_loss']\n",
    "        torch.save(model.state_dict(), best_model_path)\n",
    "        print(f\"최적 모델이 {best_model_path}에 저장되었습니다.\")\n",
    "        patience_counter = 0  # 성능이 개선되면 카운터 초기화\n",
    "    else:\n",
    "        patience_counter += 1\n",
    "\n",
    "    # 조기 종료 조건 확인\n",
    "    if patience_counter >= patience:\n",
    "        print(f\"성능 개선이 {patience_counter} 에포크 동안 없었으므로 조기 종료합니다.\")\n",
    "        break\n",
    "\n",
    "# 최적 모델 로드\n",
    "best_model = timm.create_model('efficientnet_b0', pretrained=False, num_classes=17).to(device)\n",
    "best_model.load_state_dict(torch.load(best_model_path, map_location=device))\n",
    "best_model.eval()\n",
    "print(f\"모델이 {best_model_path}에서 로드되었습니다.\")\n"
   ]
  },
  {
   "cell_type": "code",
   "execution_count": null,
   "metadata": {},
   "outputs": [
    {
     "name": "stderr",
     "output_type": "stream",
     "text": [
      "100%|██████████| 99/99 [00:18<00:00,  5.25it/s]"
     ]
    },
    {
     "name": "stdout",
     "output_type": "stream",
     "text": [
      "['0008fdb22ddce0ce.jpg', '00091bffdffd83de.jpg', '00396fbc1f6cc21d.jpg', '00901f504008d884.jpg', '00b33e0ee6d59427.jpg', '00bbdcfbbdb3e131.jpg', '00c03047e0fbef40.jpg', '00c0dabb63ca7a16.jpg', '00dcea90f63ad630.jpg', '00f5784903a39fdd.jpg', '0111a6728e9f8a73.jpg', '0114a887a2c2e4ca.jpg', '016240faa186d24d.jpg', '016b0c00cdf93e0a.jpg', '017ba667291b53c6.jpg', '017e5da799e1637c.jpg', '0182bffa56bdd844.jpg', '019ed42bb4c2caa9.jpg', '01bd84a54be54b8b.jpg', '01c918594307c6f2.jpg', '01ebd05a14e10618.jpg', '021e7c8d9dc19021.jpg', '0298c2151b43d86b.jpg', '02ac23941313841b.jpg', '02b3712bd48b8644.jpg', '02b5e73920c3c54e.jpg', '02f79963274b3c41.jpg', '02ffc27eff468793.jpg', '0366fcb21245a5cc.jpg', '039ff76910d52749.jpg', '03a7dcbe6b74bb8e.jpg', '040ba9bc68f4e380.jpg', '0412f6a5ba912add.jpg', '04284576791e9ec1.jpg', '0447bde0b7da3a6c.jpg', '046c2f2d42bbac35.jpg', '048efa3d18a4999d.jpg', '048fe083d6a62591.jpg', '04917bb8d098898f.jpg', '049445f90a8a2b8d.jpg', '04f502c69bb8dcaa.jpg', '05050540613224a2.jpg', '050d88c14e0ea5f9.jpg', '050e27e8c616e585.jpg', '05426a351b09c757.jpg', '0546cab14c4ee65b.jpg', '0567d092e87d347c.jpg', '0575671b2c5b34ad.jpg', '05e33cb53c1ac02a.jpg', '05f1039b7cbffe72.jpg', '0639e3932c5f7817.jpg', '06427235c81111cc.jpg', '0689f795bd5627e1.jpg', '068f74f7f3021444.jpg', '06948b8091b11d1c.jpg', '06a484eb2afab068.jpg', '06df33e924e78422.jpg', '06df57c67fcc47f4.jpg', '070f663641adc8c5.jpg', '0716d938d4ee1685.jpg', '071d8072ab53ecf5.jpg', '072731843ae064a6.jpg', '0778027c660394b0.jpg', '07a5f3b6e75f9caf.jpg', '07bc5cc66ff8caee.jpg', '07d545e9eafadf0a.jpg', '07f6f15c8165caa4.jpg', '080be7a4c550641c.jpg', '0827b6ab0fe72b16.jpg', '083b515f19482696.jpg', '083b72fc1d2da17e.jpg', '086be978e8e322c9.jpg', '087764f5ad00bd96.jpg', '087e0c1c6e93bbc5.jpg', '08bf436664359a17.jpg', '08f41aac91eb8bc7.jpg', '08f54448041c90b1.jpg', '091ab5500f1ff9b6.jpg', '09297ad7ec71f908.jpg', '092f91fcb580f212.jpg', '09447bf11a0500aa.jpg', '095d28682e8981f7.jpg', '09a30d4d88601933.jpg', '09db80dc3d186a2e.jpg', '09eb83058248f2ac.jpg', '09f1aee1561b8b0f.jpg', '09f8b34f1e3e5743.jpg', '0a12d28777501f71.jpg', '0a43350242357a3a.jpg', '0a46d57f7a0b0407.jpg', '0a4f2decf34d3bff.jpg', '0a95b7e3f2bdc376.jpg', '0abb9be9652035f2.jpg', '0aed5278485aad7d.jpg', '0af2da38454cd083.jpg', '0b0e7e754b5a103c.jpg', '0b0fd1e0a11db156.jpg', '0b14fad2ead8cbea.jpg', '0b255faf6658e0fa.jpg', '0b269edda9d67e70.jpg', '0b365c5adf7f7578.jpg', '0b44a2ab47ec95eb.jpg', '0b49d225b1648438.jpg', '0b60e9d39b43e0b9.jpg', '0b848234702391ca.jpg', '0b9483ad39e27019.jpg', '0b9c5f11b9c2e742.jpg', '0c201bfd63ecf0a5.jpg', '0c2de472d06705a4.jpg', '0c44cd95b0d95b10.jpg', '0c471a246d7c7777.jpg', '0c62c4ec8d5042a7.jpg', '0c7c3129349c252b.jpg', '0c86e1a3fe94b2b4.jpg', '0c8fb4bcbb776183.jpg', '0ca5c5bcdd6ccf63.jpg', '0cbc0730650db913.jpg', '0cff25caaa6fafa1.jpg', '0d2833d1992b660a.jpg', '0d983587d59ea6f9.jpg', '0d990e7791b3cef6.jpg', '0da34c2cca958ac1.jpg', '0dca6453aea515b9.jpg', '0df3535e77995185.jpg', '0df499833d8ec828.jpg', '0e152632a87fcec0.jpg', '0e181a7b2c470569.jpg', '0e4784ef454b4db0.jpg', '0e6ff16ce4b47fe8.jpg', '0e82d902e8be0e62.jpg', '0ea1c5cc98714405.jpg', '0ea4dcbe11fc58d2.jpg', '0eb46afcaadad03a.jpg', '0eba2850c75c48d2.jpg', '0eda817efb4aa013.jpg', '0edc89f8e4b669a6.jpg', '0f279185fdc162fc.jpg', '0f28152f1258ee40.jpg', '0f3bedf01f25f064.jpg', '0f7c03d2cdf0979c.jpg', '0f8f83e4c0643ffd.jpg', '0f924f5aab23e65c.jpg', '0fa30d89872cbb63.jpg', '0fb80e7e918154b7.jpg', '0fc919fba9dc77b6.jpg', '0fd75524dfaeef7e.jpg', '0fe35a690cfc3d47.jpg', '0feb5fce885f15a4.jpg', '1027d7b85da774e4.jpg', '103000fee9095f1a.jpg', '1035f79046d7a343.jpg', '104b4ae18d528f85.jpg', '105a537c0ffcf2af.jpg', '1063d3cf9de5cc41.jpg', '10810eb0c6dddb1c.jpg', '1081c0c3388d84de.jpg', '10a0009b0ccbceb9.jpg', '10b293fb79454626.jpg', '10b951d45cab812b.jpg', '10c4421ecc4767d5.jpg', '10d7dffe3a34c770.jpg', '10f7a181195be840.jpg', '10fdbe2e30df7d8b.jpg', '1118b4547007c942.jpg', '115d7f2ffef55b9f.jpg', '117795b5057bd15e.jpg', '11a1afb65afc47f3.jpg', '11b5fec846ed1ff7.jpg', '11d50d6089328329.jpg', '11f8879b754f6ea9.jpg', '1201a2dd9b5eb586.jpg', '120ce9e055bcdc5e.jpg', '12204163a937e519.jpg', '122cf870061859da.jpg', '129e9b82a833871a.jpg', '12aa7e3f97fad5c6.jpg', '12b74d0884c1c88d.jpg', '12d3032c9cac7869.jpg', '12f39c128bf5f434.jpg', '12fbb2ca8a82ed41.jpg', '12fbf7fdc82328fc.jpg', '1369f0112818d48d.jpg', '137fa0da832cf39a.jpg', '1392df37aecbb878.jpg', '139face231a6a5ca.jpg', '13a57c95db160dfb.jpg', '13a9778867e2b177.jpg', '140ad84d3ef9ed0b.jpg', '14198852bc1a5fb7.jpg', '141b73b47ddd1f3b.jpg', '1421fb31607c5123.jpg', '1426586d3c63f747.jpg', '142d45fde6392c14.jpg', '14601b72560b44ce.jpg', '147322c3f7861963.jpg', '1499f9b7193c15fe.jpg', '14c95cf667fcb833.jpg', '14d80c5f3979c24b.jpg', '14e0947f6412bf0a.jpg', '14ec8dda255c99ad.jpg', '153a93981fa2a51b.jpg', '158af3be0cb5c17c.jpg', '1593fab57945c546.jpg', '15e4045d87b5e34c.jpg', '163409dfa90b4918.jpg', '163ff887c52871d6.jpg', '1659601b11744f1b.jpg', '168845a16c3ad7b5.jpg', '16cea0e8138ab320.jpg', '173967d903c6e1fd.jpg', '1751ffe68fdbd2d4.jpg', '1768c2f469d6e2c9.jpg', '1774705a2d24365b.jpg', '178e58b18cd35045.jpg', '179a2cd94883d529.jpg', '17ff149fb0b4f356.jpg', '1813ae28b84caea4.jpg', '183f98c58e2c22f3.jpg', '1871e6dbf737bdc9.jpg', '1880c4dc32a4665e.jpg', '1882a6a85cdd8b30.jpg', '188c978dd1f6c289.jpg', '189a6a4d2b3014c8.jpg', '18b3cfa8bc2f7b09.jpg', '18d53793f7842c2a.jpg', '18dd27022c7141b1.jpg', '190172ace7746279.jpg', '190a44f1e33a86cf.jpg', '1927b4d137261408.jpg', '193bf72eb8776056.jpg', '19989d82a51d3bcd.jpg', '19cccbfe8daf8ed4.jpg', '19d98d8ee1d735a7.jpg', '1a38e93773fee9fb.jpg', '1a6c830fc871d21a.jpg', '1a8a90676e40da26.jpg', '1ab901039c1c7950.jpg', '1ac5d385313e414b.jpg', '1acade48e30258c8.jpg', '1acbab3967fe133b.jpg', '1acc40852f90aa76.jpg', '1ad9ed5392307687.jpg', '1b5039c18de0c674.jpg', '1b7d7bfb252d66f9.jpg', '1b808e977d7299f9.jpg', '1bb537e6b94b3f45.jpg', '1bb6d7110cdfc3e2.jpg', '1bbf2e0ac36b9f42.jpg', '1bd30eb70d45631b.jpg', '1be21d6d633d2fd2.jpg', '1c43b2800853a234.jpg', '1c52170a4ee28dbb.jpg', '1c5bb3ae72e3e504.jpg', '1c6ae69790e0b81e.jpg', '1c8bb84432130656.jpg', '1c998a55d06802fd.jpg', '1c9a4401ee709336.jpg', '1cdce942c6dc2a9d.jpg', '1d06929019c52691.jpg', '1d2edb4d479d6a5d.jpg', '1d348ea54f14a477.jpg', '1d3680ff648085f8.jpg', '1d50946bd454ac2e.jpg', '1d51d5f0f1cf9f5d.jpg', '1d7dde7dc94df6a6.jpg', '1d80aca90d37a369.jpg', '1d992d99f9029ba5.jpg', '1db9948726a4e54c.jpg', '1dba741efa983591.jpg', '1dbee405b7797d67.jpg', '1dcb8e3b09cc48b4.jpg', '1dfce34ac940049d.jpg', '1e1bb5109fa84944.jpg', '1e4e41d0390179b2.jpg', '1e5d739d49fa4321.jpg', '1e5d990b03a4f231.jpg', '1e70f33017938358.jpg', '1e7990ef09c250d0.jpg', '1eb76fad8c66761a.jpg', '1ec9764d52735fb2.jpg', '1f193033ff3bfa6e.jpg', '1f4911a0ffc360c1.jpg', '1f515ac075c236f6.jpg', '1fabb54270ed69d4.jpg', '1fb2c9fb03cebf17.jpg', '1fe42fadc6864b4d.jpg', '1fe94ce180b093b7.jpg', '200eaf17af79b1f3.jpg', '201706b4bb7ce8ed.jpg', '2037caa0bab5a1b3.jpg', '203c8ca385e06dde.jpg', '20488aeb2c524b39.jpg', '20754dcbca2aaaa0.jpg', '208a846e74340ebd.jpg', '20a244cbfa552f9a.jpg', '20be57c076c9136e.jpg', '20c4d87dd513d951.jpg', '2116515a1061933a.jpg', '214a647d9134c161.jpg', '214fa42e99015c60.jpg', '215900568fcb6f12.jpg', '2191c4bb2013b976.jpg', '21f77f7a6a9d8754.jpg', '220a586c2501bd4a.jpg', '223f5e290fe98fd0.jpg', '2272fc2dd41b4394.jpg', '22c1ba18e0dc3bae.jpg', '22dc0568d4c56907.jpg', '22f636ff7d0692ce.jpg', '2309b3bf7fbc766d.jpg', '2314a77bf114c865.jpg', '2315e66043df20e9.jpg', '2358244762f08b64.jpg', '2368e0594474eb68.jpg', '238e09e04d7b32cb.jpg', '2392253d19b22e63.jpg', '2393beca89584d1b.jpg', '2394b085e2f8056a.jpg', '23e9a81fd7666ec8.jpg', '2409040a1227d283.jpg', '241a5b2b45b0e16a.jpg', '243c2862de89d302.jpg', '244d359e3e06f107.jpg', '2458ebca45ff00d1.jpg', '24662365e4f67d54.jpg', '2490023d9af20f09.jpg', '24b0b8212e12ed3e.jpg', '24c56bd787b98ecc.jpg', '24f8406f0853c351.jpg', '24fa58d4d4921dcc.jpg', '25100f6edd324f57.jpg', '2519f09dbe275482.jpg', '2523c2a95443aa2f.jpg', '254c2b8a4b382c76.jpg', '2599880699093a58.jpg', '25a8d6600d2de937.jpg', '2631b342138322c9.jpg', '263cbadd4561b548.jpg', '26515f03bb0b81f2.jpg', '266278ebc9732a80.jpg', '267e2c2ec8182f3e.jpg', '269c7c87fedc13a6.jpg', '26ab4b8829cc5a2a.jpg', '26ad74e35d3d6dfb.jpg', '26b346df2a13f1d4.jpg', '26b36adf3d246787.jpg', '26daccac09d64a1d.jpg', '26e9f1aad2314b64.jpg', '2705fef18a6fc02c.jpg', '2756f25f1938558d.jpg', '275aec040aac67af.jpg', '2765541d588e9d97.jpg', '27ca5681288973d1.jpg', '27e57d3590292262.jpg', '2812bcc200f1412b.jpg', '2817aa40a3404fa9.jpg', '2832736591a36cd9.jpg', '28714bcc1a53360f.jpg', '2881e0ad82aac9f0.jpg', '2891229b9d30b4c4.jpg', '28989943f1b47b20.jpg', '2904d3025a18b639.jpg', '291d080cbc815866.jpg', '2952a320e5cbd4db.jpg', '2956f79c00f1d8f4.jpg', '296ac4bb9a572492.jpg', '29742b9f303284da.jpg', '29b735dce9d025f4.jpg', '29cbff2d4f3d697a.jpg', '2a3756a7d1438abf.jpg', '2a43ed0df4e40da6.jpg', '2a496895464dbe8e.jpg', '2a9be2b6b9c9d47f.jpg', '2ab8833bfea1d55f.jpg', '2ada26cfdb707dea.jpg', '2af70bfa910763a3.jpg', '2afe4988ccd3f730.jpg', '2b297137d6d37701.jpg', '2b373f6d6c2bcb07.jpg', '2bd1bc42a31397d5.jpg', '2bf43d03514feb47.jpg', '2c03b0813138af83.jpg', '2c771c8fae1ba961.jpg', '2c8b14f45b407f78.jpg', '2c8b45f2981a2119.jpg', '2c9888b449c53d1c.jpg', '2ca0a89cc4bd6b4c.jpg', '2cbbb185120ce2e0.jpg', '2ccd3eca7d2817b7.jpg', '2d19c404e5f61205.jpg', '2d4612a5829c3a7b.jpg', '2d6585b040a243d1.jpg', '2da2aad7719bde7b.jpg', '2da2fc72f3155387.jpg', '2db1cf2410df3445.jpg', '2dc695383a0129c9.jpg', '2dde09efb7f999d7.jpg', '2e4152b8a4893715.jpg', '2e51d14abe1a4fd9.jpg', '2e874119ae337439.jpg', '2eb1f0e9324e6e03.jpg', '2eff56812f2f078e.jpg', '2f29b53e9676bf18.jpg', '2f390042292ddaf0.jpg', '2f4532160cabe0b9.jpg', '2f531d35736c0386.jpg', '2f5e8fa28c38b23f.jpg', '2f6b05381ede0836.jpg', '2f845332f59e225a.jpg', '2f8f87040c080372.jpg', '2fa130609266f33c.jpg', '2fd9d5a3916d42d3.jpg', '2fe76715340d6607.jpg', '2fea1eae8a874099.jpg', '300d1c4ca6595628.jpg', '30244a22417db7cb.jpg', '3031e41908c9aedd.jpg', '303240d88b015d02.jpg', '30453465d86d512d.jpg', '3052e90cd0d9deaa.jpg', '306c85f9047ec8d9.jpg', '30ca0601c56012f9.jpg', '30ed2ed6b5b58c2a.jpg', '30f7f943cd13cadc.jpg', '30fa084ccfce6eef.jpg', '30fca194bbbf8e09.jpg', '310baa9589187970.jpg', '312899f2c122e94e.jpg', '3157cbb043f66985.jpg', '315cd62bf5044ed2.jpg', '316fa3f17b5d5675.jpg', '31714e371efb0ada.jpg', '318390bc227187f5.jpg', '31cae0b336906cc4.jpg', '31d353c07abbb39c.jpg', '31dc25167c071e7f.jpg', '31e1538e805f11f8.jpg', '32350302aebce029.jpg', '3236448acc2c94de.jpg', '3240aa956fe149a9.jpg', '325a23a80557c0f1.jpg', '32bdb23799758ad2.jpg', '32c39eef75d596a3.jpg', '3301f21279dd0302.jpg', '331c07b33ca74a18.jpg', '331f896502673b42.jpg', '336bf1628c3dcefb.jpg', '33b3c8e82347cbb4.jpg', '33c667f4a3404d9a.jpg', '33d46c16b81fae9d.jpg', '33fa323637b9f761.jpg', '343ca3d3a7ae4072.jpg', '3444606b071da357.jpg', '34555085897bf79a.jpg', '34634c002d20b79f.jpg', '347866ba1a932f12.jpg', '34899312d04641fc.jpg', '34b764fa9eff8b54.jpg', '34beb54a03e1542f.jpg', '34f829fdc151bb6c.jpg', '35131e3f1dc21609.jpg', '351a98b0751ba7e9.jpg', '352bbf4bea28a956.jpg', '3551ff70a2ee733b.jpg', '3556a36795e097f5.jpg', '355e7c8aac6fb4aa.jpg', '356175c28f0dc3da.jpg', '359e1bbe09dc01b1.jpg', '359fab2e1b0ab5e1.jpg', '35f6953c2aec900d.jpg', '362620646694ac92.jpg', '363be138e3a257e7.jpg', '3676bb8e313dd68a.jpg', '3680db692af79a39.jpg', '36bf8f9173392c5e.jpg', '3718ddbad5ac13a7.jpg', '3726abe102190f87.jpg', '37516d8801aa3a04.jpg', '375642f60cee4d07.jpg', '37712442fd22f513.jpg', '3794927be5fc4cc5.jpg', '37b1af0f0f6e895c.jpg', '37c82057b470479d.jpg', '37e3e12b4a719483.jpg', '37e50579da46d5f0.jpg', '37eb702b97571981.jpg', '37fdf49ea16f16e1.jpg', '3801b930921dc960.jpg', '3810e4ae0cf975ae.jpg', '383001361fa84258.jpg', '384a7dd0ac4b2c5d.jpg', '385c313795ef38c6.jpg', '386f6832464a9378.jpg', '38cc1d79d64ad7c4.jpg', '38cf2b91bf2f8bb2.jpg', '38d2bf0ddbb4a9c9.jpg', '38ea3e4d2ca0ce14.jpg', '38ec098e55075d2c.jpg', '38f5e0213eba518d.jpg', '390b2f6090184c0e.jpg', '3916918a2655370d.jpg', '393da2ebe6a3d39f.jpg', '39581c23ebf06aec.jpg', '39832365c6edea3e.jpg', '399f45d242ce269d.jpg', '39a4376f79341294.jpg', '39c1273d1b789740.jpg', '39f86d2ca4e89421.jpg', '39ff9fb46b372d63.jpg', '3a07aeae5ede06aa.jpg', '3a144769653b13e6.jpg', '3a1fb66b5368d70c.jpg', '3a34b4309c50ecb9.jpg', '3a42ed4399e077c6.jpg', '3a4a2b89a472ec20.jpg', '3a89c035950c4fac.jpg', '3a8e6f310e632112.jpg', '3a92684c78d0668b.jpg', '3a94a1c9751985aa.jpg', '3aaaafd297856a26.jpg', '3ab46c76cfc86c61.jpg', '3ada19450d30bf1a.jpg', '3ade1958dd5f3d5d.jpg', '3ae10eb8458044c3.jpg', '3afc8a87c5381ed8.jpg', '3b03e1b246075800.jpg', '3b4d9c52b698f7eb.jpg', '3bb870ca51fd0481.jpg', '3bc5276de0cac59c.jpg', '3bdb5db78016c4ac.jpg', '3bf095b0b225c9f1.jpg', '3bfac20add3537c6.jpg', '3c24c8aa316e31b5.jpg', '3c304b23e893dd7d.jpg', '3cb0238602d49691.jpg', '3cbd9e83ff41a46e.jpg', '3ccf804e1b93f38e.jpg', '3ce98a5c8cf4d6be.jpg', '3cea002e06d4a8bb.jpg', '3d000efde969c991.jpg', '3d0bcc103877eaf6.jpg', '3d11debe61f7d9a0.jpg', '3d1536cadc542512.jpg', '3d2ac4cc4748a1d4.jpg', '3d2df39d02d96e96.jpg', '3d3ad4b34993ce5c.jpg', '3d3c56354c04b464.jpg', '3d7170eb22a4f1b1.jpg', '3d80a645dacb1545.jpg', '3db35b1680cd83a4.jpg', '3dc0dce4ff2262e2.jpg', '3de53e96412dcca1.jpg', '3df8499a09d5f86a.jpg', '3e2374d0bf975a40.jpg', '3e28cfe1538e20ce.jpg', '3e2a2de47f42c801.jpg', '3e31b9b14a9080cb.jpg', '3e6a85845a34925f.jpg', '3e9dccdb9618cf8c.jpg', '3ea60b9ad677687c.jpg', '3eaa24f1b5d2d037.jpg', '3ed6f89260b7300f.jpg', '3ee282b86637f584.jpg', '3ef937177fe6a448.jpg', '3efe84af55458358.jpg', '3f15af3d75841dda.jpg', '3f566e5a17f96465.jpg', '3f5dc49f7c96dd4e.jpg', '3f7212598c6dcf4f.jpg', '400021f8b3ee85bd.jpg', '400ff1c724b06457.jpg', '40134241cef4a7c5.jpg', '4019c0a0daea7f06.jpg', '401ac473831c6c75.jpg', '406c706f6059ddec.jpg', '4090a08f399153ba.jpg', '40c70d373d25fc4e.jpg', '40f7e24baee44e74.jpg', '410f7c90f30448c4.jpg', '4118d3ed4ad3e6ed.jpg', '41223772c4e616aa.jpg', '412c7e83069c02d0.jpg', '413a714abfef44fd.jpg', '41774553465d5e41.jpg', '419eb8925fc0d469.jpg', '41a1049dd05e76c6.jpg', '41b405597a1bc54f.jpg', '41e4fd729ca5a75c.jpg', '41eb0437c0198e3f.jpg', '4215ce52d72b08b2.jpg', '4216de25cc23e263.jpg', '422918a64c311137.jpg', '4242db4d267fa5e3.jpg', '42603ea79ee46849.jpg', '428e5757ffb0e8c6.jpg', '429a685e86aae415.jpg', '42ac91264a5240a2.jpg', '42b46af5ee9188ec.jpg', '42ca45352f2aee8c.jpg', '42d2d168fe26852c.jpg', '42ef1c64a9a621da.jpg', '432731b96e7276e6.jpg', '4334bc0e81313f00.jpg', '437f40bbe24c2e89.jpg', '439df686b31f0d96.jpg', '439f72a572f592ce.jpg', '43b602fd2f7abc06.jpg', '43ba07ec57f34e35.jpg', '43d6b284e9d89077.jpg', '43f11f0c5245ccb9.jpg', '44a0e6cbec00b115.jpg', '44bd5056b637cae9.jpg', '44db33edab62fbab.jpg', '44defdb2afcae4ef.jpg', '45225ac05013b589.jpg', '45644c5f69833c37.jpg', '45661d44e23bb971.jpg', '4569ca304e753224.jpg', '45b01204890aaa9f.jpg', '45c285f8ad929ca3.jpg', '45de254f40624074.jpg', '45df38749ff140b1.jpg', '45ebed46196bd020.jpg', '460514dacc97977a.jpg', '460c262b1f133ea8.jpg', '4646912c6e65852c.jpg', '464aebcdc7a511a3.jpg', '4672477f4f79c991.jpg', '46a519da48d337c4.jpg', '4714c0c22405e146.jpg', '4731c336a26fc2a3.jpg', '4763356ff7e91f4d.jpg', '47a28c996b7d5cfb.jpg', '47a4bf47e8bb268e.jpg', '483cfcc7999d1a67.jpg', '487e5089e9312270.jpg', '4898600be34a5409.jpg', '48c2ff42a5acdd40.jpg', '48c78b46fc51667f.jpg', '48f4d2738d67f441.jpg', '48ff40c462016751.jpg', '493fbf4007a085bd.jpg', '4941fc8a3ad4d170.jpg', '4946ba20df6387c3.jpg', '495e61f3b6811fed.jpg', '497d01331082d1ce.jpg', '49982948c43a8b1e.jpg', '499f97ce062b8401.jpg', '49a175ac286f0d1d.jpg', '49a83b8378418462.jpg', '49d4e98e84de90bc.jpg', '49f61af18785ab63.jpg', '49f623a7a8bade8a.jpg', '49fffebb6cdd3e04.jpg', '4a05fd8e52020030.jpg', '4a3725a6d1fd301a.jpg', '4a5c0fdccb780a93.jpg', '4a75263a5c0aae97.jpg', '4a78c5718d0a20a6.jpg', '4a8b25f0c83e9553.jpg', '4a91771573a6db60.jpg', '4a95e985c76bdec9.jpg', '4ab19076c61c7785.jpg', '4ac497ec9f77c4f1.jpg', '4ad38e5dfd6e62c3.jpg', '4af7e06e863b4b6d.jpg', '4b045267f0b0c294.jpg', '4b192ceb883d2e03.jpg', '4b54a13e083dc3ad.jpg', '4b6c7bb68f3662f3.jpg', '4b8918a0e504f3bc.jpg', '4b8ad56dea905d59.jpg', '4be5faa572b517d9.jpg', '4c10a373b86541e8.jpg', '4c4c5c84144a71a5.jpg', '4c52481a31c987d0.jpg', '4c527ee1ca7e7f78.jpg', '4c5c08dac0867fc0.jpg', '4c60e814e1c0ef6d.jpg', '4c7a2c87c730c0ed.jpg', '4c87599326d95513.jpg', '4cbc26acfcdf9d70.jpg', '4cbf05f14d18acf5.jpg', '4cc9bb830ad3f0ba.jpg', '4ccb3b9e10aff46e.jpg', '4d174e1756517d74.jpg', '4d24590bdfe964a3.jpg', '4d44a64893f6244d.jpg', '4d4a6bebb33753b1.jpg', '4d4c9c3412d9640a.jpg', '4d5a1d084aab67c7.jpg', '4d66f6c45b684044.jpg', '4d737b9cbca9c0da.jpg', '4d849dd0fb93f5eb.jpg', '4d911ab3cc428113.jpg', '4d92319d672c1b09.jpg', '4dd63245e72eebb4.jpg', '4df27aba5463f1f1.jpg', '4e08e95965408272.jpg', '4e1aef21f04e0667.jpg', '4e25524ea7ca74b8.jpg', '4e3f581fb63a87c9.jpg', '4e8fed562874c87e.jpg', '4ea32ed3b64f8f08.jpg', '4ea747633364c862.jpg', '4f0a409455283a0d.jpg', '4f103cf21e625944.jpg', '4f104d17252a22e0.jpg', '4f32454e14191150.jpg', '4f6948c4a4a2a99b.jpg', '4f6f43781049cca1.jpg', '4f8f8fa12f2dc565.jpg', '4f96210f03a0dcec.jpg', '4f9a29166bd50a68.jpg', '4fd1a323774b74fb.jpg', '4fe11ac080fe96a8.jpg', '4fe3e355229869c5.jpg', '4ff12c294cf96e18.jpg', '500a7f7082201785.jpg', '5010da133298a43e.jpg', '5012a0f3974a8eef.jpg', '501a67c0c3389a64.jpg', '504db24370d444e1.jpg', '50516a19a66ac90d.jpg', '509d0d18ae93fea2.jpg', '50b0970242f195cf.jpg', '50f90945c7f2bb88.jpg', '5112f3e59216597d.jpg', '5135cb9b3f421377.jpg', '517c7d133161b904.jpg', '517f4fd10ed97026.jpg', '5194650d110dd515.jpg', '51a38c84b06ce5b4.jpg', '51f114f8691405f5.jpg', '51fbb26acbb2938f.jpg', '521af01efa605d08.jpg', '52229507f1bd08af.jpg', '522b85761d505803.jpg', '524978c909c96a3d.jpg', '526639738ed74d25.jpg', '5288c28125ea4f89.jpg', '529f09adc05ce037.jpg', '52ae5aa33b702d3f.jpg', '52bac8d596006d60.jpg', '52cab6e3e56b7f96.jpg', '52d0f39bd7119c83.jpg', '52f8b45f084a0482.jpg', '53042ceadbc7b718.jpg', '530ebf83c6a4c12b.jpg', '531e2cefadc3de08.jpg', '5369c7e6f41f6ad9.jpg', '537007d712fc6931.jpg', '5388575d3ad04aac.jpg', '539c33656e66616d.jpg', '53a713a92c73bab7.jpg', '53affe4271d7e00c.jpg', '53f17b244af73110.jpg', '5444f69cac580840.jpg', '546d9b8454b3afa9.jpg', '547ae79dcb369709.jpg', '54d7f8b427cee486.jpg', '54dc79dd80926763.jpg', '54e44d55a4e35d22.jpg', '5515e549f145f34d.jpg', '5557778fd93e1656.jpg', '5565e4d946df02d5.jpg', '5582699673ff4648.jpg', '55860ab1eb873bd1.jpg', '5599dfebab245c2e.jpg', '55c283b7feb984cb.jpg', '55caa39c494d47b2.jpg', '55df7a83d2f0c0d0.jpg', '55e2881a9b050627.jpg', '55f206bd126d55e9.jpg', '560ebc5224b29446.jpg', '5616a1dec7f23a4b.jpg', '5620a71fffa45e4c.jpg', '56446a21109c601c.jpg', '564a65d6644baa6b.jpg', '567cbf5fe1497ee1.jpg', '569c05e106527837.jpg', '56a8a6edde03bb05.jpg', '56d2a0c04842dff1.jpg', '5739e75a866fa160.jpg', '576155b32cc0282c.jpg', '578befdd469ed3d1.jpg', '57bddd8e7b5bca33.jpg', '58000fa626a1ae24.jpg', '581f76fe0342ce04.jpg', '582bb9e3b33de92d.jpg', '5832daf60149f18f.jpg', '583e7e23259f3740.jpg', '5850ce0640a1c4ac.jpg', '58556dcbe931b16c.jpg', '58d812d0eb628ed1.jpg', '58ef7b0d654453c9.jpg', '58fd8a24d2cd1edc.jpg', '5900db047f0c58ae.jpg', '592217c791575859.jpg', '597c4a6ff5404245.jpg', '599ce68d421d2d27.jpg', '59cdfab429ab9027.jpg', '59e1f237524524f2.jpg', '59e92034eeb234c0.jpg', '59f013b3c1826b2c.jpg', '5a03dbce675436b4.jpg', '5a122a9645afad64.jpg', '5a1e8faafd3d3cb8.jpg', '5a360ae52ee00333.jpg', '5a37bac6136dfdc1.jpg', '5a439573ccd70a96.jpg', '5a57f4dae11f18d5.jpg', '5a6c26de38d9e0d9.jpg', '5a76f7af73c0e52f.jpg', '5adce77697f81a5a.jpg', '5af1bf094eb625d7.jpg', '5b0c0887f7474ece.jpg', '5b17599469ddb474.jpg', '5b246f19de8789e7.jpg', '5b2a5bb72757bc51.jpg', '5b3de8b7f7feb640.jpg', '5b74d0a42fafe19e.jpg', '5b84ffb40f4da9ed.jpg', '5b8b85d22f70283e.jpg', '5b9c07960c9f18f5.jpg', '5bc57918e1572f5f.jpg', '5bd2fd216dac1bb9.jpg', '5bf3bf0783625a9d.jpg', '5c1ec0777e588b6d.jpg', '5c436653fa7cf478.jpg', '5c522037b1810c64.jpg', '5c596aa8e8b554a7.jpg', '5c5b6fc18c096320.jpg', '5c9a4e55ee989779.jpg', '5c9f6fe1ad82bd39.jpg', '5cb6ad5dd99b5bf4.jpg', '5ccaee856bc1340f.jpg', '5cf3202f30e13a2b.jpg', '5d239cdc8327519c.jpg', '5d4b0c814c8b98d6.jpg', '5d74ba714b065e3a.jpg', '5d778edcf3564010.jpg', '5d8f2fb45931a2a1.jpg', '5df7a16a4f33632a.jpg', '5e02ca32c86149ef.jpg', '5e17d72acc0b2106.jpg', '5e23217506762adf.jpg', '5e2a93249d5aa6ba.jpg', '5e3414ed3ecca12e.jpg', '5e431e335821792a.jpg', '5e44c40814124bf4.jpg', '5e52ba936ab24176.jpg', '5e63a25a8968f342.jpg', '5e6aae53c29e8d00.jpg', '5ea3b49508792d5a.jpg', '5eba163f304ef235.jpg', '5ed34487f56a8adf.jpg', '5edd17ca44bb7436.jpg', '5f026f4384ae2c98.jpg', '5f0e93a989259358.jpg', '5f16692b05407cfb.jpg', '5f2ea6fb8d52e684.jpg', '5f9111750ae7275b.jpg', '5fabd01eab041430.jpg', '5fcc79afdd036b43.jpg', '5fd8ab4f9f1ef66f.jpg', '601f399683364974.jpg', '602cf5e4c858c1df.jpg', '60485cee87565199.jpg', '6073cabd123d455e.jpg', '6089f90486c799ce.jpg', '60db92638bccb3d3.jpg', '60e2fa869c4030a9.jpg', '60ee7fa89eb0e7c4.jpg', '611e54a4517a1e6b.jpg', '612abd701cfe6989.jpg', '612de73a8b066743.jpg', '6133329c9e006469.jpg', '613ee74ac4a149c1.jpg', '615ad5ca9882f48a.jpg', '617c352b7b10cd15.jpg', '6182788d40c31a7b.jpg', '6183895e9bd41629.jpg', '61863ae3ff154ede.jpg', '61a1eca1d22221c7.jpg', '620f0e50c1ac99e4.jpg', '620f2935b7fc5147.jpg', '6213ffe29d8b0940.jpg', '625d68e4c9ef1738.jpg', '62614cdc8c1b98a3.jpg', '6280bf24ef66232f.jpg', '629f1136855daad8.jpg', '62cd1174ab6e494b.jpg', '62d895757bac922d.jpg', '62ddf95f2515b686.jpg', '62e8ca62b868906f.jpg', '62fb2467c5792ea2.jpg', '63067a73cd1581f7.jpg', '631d1aa37db012fc.jpg', '6322a0957a038794.jpg', '635a1bb64e19a16e.jpg', '63b2d20ee974ce7d.jpg', '63c78e517f42a563.jpg', '63cbe0b4d78616da.jpg', '63eca827b6229baa.jpg', '641e8d2d178f8733.jpg', '644bb025ed23db4a.jpg', '6455b1fd39746bb0.jpg', '64590a69f5eb8ff5.jpg', '6461f5e82b01c29e.jpg', '648c0debe25f10a9.jpg', '64ac69b046ac67c6.jpg', '64bd765a240ba82e.jpg', '64c1e2109b117d95.jpg', '64c7fcbae9897105.jpg', '64ca901b63cc425d.jpg', '64e1c9042176d4bd.jpg', '64f992b162a3dbf5.jpg', '64ffbc5950c81614.jpg', '6508b86ba75b39cd.jpg', '65180892dd3070f9.jpg', '651c220d4eb904f1.jpg', '65295b4fc1acbd32.jpg', '655161bb8b319e2d.jpg', '655eaf5282b82eba.jpg', '65aad3157b784886.jpg', '65ab2007cdcfef31.jpg', '65b1e413c44e7b26.jpg', '65b987b1bc440909.jpg', '65bb4fea5fa985c8.jpg', '65bc63a3c3364587.jpg', '65dd4db4133a9323.jpg', '65e7d543ae75d2a9.jpg', '65f0393329a85813.jpg', '661d46e1cb848d27.jpg', '665159fd14ad68e7.jpg', '66ae652d1be2e614.jpg', '66d9d2f37b7f6313.jpg', '66dc37b18a93dd95.jpg', '66ea58dac2397a77.jpg', '66eac6077bf14499.jpg', '66f3371c542189f9.jpg', '66f94734f04eb446.jpg', '6701e7dddeb8a394.jpg', '670e484e9f4d4000.jpg', '6716939403d5d537.jpg', '6749dd9bf2164603.jpg', '675ec11802dc1026.jpg', '6761a2cd31647967.jpg', '677c7cf686af530d.jpg', '67807fe1f671eabb.jpg', '678489309101aeb5.jpg', '678761a8bab82e3a.jpg', '679397560393895d.jpg', '67e53371d1aab020.jpg', '6815a901268aec4a.jpg', '6882802902a4b0b0.jpg', '6902bd90f7925b17.jpg', '6907ef73063af3bf.jpg', '690a1455cbef3ac7.jpg', '692f5fbc5af19381.jpg', '693cd289b8190b01.jpg', '69485f61805cb479.jpg', '694eb9097cbfa500.jpg', '695137b28127f5f9.jpg', '6958c82413f93f2a.jpg', '6963bcf944fed731.jpg', '696d128d2b17b1ff.jpg', '69a2ad28986dec6f.jpg', '69c0fc3f4d15ae28.jpg', '6a2178492ae3f448.jpg', '6a21a6b8d822a49c.jpg', '6a278806d9edb550.jpg', '6a3f256a05b43f58.jpg', '6a5ad8fb8d0862e5.jpg', '6a91bf5b468acf65.jpg', '6ae1b41324978396.jpg', '6af2e2f88ffb0827.jpg', '6afc9c48f64f557a.jpg', '6afce184f83e7c53.jpg', '6b278b64c9987584.jpg', '6b64b79da9ca53cf.jpg', '6b7cdc2ae2af22c6.jpg', '6b8d607e51d466e7.jpg', '6b931d022eea7a83.jpg', '6b97609e92f28085.jpg', '6bbcdc844bef7ca1.jpg', '6bc1ea9f1bb5a5a9.jpg', '6bebfef8aeb7eefb.jpg', '6bf48c4cc2abc68a.jpg', '6c16ee07680d3ec1.jpg', '6c554d7ef12f1848.jpg', '6c594994c0abd99e.jpg', '6c6bdfa695f42769.jpg', '6c8146c92c8fd1d0.jpg', '6c8ea1ad3eaa9fb0.jpg', '6cba85f674c6c313.jpg', '6cdfbe5a3d5598fe.jpg', '6d00b319b619bdeb.jpg', '6d01ec94ac4d6321.jpg', '6d080120cf027e41.jpg', '6d4d2d28e4ad8efb.jpg', '6d64ca9d260d0e88.jpg', '6d6b20bac9795553.jpg', '6dbf53b800d13d79.jpg', '6ddaac48bc82e391.jpg', '6df2968d5e8cbe52.jpg', '6e099ec74b264327.jpg', '6e0c1bd07dc70667.jpg', '6e166c408113c4fa.jpg', '6e2240b3771c38fd.jpg', '6e3255beff4db5e0.jpg', '6e57d0320c496875.jpg', '6e868f555d1270ea.jpg', '6eb06214ff4ff773.jpg', '6eda77a3cf6d99c9.jpg', '6ef9144eeb0d2b9c.jpg', '6f731c3632b24e32.jpg', '6f7bf8fe2ab25c76.jpg', '6f899f669b30025a.jpg', '6fb00eb1065318ee.jpg', '6fb22ebb93ebc4c7.jpg', '6fffd2c187a19ea0.jpg', '7006f73f954741e4.jpg', '702feb30451f4397.jpg', '703c024ce39b3058.jpg', '703f0af0c3728d05.jpg', '704334c0d59cc0c5.jpg', '704a0941d5ab7480.jpg', '705f26547d6910cf.jpg', '708be8eccb7020bc.jpg', '70c23d215dfd6278.jpg', '70e2020569579170.jpg', '70e2937c22e4c688.jpg', '70e30ffd06fdc618.jpg', '70ee60fe819b7b39.jpg', '70ef31ca6cc32d74.jpg', '714c8eb65eb87600.jpg', '7159569f2db8b406.jpg', '716223c4a1022678.jpg', '717c6b7e61bc15da.jpg', '71ae4ddad682410c.jpg', '71cf1a6fc7a7db74.jpg', '71e9bab19b390296.jpg', '7217fe341e33a886.jpg', '72200a069c91ebe3.jpg', '725a7a6c550b6b4d.jpg', '7269f4f377c981bc.jpg', '726c12fa80b29c10.jpg', '7279d88e4f7b5285.jpg', '727bd344df12a6f9.jpg', '728c4fde2111b905.jpg', '72e0c6ab4fff533f.jpg', '73032c8b3c97c51d.jpg', '731488a64ffc8e17.jpg', '733705950a0bb390.jpg', '7339e4db156bb8c0.jpg', '736d62f821f46def.jpg', '7377c5ee3036ce25.jpg', '73a10f3698c3a8ab.jpg', '73ae26dba667beaa.jpg', '73d4659e125ce2ef.jpg', '741228db7fd25222.jpg', '744124c60df88f4f.jpg', '74657459a490156e.jpg', '74732de0173c8aa6.jpg', '74a72a8447dd2dd5.jpg', '74bc9fd22f411545.jpg', '74ee88eaaf79a86f.jpg', '74fe64a3a1e6563a.jpg', '751a7d9bda21a7f9.jpg', '754038dbd3bc2a74.jpg', '75631dc4f0010065.jpg', '7566046dc5441df5.jpg', '758f376f9f09e011.jpg', '759255c4afb707d9.jpg', '75b66fb0a7d6cba8.jpg', '75b7f4d50a815c0b.jpg', '75d38a00f38eb6c7.jpg', '75d9f0664dee9a7f.jpg', '76200894af149b79.jpg', '76210a9441a658d3.jpg', '76411d2623694db0.jpg', '7646cdcb55032602.jpg', '765eed8286efc1dd.jpg', '768cb7fe88e61481.jpg', '769027806a361cf2.jpg', '76fe33eb6844de66.jpg', '77185721f5a49b01.jpg', '772ae9ac5b53effd.jpg', '77310abf7b4fffc8.jpg', '7741a64c9c9e7a71.jpg', '7744e4bdb10ed8b8.jpg', '775c48fa464d5763.jpg', '779e4b4b8f31aaf9.jpg', '77a1ccb7d5125c15.jpg', '77a4c6a3dd6612fc.jpg', '77d364829d7d94b4.jpg', '78124e7bb5666488.jpg', '788c31287e3f34f5.jpg', '788db77e0729a8b3.jpg', '78b0467fcfec895f.jpg', '78d964e0073fba3a.jpg', '78daf8c190749b64.jpg', '78eb9ca87d11db83.jpg', '793c4b0b0b6b1d89.jpg', '79422cf0142a14a8.jpg', '797584fc9d94afef.jpg', '79c190a1914b606e.jpg', '7a61055594f9f2c0.jpg', '7aa4332642d9a1bd.jpg', '7abf7e09378f133a.jpg', '7ae8e7479e324028.jpg', '7af1b33f75ea9ad0.jpg', '7af4837fb8792da7.jpg', '7b3609ae5923bb9e.jpg', '7b4b1f61a0dc9ed9.jpg', '7b5ad602c826fb94.jpg', '7ba07f21ede900b6.jpg', '7ba3cf124eede028.jpg', '7be3da31bafcddd2.jpg', '7c25980d63f95c3c.jpg', '7c282855927f4652.jpg', '7c3345b185b29f53.jpg', '7c3849f8f5ffdcf5.jpg', '7c38730b2ee80c4d.jpg', '7c48a7db3ef65821.jpg', '7c77b03e6a0e29cb.jpg', '7c971bd3c23a45f1.jpg', '7cbe022195bf37e6.jpg', '7cce88697a223026.jpg', '7ce8dab4e0374177.jpg', '7cea28e50e1a7bc3.jpg', '7cf036cad48fb896.jpg', '7cf280d96373b3b4.jpg', '7d01ff212b278a38.jpg', '7d0ef891a1aa99f8.jpg', '7d0fc8a8999dac6d.jpg', '7d159a232504929b.jpg', '7d188f17fb9b3417.jpg', '7d1fa86ed9672752.jpg', '7d457b7b4ca7a9d2.jpg', '7d74c3637e234ac8.jpg', '7d7f46b7094b7bdd.jpg', '7dc98b0e98b5c47f.jpg', '7ddfbccfb33c3042.jpg', '7df496fce534dbd2.jpg', '7e048f798973cad9.jpg', '7e2438188ddfcc39.jpg', '7e25da6152325b9d.jpg', '7e279ca401a06c48.jpg', '7e4b8e3d50463139.jpg', '7e4f0e8d2c9f2b39.jpg', '7e5efe6c297ac8d3.jpg', '7e602f91f6d3abf3.jpg', '7e9970f83188a0aa.jpg', '7ed706b3b1987707.jpg', '7edcf15774e8cfee.jpg', '7efb3c6758319ea7.jpg', '7f170410e9415989.jpg', '7f3311659138e1c1.jpg', '7f5feb9e5bbd5a25.jpg', '7f740c90c32754cf.jpg', '7f785fd6767fabaf.jpg', '7fa8ce8f676e3ac8.jpg', '7fd1ede235c7dc67.jpg', '7fe3ea2c3a8a1288.jpg', '8018b3d0c448cbef.jpg', '803ccf2093eb2e7d.jpg', '807be10ddb1f270d.jpg', '80a7f8d21dea4499.jpg', '80aa76a0f54597d9.jpg', '80b2d9f2538a3ec1.jpg', '80c4f99aff94f271.jpg', '80c584882734e3df.jpg', '80d0d1d8b5ac175f.jpg', '80d714baa11e335f.jpg', '80d9850f9a306ba2.jpg', '80da0ba74439ad01.jpg', '80ec11b7b63316c0.jpg', '80efcc05aae649d1.jpg', '80fdf8d58618c246.jpg', '81072e2e238989ea.jpg', '8140b5454bee9daf.jpg', '817a1bf76cd8d4d1.jpg', '819b42301ddfad7d.jpg', '819ca99efed481c6.jpg', '81a60abd47a24fe9.jpg', '81dfc09159a18109.jpg', '81eaabc4ace9d9df.jpg', '81eaeb616da006c2.jpg', '8246eb5da11bf458.jpg', '824ae1b1e415cfc1.jpg', '826994169f19b062.jpg', '8269d9271ff6bbf8.jpg', '8273cdbce2722cb8.jpg', '8274f3c7e49630fd.jpg', '828c581b6cf769a6.jpg', '829a6c494ea4881a.jpg', '82d5fa21820c0957.jpg', '8307bc8b147a973c.jpg', '831191810b26dcf8.jpg', '831e6f930154f52a.jpg', '8342a0fe3db5cbfc.jpg', '834941b9e8b3f455.jpg', '835286fa88bde21b.jpg', '835cbdd0df4a8303.jpg', '83721cb04c9dfada.jpg', '8378a88edd195dea.jpg', '837cac0f7f876fc9.jpg', '83ea51844e125729.jpg', '842419e9db6c6e2a.jpg', '844322d1743781ec.jpg', '845d51149dd90a37.jpg', '8472b9455bde4ca7.jpg', '8476ea4074613508.jpg', '84839ac608258e5b.jpg', '848b46e7eadcda59.jpg', '849e6b9be3de6e6b.jpg', '84be4e9f8d70743a.jpg', '84d5a6e98ab1d2a9.jpg', '84d8059c6e8b46c0.jpg', '84d9703d7dcf3795.jpg', '84e4e352b1ecc95a.jpg', '84efae2394c51e73.jpg', '853555effe0e828e.jpg', '8538d5326f92f9fb.jpg', '855386eef898a88d.jpg', '8590009f2bf25f26.jpg', '85e31927fc3d77d2.jpg', '85e6ebf39174feb6.jpg', '85f897c0d93188ed.jpg', '8602c87ba7fe20a6.jpg', '8689d49a686f5a4e.jpg', '869120701283e218.jpg', '869ba926961826c5.jpg', '86c272ec7065c945.jpg', '86e35ba57b0e8d14.jpg', '86f3e8db908e8232.jpg', '8701e94ce30b3b69.jpg', '870cf5be0f5c5e8a.jpg', '871293af5c9b7c6a.jpg', '8735bfcb538edebe.jpg', '877034a9d618e17e.jpg', '87e09475ee6fe136.jpg', '87fd62b41d9de806.jpg', '886e69e884df8a1e.jpg', '88a55a12bfbbd76f.jpg', '88acd902e38b03d8.jpg', '88da126138cfc63d.jpg', '88eba636ddc5039a.jpg', '88f7d826f7a0c46c.jpg', '89097a73a54647c3.jpg', '8919df79de84c4ca.jpg', '891fa67acdf3fe36.jpg', '8930ddee268ef2f8.jpg', '89808236ae74a9ae.jpg', '89b1d9fcf75f0b25.jpg', '89f45b04fd0c3761.jpg', '8a0e562191b3897d.jpg', '8a1efa36d38cae8c.jpg', '8a1f1ba85cfa9b25.jpg', '8a57f88d3ba5009f.jpg', '8a6e780303a88d00.jpg', '8a861bfa8da8982b.jpg', '8a88b1aaa38de1ed.jpg', '8aac3799565a618e.jpg', '8ab4514ad31bdaf8.jpg', '8abd2f75727100bf.jpg', '8abd40e4b295d37a.jpg', '8afb9419648aeb46.jpg', '8b12f607bde6b57a.jpg', '8b3fb62a02130413.jpg', '8b4531023932bc3c.jpg', '8b4c6c4573bfbd7e.jpg', '8ba16566c726fba5.jpg', '8bac0d3077a9d52a.jpg', '8bb989f0a277b168.jpg', '8bbd5f754f92b85a.jpg', '8bff05fa512592ab.jpg', '8c150e1b9ab55386.jpg', '8c16c709f360997e.jpg', '8c2428d99bc0dbec.jpg', '8c3840c13afbdd53.jpg', '8c5aa3ca0148d57c.jpg', '8c677e1524b7fca6.jpg', '8c6cd9b18d05759e.jpg', '8c74e68ee1fb0478.jpg', '8c80b22165511aeb.jpg', '8c9726284de457fe.jpg', '8cc4f587b1e363ab.jpg', '8cc84bf7695923ba.jpg', '8d0b31c1d9047aab.jpg', '8d2f120086055863.jpg', '8d394215fab25a2e.jpg', '8d5feba88c997751.jpg', '8d81e96bdabb26bc.jpg', '8d9d3bcf007601e1.jpg', '8debaae2ef1193c6.jpg', '8e1b747608e8c7fd.jpg', '8e1e616d3d7057cd.jpg', '8e25f6db84e9fc2a.jpg', '8e349f6784814d37.jpg', '8e846b8d6505389a.jpg', '8e92dd346648529b.jpg', '8ea2a8105f7cf2a6.jpg', '8edaa85afc5122e3.jpg', '8f0beb56c8ab76fd.jpg', '8f11fa71b5554873.jpg', '8f307c4c9f0ec2f8.jpg', '8f3f94833819335f.jpg', '8f52139b50af855e.jpg', '8f6874c8bbaa84f6.jpg', '8f81cb3077ef9b8f.jpg', '8fafa89aa70b3765.jpg', '90813ba35984688a.jpg', '9084502c3c990164.jpg', '90a7dd21330c2dfb.jpg', '90cc902d36df636d.jpg', '90dad95da5b3c7da.jpg', '91186c812152e9c9.jpg', '9147ca79ef091544.jpg', '9151a70eb7f580c2.jpg', '91696f599432f6eb.jpg', '91965541dbf78c77.jpg', '91a228f13fbe8d86.jpg', '91b57d56a8d4444a.jpg', '91e4f3753956b045.jpg', '91f3d24e48d63b71.jpg', '9209f9a110c7bf27.jpg', '924db16ad1e8f527.jpg', '926537e760edd3bf.jpg', '926cfb9b8f9666bb.jpg', '927f894b0ef786f6.jpg', '92c5d0a8b41449b2.jpg', '92ce2a0fa5b38074.jpg', '92e1a39a1d78eb99.jpg', '92fe48f58a7cac7c.jpg', '93275c3e65f960cb.jpg', '9335c0cb6c683a41.jpg', '933666f1ffca8733.jpg', '9365fd36fc01187d.jpg', '937a9462f31bb3da.jpg', '938383ffa3d55d7a.jpg', '9392850234e6c71a.jpg', '939e27990d6eb88f.jpg', '93bfe70bdc44c90c.jpg', '93cb3db1c82e23c0.jpg', '93dee913e9fbd403.jpg', '941401b99a9fb71a.jpg', '94141bec8a45180e.jpg', '942664e404d6100c.jpg', '94418c7dc1a9a653.jpg', '945fa0450aa80f11.jpg', '948b3d3fa852ea30.jpg', '9499de026ecc86d1.jpg', '94c431fd1d706256.jpg', '94c8197411d9bcb6.jpg', '94d7078c607a6324.jpg', '94ef9bda118f7dc2.jpg', '953e4b7f9f931587.jpg', '95a40ed2d0e19413.jpg', '95c6c1c9dd14cad3.jpg', '95c95639334e1a27.jpg', '95ca68775d2ae798.jpg', '95d5d047cd4e271b.jpg', '95d7a0edcc47b688.jpg', '95f01c2c24a5f34d.jpg', '962315799b7b75c5.jpg', '964510dfd4bbc1d9.jpg', '964d23d10b592c78.jpg', '964d2a73871f7ff4.jpg', '965507a84e12cd6a.jpg', '9679bf2f23b6d510.jpg', '967c2f9097e6b1b6.jpg', '9685eca43200a4f4.jpg', '96ed39d1033af038.jpg', '96f4846b95512e85.jpg', '9714e48b2d948ad0.jpg', '97397ce99dd74d3a.jpg', '9746625ab2a0ede0.jpg', '9749005804400c3d.jpg', '9749303af187064b.jpg', '9758c5b94382448b.jpg', '975f89c89ab8cbd4.jpg', '976b4680a149c0fa.jpg', '977a19921d216c9a.jpg', '97bd665cfd80a017.jpg', '97caeb058cf5f96c.jpg', '98089e48037e4cc9.jpg', '982b16954f6e94d5.jpg', '98539ce10f10cc5e.jpg', '988173ac473096c8.jpg', '989c3b54ac0da234.jpg', '98a90227975b149e.jpg', '98b0b1539cf398c0.jpg', '98bc56c677dee997.jpg', '98c18bacdff65e4e.jpg', '98cb5f455f84b058.jpg', '98e2787438ad2b08.jpg', '98e32e2938aa32cc.jpg', '9929a40f3eecb1bf.jpg', '9929c1b6db14c7f4.jpg', '99529bf6da143f8b.jpg', '995a1e0bf8c6cf6c.jpg', '9976edd6ed257a74.jpg', '99899030e5c89dba.jpg', '998a17d71508c5ce.jpg', '99a4d9c86ee01742.jpg', '99ae650961c53762.jpg', '99df8c64e66515df.jpg', '99e48f76fff3ba08.jpg', '99e706d2b381c0f8.jpg', '99e9c4555eed465c.jpg', '99f4c2fa05e915ed.jpg', '9a006588a672a1cd.jpg', '9a2c4b53c3a237d2.jpg', '9a38e8ba45e15704.jpg', '9a3fcd86153cdb2d.jpg', '9a806fee38f0d281.jpg', '9a97a34c425a4b0a.jpg', '9ac08f8a8dd471b3.jpg', '9aee4172c205a1e9.jpg', '9b2b6ec83faab405.jpg', '9b3171e372ffd7b6.jpg', '9b360d9230ebae44.jpg', '9b3c81cb3bd8c33d.jpg', '9b54b6ba66d02a1c.jpg', '9b69f6778e4db41c.jpg', '9b6e3300463f1e88.jpg', '9b9ea8c07213602a.jpg', '9bc6496c64833744.jpg', '9be22a8b31220be8.jpg', '9c0bf384102a3414.jpg', '9c3cdda08a34d9ad.jpg', '9c4d18bf8558d643.jpg', '9c6f71702dbd4e36.jpg', '9c7346250b114177.jpg', '9c94b83f3c0e6818.jpg', '9cacd5bcaecfbb0a.jpg', '9cf975d47d0f542c.jpg', '9d10a6ff0cd4da32.jpg', '9d315451afcdbbd6.jpg', '9d4367824f8f9e41.jpg', '9d4d90549725ef32.jpg', '9d6d6af300fb020b.jpg', '9d9cd2deb54a9466.jpg', '9d9d6b4d66051836.jpg', '9dae1f92f1de09c9.jpg', '9db7ee349c99c108.jpg', '9e1457af524d75dd.jpg', '9e1a82f41e8874a9.jpg', '9e23cc79ceceea60.jpg', '9e30b0c24fad44e1.jpg', '9e32d5c65c99feac.jpg', '9e4493c80739e171.jpg', '9e87a18a6ef46b5a.jpg', '9e95f18106634063.jpg', '9e9a48d0b61b9e0b.jpg', '9e9fc28e7fc7d423.jpg', '9ea3d7c6771e09cb.jpg', '9ea9cad49d928cc8.jpg', '9ee987dad0a50966.jpg', '9f11be626fe1e370.jpg', '9f1fbe30b7c7703c.jpg', '9f3cee18957ee6dc.jpg', '9f449136466e2a2a.jpg', '9f4a4f7309cf9228.jpg', '9f5b1c60ab6753cb.jpg', '9f6e2f98eb2bb9b1.jpg', '9fa9ca6891468fbe.jpg', '9fab1b13f332cd82.jpg', '9fad14fed456c0ee.jpg', '9fd53a4b776c81a3.jpg', '9fe762be7d4f2b1f.jpg', '9ff32e9dfc64a6e7.jpg', 'a0269496b087df63.jpg', 'a02b8f9382c532dc.jpg', 'a02f7a5122f0f1f9.jpg', 'a043db9f85ade89f.jpg', 'a0787e5c28e4a0dd.jpg', 'a0913cb7299c9d6d.jpg', 'a0a8e1bd3affb0e1.jpg', 'a0ac3c843be32537.jpg', 'a0ae2ec93b05f51d.jpg', 'a0b5af56e59b5256.jpg', 'a0deb82507bbb034.jpg', 'a0f1a69183941d9c.jpg', 'a0f29f6cc77a0cdc.jpg', 'a10a4a28705a848c.jpg', 'a11efbb08e341f74.jpg', 'a1617a3206d1dac3.jpg', 'a17cb3493ac4ba9b.jpg', 'a19dde67f2473347.jpg', 'a1a80f1b9e76a2b8.jpg', 'a1fb01f4111201a8.jpg', 'a21e946e612742e7.jpg', 'a2305387c16a5201.jpg', 'a24470c9843c959a.jpg', 'a25b22a953c8da3c.jpg', 'a29ff53dc0cc3b80.jpg', 'a2be5c212ca3e49f.jpg', 'a2c3c93117d04486.jpg', 'a2cd60a9e5c85bdc.jpg', 'a2eaf7707283bcc1.jpg', 'a3073d61b7d3bba1.jpg', 'a308ff3f55b0e3a2.jpg', 'a32169790ac3cc1a.jpg', 'a3295e03978b5ecc.jpg', 'a3d9bb3ab63413f0.jpg', 'a410b0fad9e3f689.jpg', 'a42bb699c758104a.jpg', 'a44f6454c6c9fc61.jpg', 'a461dbd000c5c078.jpg', 'a482b731cbbb3595.jpg', 'a484c2d0a80d13b3.jpg', 'a4c844717ec51f2d.jpg', 'a4cb2dd812a76d0b.jpg', 'a4cd3ce92000fe35.jpg', 'a4d4d5f00ecc6b72.jpg', 'a550667711fdc4c4.jpg', 'a56436519ab0b055.jpg', 'a57e78f27d467acd.jpg', 'a57faea0db421c4c.jpg', 'a5ea59146cda572c.jpg', 'a5f74ee3c37fa631.jpg', 'a63848e5e73558cd.jpg', 'a63cbfcfd1a2f851.jpg', 'a677ea3a53878a83.jpg', 'a67caaccc2ea8ab2.jpg', 'a6b06a736e62a7d2.jpg', 'a6d1b36ee7d491b9.jpg', 'a6d8da0af61e309b.jpg', 'a700e75d47ad0f0d.jpg', 'a7109d06ba346161.jpg', 'a7d05afaac54edf5.jpg', 'a7e3813a7f482f62.jpg', 'a7ebd6524c4151f1.jpg', 'a80ff505f4e5edbc.jpg', 'a81bc19aecdbe88a.jpg', 'a82b1a9e14872c3b.jpg', 'a84cfb69c2f63d98.jpg', 'a863cb2980f8caca.jpg', 'a881f7c5edee1eec.jpg', 'a89b258856f1e224.jpg', 'a8bcdd7ed74d94e9.jpg', 'a8be1206bad94831.jpg', 'a8c00fee6c1fe4d0.jpg', 'a8c77f2a92aa5364.jpg', 'a8e78113b604649c.jpg', 'a913be4015719572.jpg', 'a94bc73110b0c24a.jpg', 'a94f362fd78d11f7.jpg', 'a956d2a3e015d1d6.jpg', 'a972dfca4e115e81.jpg', 'a9739c817c6dad08.jpg', 'a97a2ea104526eda.jpg', 'a9b50d2c9ff1d3ed.jpg', 'a9bafa9f86582acb.jpg', 'a9be58441f8f80f4.jpg', 'a9e85ee88f5dc139.jpg', 'a9ec116de58587ea.jpg', 'a9f0e57035e94966.jpg', 'a9f4da42af5f5c48.jpg', 'a9fbb907b8b10d5f.jpg', 'a9fcfbc79c43ddd1.jpg', 'aa0bb5c57530de77.jpg', 'aa36ec68d9754d5b.jpg', 'aa389d5bb2952368.jpg', 'aa4900d1bbd6bf0e.jpg', 'aa6fe686a4c27e7b.jpg', 'aa7a364ee6bd2d45.jpg', 'aa9594fec3e07167.jpg', 'aade99887e81b8c9.jpg', 'aafad66a2f157c25.jpg', 'ab082862b8f90940.jpg', 'ab10599bfb021f37.jpg', 'ab12f3db87a98bd9.jpg', 'ab67755882b62d70.jpg', 'ab6d00067dff6de9.jpg', 'ab7459964e96169c.jpg', 'aba3a122a0ed7599.jpg', 'abb429543a3de670.jpg', 'ac186bbb39542c0c.jpg', 'ac3f2e4c4c7e2cbb.jpg', 'ac4904db6a564275.jpg', 'ac6e54213444fcf5.jpg', 'ac8ec8641916e7fe.jpg', 'ac8edabeb1490117.jpg', 'ac966aa3f11917e3.jpg', 'ac9a63cc8fe5fa56.jpg', 'aca5e1f87337f85e.jpg', 'acab02227b128c07.jpg', 'acabd936344dfa15.jpg', 'acbdc2456b62632f.jpg', 'acf5a010367637bc.jpg', 'ad0e5c3d3c4af29e.jpg', 'ad1829c4d5fbbaec.jpg', 'ad1f2279e62b1454.jpg', 'ad2af02095c73f17.jpg', 'ad63406a39e548fa.jpg', 'ad89192140422774.jpg', 'ad9de103ee254f8f.jpg', 'adb440fee38bb901.jpg', 'add00ded1b8d5a3b.jpg', 'add82a2d74c19cce.jpg', 'ae47455c768b912c.jpg', 'ae499543500004c8.jpg', 'ae7dc775e06feb1b.jpg', 'ae8f75d127cc2974.jpg', 'ae9061067261e71d.jpg', 'ae9aa2f84219491f.jpg', 'aeb7d6c925a2157c.jpg', 'aee9c8ddc52076e0.jpg', 'aef1a5d168dec438.jpg', 'aef56a99ae9323ad.jpg', 'af00c00738a9da9f.jpg', 'af0fb13b691463b7.jpg', 'af1f88e3d2fe4057.jpg', 'af8655925d29edc9.jpg', 'af89876ca9b8c92c.jpg', 'af993f6c80989d29.jpg', 'afa014df903d0a2d.jpg', 'afae4bfd3de3be7a.jpg', 'afb97aa154b1d552.jpg', 'afd36b0517818856.jpg', 'b00a1d52b199b73b.jpg', 'b03101ee5dec47db.jpg', 'b070be200cbc7229.jpg', 'b07f0dc3b85eb51b.jpg', 'b086b285236410ca.jpg', 'b09e4f8a7319af1f.jpg', 'b0fa119197adb46f.jpg', 'b118a1d968d8fb0c.jpg', 'b1263006aa374a75.jpg', 'b14e59951c0be224.jpg', 'b173da6c8b41da05.jpg', 'b17b453c6af8a490.jpg', 'b17cad7a67dd16ec.jpg', 'b1835bfda35b81c5.jpg', 'b1a5119ea16a15d5.jpg', 'b2196176cc0ffda9.jpg', 'b236286b849c59b1.jpg', 'b23bc603eda8f24a.jpg', 'b24375e838a54ed1.jpg', 'b24b332fd49b9433.jpg', 'b27cb341b4870595.jpg', 'b297fcd3ef1d98d4.jpg', 'b299794f9cfbea0a.jpg', 'b2a1a2dc8491cd35.jpg', 'b2ad45926fa21313.jpg', 'b2b5cbd6545c56fb.jpg', 'b335417198be3623.jpg', 'b34922fa5543d54d.jpg', 'b35a5455e9116935.jpg', 'b363549bbe8fab80.jpg', 'b38f07f44db58592.jpg', 'b39b8456677ac83e.jpg', 'b3a300d8963fbf77.jpg', 'b3a747146af47011.jpg', 'b3ad58f94fd125a4.jpg', 'b3d2967a2c776c18.jpg', 'b3e872c54288a29d.jpg', 'b3eaa85c8d572fba.jpg', 'b3f33dd5b37ebcdd.jpg', 'b3f3f81eae0be7a8.jpg', 'b43b82131761c3ab.jpg', 'b44679b61da66c9a.jpg', 'b4b319b163f5283e.jpg', 'b4c34c06f29f81fa.jpg', 'b4e223ac15451851.jpg', 'b4fd4ac63acded22.jpg', 'b4fea83953a93974.jpg', 'b51994ee101bb20b.jpg', 'b51ed0cc102d2c32.jpg', 'b52538bfbf12406e.jpg', 'b54c58e87b21a74e.jpg', 'b55e050239fcabed.jpg', 'b5667e93bfe0cdd0.jpg', 'b56b734cae1e6e32.jpg', 'b56e1db3cdbfdd2e.jpg', 'b56f3f34fd0b339e.jpg', 'b577d621272cbea5.jpg', 'b59b8d2d62c2d6fa.jpg', 'b5b263ea0ed7024d.jpg', 'b5cf3ffaef604208.jpg', 'b5d5d611f69b84b0.jpg', 'b5d91f7a9e96cfc1.jpg', 'b5f6837aeebcb5ef.jpg', 'b65dbd7e0e8a644d.jpg', 'b68151248cbb0446.jpg', 'b6b7274ff4438025.jpg', 'b6c1b44e18fba034.jpg', 'b6c8fc8b3f4a8cba.jpg', 'b70d960fb386184f.jpg', 'b713d3491d2d0690.jpg', 'b729b63b8824bed8.jpg', 'b73eaeff8201f85b.jpg', 'b74088991226524e.jpg', 'b7684f2d88132a50.jpg', 'b7849fe5fe38b125.jpg', 'b78a6000ba7e097d.jpg', 'b792cd16e71859a3.jpg', 'b7984f42346e3529.jpg', 'b79a9095ff7956d3.jpg', 'b7a63bc5c12907dd.jpg', 'b7abae1d9061841c.jpg', 'b80d3c6bc4cecc88.jpg', 'b83655c461db5a23.jpg', 'b8690335eea4f648.jpg', 'b889c748b57823a0.jpg', 'b88a3a7c1e543400.jpg', 'b89565f07a733411.jpg', 'b89ab3c21b7a0835.jpg', 'b8a140a83db6e160.jpg', 'b8b46bc91862dbd2.jpg', 'b8d198d9ea6f3217.jpg', 'b8d7c5722c931536.jpg', 'b8e848611401eda6.jpg', 'b8ffb5387216d121.jpg', 'b90ba15b2605cea5.jpg', 'b92540672532994a.jpg', 'b93178ea32e85057.jpg', 'b9599e4c2e485713.jpg', 'b95bf0f664f71f4f.jpg', 'b95c108aa4601a12.jpg', 'b96738eb0a34a3a1.jpg', 'b97ff02a3e2342b9.jpg', 'b9a845e954dd57ff.jpg', 'b9ae515e9db8caff.jpg', 'b9c43dbead04b322.jpg', 'b9f38e5c41c5d2c0.jpg', 'b9fcc57eb3051305.jpg', 'ba072233d47ddbf3.jpg', 'ba34b906dd996ac6.jpg', 'ba70eb15749affd6.jpg', 'baba35f565a36093.jpg', 'bad3f4f92a1e18da.jpg', 'bb3f2459253507ad.jpg', 'bb4801f4c8f238cb.jpg', 'bb526d94bdfa4788.jpg', 'bb6b267d12f9c5dd.jpg', 'bb7d518a2e41ccce.jpg', 'bb8b3c090d2c6efd.jpg', 'bba17860e097325e.jpg', 'bbaec8719d4109d0.jpg', 'bbd5f34c4067fadb.jpg', 'bc316c92f413c0fa.jpg', 'bc38bd59d4b452ec.jpg', 'bc3c63b987148ff6.jpg', 'bc41bdc300fbe45a.jpg', 'bc450b577d472252.jpg', 'bc4b90fd52be0768.jpg', 'bc5fc905383f36d5.jpg', 'bc727ad13afd2cba.jpg', 'bc9af2da15862e2c.jpg', 'bc9bbc3f8622ff85.jpg', 'bca2b935cc6b6840.jpg', 'bcca3dfbac47b8cd.jpg', 'bcf9cd4bd9e3f14b.jpg', 'bd0aeefe0993bf30.jpg', 'bd1e06c7774d0ad9.jpg', 'bd22c48019c48609.jpg', 'bd2bbcf129fed938.jpg', 'bd2da16d45946416.jpg', 'bd3a7812b26ed565.jpg', 'bd3f1f6b2a2d046f.jpg', 'bd5c1f8cf82e95dd.jpg', 'bd636cfc5fdaebdb.jpg', 'bd6639c382c9f0b2.jpg', 'bd8ef85029e0138f.jpg', 'bdb7e6ade1a1523e.jpg', 'bdfc26177138627a.jpg', 'be122111bb493736.jpg', 'be8195007febbcd0.jpg', 'becbb15898f28513.jpg', 'bed1702fdef9c2ae.jpg', 'bed351c3484c3203.jpg', 'bee43b57eef65e23.jpg', 'bef933daee0cd8a3.jpg', 'bf3ec39780511d57.jpg', 'bf6efabd8bed10ed.jpg', 'bfb95e5d1a3f4427.jpg', 'bfea199ae77df0cf.jpg', 'c036e654fd794f1d.jpg', 'c0452a997dc91791.jpg', 'c0aea77924e6a7e3.jpg', 'c0b9fddf15a7669c.jpg', 'c102be62a54347cd.jpg', 'c11055de8e4e8aec.jpg', 'c148cd6a818387f4.jpg', 'c1833ab18d9f2a3e.jpg', 'c19158dee1b4d6cd.jpg', 'c1949422faa89e43.jpg', 'c1a8f1353376a08e.jpg', 'c1b0079e54dadd7a.jpg', 'c1ffc043d3594059.jpg', 'c204fae77e31c54e.jpg', 'c223515897571104.jpg', 'c23621e9bb4448c1.jpg', 'c254fa7128a3efc4.jpg', 'c2f905db13fa9cba.jpg', 'c3069352366c87c9.jpg', 'c3166e965009a0d5.jpg', 'c3498db00e78a5f5.jpg', 'c34a172ff24d3ada.jpg', 'c34da2a0905551f7.jpg', 'c361a21e133f7c7a.jpg', 'c37864f8e4506c5b.jpg', 'c3b03c0d6124ce3c.jpg', 'c4522e000351c472.jpg', 'c45b81105263aae9.jpg', 'c4b25435ed6e5ea7.jpg', 'c4d6fc49f5f96984.jpg', 'c51a74818e41cb55.jpg', 'c51ab8d928680ca7.jpg', 'c51d432d72ceaa00.jpg', 'c57a4b527ad39a3b.jpg', 'c5851b63768d0d27.jpg', 'c5bb3bf7ceda2d28.jpg', 'c5c14ee99a38ee62.jpg', 'c5c6626a8c92d45a.jpg', 'c5d1c1bb291951b1.jpg', 'c6255623041ee006.jpg', 'c642de0aa391498f.jpg', 'c651bf11137a85c3.jpg', 'c6895b53baa5dfe5.jpg', 'c69029faa589fe4c.jpg', 'c695ef4bd9e1a150.jpg', 'c6be0ed41650762b.jpg', 'c6c80eddf3e1cc33.jpg', 'c6cc8923f787d472.jpg', 'c6cedbc8d84f476d.jpg', 'c6d815636158dac1.jpg', 'c6e1e391a84c486a.jpg', 'c6e406feaa90b775.jpg', 'c6ebf5064ebbe6f0.jpg', 'c6f1c89f48f94b7a.jpg', 'c6f2dd95d7db4180.jpg', 'c70920cfa9a95450.jpg', 'c71b26a9d4f00e40.jpg', 'c72ed3667ae4b09b.jpg', 'c73ed65b650141ff.jpg', 'c7a37bc94671412c.jpg', 'c7abde7468977e55.jpg', 'c7b0e8b067f435e0.jpg', 'c7c1f311de037765.jpg', 'c7c544f9f1179ae5.jpg', 'c7fe39e0b08a84c4.jpg', 'c7ffdf854a1f4908.jpg', 'c85a083214de86a8.jpg', 'c87f579da300829c.jpg', 'c89d9fd899af5016.jpg', 'c8b9b2772344aeac.jpg', 'c8d610b212dc8762.jpg', 'c8e50e9c804b2cd1.jpg', 'c90a9426a57c92b1.jpg', 'c912779496ba5144.jpg', 'c93d9b67fe2d4681.jpg', 'c93e2ee271a5374a.jpg', 'c9476b4f144b6122.jpg', 'c9606e96860057e4.jpg', 'c973d421fc9ba279.jpg', 'c98a2e3e0361decf.jpg', 'c9a97e5eea808a8c.jpg', 'c9b99f10aef73b26.jpg', 'ca0c1d96e6234e63.jpg', 'ca1cfd8a758f4f0a.jpg', 'ca45113233f31aaa.jpg', 'ca472cfdc9bb11de.jpg', 'ca4751693d300d18.jpg', 'ca51ff1e4547893a.jpg', 'ca560737896d1703.jpg', 'ca724440ac6010ba.jpg', 'ca7d48d019129bb7.jpg', 'ca8d02bfa9642347.jpg', 'ca9d933cef2dc50c.jpg', 'caa8086d8b4bd5b8.jpg', 'cab1ad37306ec0ff.jpg', 'cae17cc4f10d1791.jpg', 'cb07386df6260160.jpg', 'cb0fa562cc97b38b.jpg', 'cb460ab41ef5b22f.jpg', 'cb558e256b233ebd.jpg', 'cb62d1abad16d2c0.jpg', 'cb9b2a30d9384262.jpg', 'cc04306fc52c82bc.jpg', 'cc19878c9fc3ef1a.jpg', 'cc5b1cd2851ce46a.jpg', 'cc5cd3611844271e.jpg', 'cc965cc9ad205a10.jpg', 'ccabdecca562a698.jpg', 'ccb2546c87dad700.jpg', 'ccbabafce96f54e4.jpg', 'ccdbae66a4b41c58.jpg', 'cd1e49eac04d75df.jpg', 'cd67a5dbc3004d5c.jpg', 'cd6f6cda996d48ad.jpg', 'cd761b0adbcccb3f.jpg', 'cd9a73806d275638.jpg', 'cdc6149ed9734751.jpg', 'cdc7005984b83ff8.jpg', 'ce43e8d2e0b4f4f4.jpg', 'ce5295c2657b5ee7.jpg', 'ce868d202498f6c4.jpg', 'ceaa40f761ea2706.jpg', 'ceb5f5d3c1fbf8cb.jpg', 'ced7a2c20a77782b.jpg', 'ceee8fa6a99a8755.jpg', 'cf09b1332619fc59.jpg', 'cf0e93f4924ae5c1.jpg', 'cf1937be84a9ba49.jpg', 'cf498b8e93602b90.jpg', 'cf9c449e5082643c.jpg', 'd008dd4b25d8d786.jpg', 'd00950b96aab9cc4.jpg', 'd0165bb7f9690eaf.jpg', 'd02bc6247903381c.jpg', 'd03b0c19a3e6885e.jpg', 'd03c3b3c635046fa.jpg', 'd0435bf1b966dc8a.jpg', 'd054966b123d943d.jpg', 'd05975ccc918b144.jpg', 'd061452dbb8abe04.jpg', 'd08d10ab2a7eeab5.jpg', 'd0939591a5d81b0d.jpg', 'd0ebc3c63dc22751.jpg', 'd0f3228677186bba.jpg', 'd11cdd489773b97a.jpg', 'd12cefe0fdcb6f0e.jpg', 'd14c322969117dea.jpg', 'd14e5a1ccea0a99a.jpg', 'd172327d00b538ca.jpg', 'd17c27485adcad40.jpg', 'd17f088b979b84a7.jpg', 'd1cf989746c8800b.jpg', 'd1d15a74dd9b2542.jpg', 'd1d7f218b052da69.jpg', 'd1dfa327ae290c3c.jpg', 'd1e4eb8c3825de02.jpg', 'd1f220e97ea460ea.jpg', 'd1f5b61410f492fa.jpg', 'd209cd2a83a2b133.jpg', 'd20e2fc76d3e14ff.jpg', 'd219ac3e71f43d12.jpg', 'd226c79e866fc42d.jpg', 'd273294cbf0952ae.jpg', 'd27b470a02a1b41c.jpg', 'd27d01251480f117.jpg', 'd2a34898981dee7d.jpg', 'd2b00234854799ac.jpg', 'd2dad8aeb3756fb5.jpg', 'd2e9eeb148860b93.jpg', 'd2ee36fdadebee03.jpg', 'd30cca5a80ea5a72.jpg', 'd32e89d7aef37e4e.jpg', 'd335c9353d16185c.jpg', 'd341ef1c059a4fe4.jpg', 'd3431cabe16453bb.jpg', 'd368b4415fe3bd46.jpg', 'd36aa7afe1b6113c.jpg', 'd3b6935668869653.jpg', 'd3b890ba5a7a5b24.jpg', 'd40256c7cf891ae9.jpg', 'd4131e4adb4818ac.jpg', 'd41631697bf660bb.jpg', 'd424e6d4073aea49.jpg', 'd425d9bfd68a9935.jpg', 'd426d432c9c8e1cc.jpg', 'd46092f87b785b2d.jpg', 'd492e82c29ab3f03.jpg', 'd4b54e8202863c5e.jpg', 'd4e6b7c3b0c71c95.jpg', 'd4f6bdf07841d463.jpg', 'd501418701472343.jpg', 'd53b0025841d7425.jpg', 'd545226592f26506.jpg', 'd572059b213a493a.jpg', 'd57c8e8e299c46b5.jpg', 'd57f9f6ef4374b32.jpg', 'd5c51f92e01992a3.jpg', 'd5c6a350033274e9.jpg', 'd5e126a0a3ec1a7c.jpg', 'd5e33916cabf4119.jpg', 'd5e71606bd76ed2c.jpg', 'd608074b218acdf2.jpg', 'd60a801df05f9b4f.jpg', 'd60b72e1c9ce1a18.jpg', 'd614c5c2cfed161c.jpg', 'd6629b05f9490d9e.jpg', 'd666a3a2fbcced6f.jpg', 'd67cdf219830e13d.jpg', 'd68f59641797cb15.jpg', 'd6b6b9574a76758c.jpg', 'd6d05244c44e5e1c.jpg', 'd6d386755c54d84a.jpg', 'd6f202a9886947ad.jpg', 'd6f83d584afa0768.jpg', 'd701173f16c3515d.jpg', 'd746584879791e95.jpg', 'd76adc82b09461b1.jpg', 'd76c4400db47b92a.jpg', 'd78695a641502413.jpg', 'd789f5451ad6867c.jpg', 'd78d513938e56725.jpg', 'd795df8aecb77375.jpg', 'd7cae1ad19ef25bd.jpg', 'd8038869804401e7.jpg', 'd807555ee60f797a.jpg', 'd80b0c22a85c3c2b.jpg', 'd83731c3439c0cbd.jpg', 'd83835b722293ab8.jpg', 'd83d4424faffa2e2.jpg', 'd867d76c9acd2971.jpg', 'd86b9af8c6e19923.jpg', 'd87a3f3e887d79ff.jpg', 'd88e8a7417465de7.jpg', 'd8b849ce22e52fa3.jpg', 'd8c4b9df87becf3a.jpg', 'd8d56eb94619af33.jpg', 'd93b649e566deb01.jpg', 'd99670f237c79ab8.jpg', 'd99c091221600c38.jpg', 'd9e45d97f84f36af.jpg', 'd9f4b6a9a1d881c0.jpg', 'da1e6ddf3b1a4cee.jpg', 'da3f28ac8621fd32.jpg', 'da47f3fe88ac54d6.jpg', 'da71ef82d9f644a9.jpg', 'da8df4d8c1d37b1c.jpg', 'da900900911c53da.jpg', 'dacdb9723b205f3d.jpg', 'dae01c447e5d07fd.jpg', 'db2122c963e78377.jpg', 'db30d067ae2111c3.jpg', 'db4028db7a4145a9.jpg', 'db40bc83b4eae969.jpg', 'db5106f39fe2fdc5.jpg', 'db5a0741a7f89206.jpg', 'db698d0c7746f0cf.jpg', 'db8aa9cf936f8f60.jpg', 'db98405de85dfa7c.jpg', 'dbb419997c4d455a.jpg', 'dbbdfdc6e1b22d39.jpg', 'dbbe7370b0a72bdc.jpg', 'dbc6593c40893c35.jpg', 'dbdc1cca246239ea.jpg', 'dbdd7be3a170d205.jpg', 'dbde9f808c02aee4.jpg', 'dbe82b536a4d472f.jpg', 'dbed2c83eb0eeb23.jpg', 'dbf6dfab9a234e36.jpg', 'dbf998f0726a1a48.jpg', 'dbfb15dabe217c9a.jpg', 'dc08ef06884b257e.jpg', 'dc2288c82da2fab8.jpg', 'dc34af7950385a72.jpg', 'dc4e0c525b4b934d.jpg', 'dc587c5bb6a73118.jpg', 'dc8972ae28070a9d.jpg', 'dc99320f1acbfc39.jpg', 'dcd5bb66bd172b4e.jpg', 'dcf84f420eeca1cb.jpg', 'dd18a93b75a9e897.jpg', 'dd37dd34fb9cb6f3.jpg', 'dd49cfcde4e07ef9.jpg', 'dd4a502949e2a83a.jpg', 'dd7d8f7584ab3b70.jpg', 'dd8710ba0b68bd0a.jpg', 'ddaa4738aa96396f.jpg', 'ddd0861c08ceb062.jpg', 'dddc2fa25b1a296a.jpg', 'de134b8d8b45f802.jpg', 'de28c1c4f8c81c57.jpg', 'de482dba4a789367.jpg', 'de4a6b1984258913.jpg', 'de4f81816aefede9.jpg', 'de6ecb4369bfa015.jpg', 'de7abfe83d376417.jpg', 'de93690927da7f29.jpg', 'dec1013c70ea785f.jpg', 'dede84fc2fd81e42.jpg', 'df0b8b24c44c0dca.jpg', 'df12992ec3439118.jpg', 'df135740d4acd9e7.jpg', 'df13dc78cad73ecc.jpg', 'df1b88e04e6aec7b.jpg', 'df331f3ad1fc182a.jpg', 'df6abee2be94b5e6.jpg', 'df87dc3feb9bdc18.jpg', 'df8edcf1789e3639.jpg', 'dfe86a93cc278942.jpg', 'dfffdf6b2f1e9d1c.jpg', 'e03ee726e12bb7c2.jpg', 'e06108aed5407107.jpg', 'e067b079c8227c9c.jpg', 'e0694b59c8675b19.jpg', 'e07f262d76152a7f.jpg', 'e09f03de966070ca.jpg', 'e0b70bd30be74a5d.jpg', 'e0b7e87520cf5549.jpg', 'e0ca1d5e09dcd8ce.jpg', 'e0d4b8e107d4b9c2.jpg', 'e0dd26c29b8a39f5.jpg', 'e123440662c16a69.jpg', 'e129cb89c1030368.jpg', 'e132f9bd07ffa2f6.jpg', 'e16d5a8c6b7f7c6d.jpg', 'e1796bc09ab6777e.jpg', 'e17d77e3be734ff8.jpg', 'e1849f3cebd579eb.jpg', 'e18d8c0f27017a07.jpg', 'e1924ae57aaee6f7.jpg', 'e192e5bdc9980c30.jpg', 'e1a9fcf4c3ad7570.jpg', 'e1abffc178aca215.jpg', 'e1bb3d89e54633e4.jpg', 'e1c66d47cdf1e919.jpg', 'e1d441d1d0d4d7f9.jpg', 'e24878a3facb4bf4.jpg', 'e2605fc4fe32b211.jpg', 'e260c2a4c7a89008.jpg', 'e265124f24596e77.jpg', 'e26ded53b589ccbc.jpg', 'e28b24574b46d646.jpg', 'e29ee5147eb80390.jpg', 'e2a974458d447846.jpg', 'e2b469f46cd37633.jpg', 'e2b4fcbfde74c7e3.jpg', 'e2b856dc1ca18b93.jpg', 'e2b98939b5b8bfd3.jpg', 'e2bdeffe9eabd1fd.jpg', 'e2c2bbe9d81bd55d.jpg', 'e2ccd1246b2e1d05.jpg', 'e326dab2e46de44e.jpg', 'e3468e41354ebab7.jpg', 'e34f9e4e24bdd91f.jpg', 'e368aeb999c49171.jpg', 'e3b1e2e54a1b692a.jpg', 'e3ddf736f8f0b0c2.jpg', 'e43da32056b1d04b.jpg', 'e44d7dca0525e759.jpg', 'e486cd2843acda79.jpg', 'e4a384d9939910f4.jpg', 'e4b4071a1a1c8ea8.jpg', 'e4cc6f6d945cd8a8.jpg', 'e4d3e4878eac53fa.jpg', 'e4d8eb11f33d2bb5.jpg', 'e4ed27a8472c2c96.jpg', 'e4fad0f3a71f0dd0.jpg', 'e51ca35a04a2d670.jpg', 'e531bc80f222450a.jpg', 'e53e561b5dc6b83f.jpg', 'e551d07318f31be2.jpg', 'e57001624d9ce0d6.jpg', 'e5729cc3c37d2d83.jpg', 'e58926c2dc51aaae.jpg', 'e59a3d47a7b62af3.jpg', 'e5aa2a6016eff202.jpg', 'e5da83f2894233c4.jpg', 'e5e20948ccb4e521.jpg', 'e5fe4c9fa4078f81.jpg', 'e66142847c8d41f0.jpg', 'e66c61a04f1b4c06.jpg', 'e69911daeb007e51.jpg', 'e6a109b3b95d9bf4.jpg', 'e6cda492548183c8.jpg', 'e6f07cad96de721b.jpg', 'e706792154346dc3.jpg', 'e75f65cb5e1c3a57.jpg', 'e7791924b7a8c5b1.jpg', 'e7870b81d299c64d.jpg', 'e7b69abf73fdb944.jpg', 'e7e63e5d797ad5f1.jpg', 'e7ea1d6dd9304763.jpg', 'e83c6a873f183b09.jpg', 'e8749aa98d7bbc08.jpg', 'e87ab1f652cb7ac5.jpg', 'e87e3028808e83ca.jpg', 'e8ab7e5e51224dd9.jpg', 'e8c12675fe45e629.jpg', 'e8c91302b9dc552d.jpg', 'e8c9f08c8c5e4535.jpg', 'e8cf963bb4d23e8d.jpg', 'e8d1e054efad88df.jpg', 'e8f1600356d9f6d2.jpg', 'e9017891529fccc3.jpg', 'e9095cdd33b979a1.jpg', 'e959d427f29efce0.jpg', 'e95dbd9c86fbf3d5.jpg', 'e95ea9c9899352fe.jpg', 'e9667e72410f320c.jpg', 'e966e9ab3ac08062.jpg', 'e966f32545e91666.jpg', 'e99d1b6397e09574.jpg', 'e99de6d99201c192.jpg', 'e99fe3085bf05dd0.jpg', 'e9b5ad59511b7158.jpg', 'e9dd6cd93898c6bd.jpg', 'e9e044440d2637a9.jpg', 'e9e2beb4505053a5.jpg', 'e9e93e8998d053fc.jpg', 'ea1f0cc81ab2fa91.jpg', 'ea2a8c3d16d1036e.jpg', 'ea335f4b4d8ae30c.jpg', 'ea68818f838ad743.jpg', 'ea9c2247b526390e.jpg', 'eabced30df86a83c.jpg', 'eb0072b18a516b1d.jpg', 'eb48dbae1f48e0a2.jpg', 'eb86d4ae029c8ac3.jpg', 'eb99570c7ecce6bc.jpg', 'eb9d0226b24ade7a.jpg', 'ebb0c7b96a225ada.jpg', 'ebef944639450357.jpg', 'ebf2c5a009ee287d.jpg', 'ec43412fe1d50e79.jpg', 'ec53e7dc44dcad61.jpg', 'ec6983c5c606d01b.jpg', 'ec7c1b15e16c7588.jpg', 'ec812f758d18c32d.jpg', 'ec947060cfe789a2.jpg', 'ed0275b17001bd7f.jpg', 'ed06e3808d71f57b.jpg', 'ed3be60c4faff0bd.jpg', 'ed5ff834b62c2351.jpg', 'ed8dfef0a151c387.jpg', 'ed98089419468d13.jpg', 'edd606c4555aac3a.jpg', 'edda47930c5c727e.jpg', 'ede1c90a4d566e17.jpg', 'ee24b9607f25d0fa.jpg', 'ee2d6c4d63b98434.jpg', 'ee3428fa18207db7.jpg', 'ee46b550c435f483.jpg', 'eea62a33ad1780a6.jpg', 'eeb31bb9215d64a3.jpg', 'eec09ba3a1139077.jpg', 'eedabea844ef4f6d.jpg', 'eefd38e53cad8df8.jpg', 'ef1e8083ff4e840c.jpg', 'ef31dc16ada04324.jpg', 'efbb1700b36172d4.jpg', 'efbe97fe60dd2f8f.jpg', 'efc46f404355186e.jpg', 'efe0c7e608ac87d4.jpg', 'efe13cdcb019e968.jpg', 'f003f51370a50c93.jpg', 'f00899924afb0d57.jpg', 'f0231abdaf73d007.jpg', 'f02840648bee247d.jpg', 'f04b1c2e6ec6b359.jpg', 'f06fefb3abfc9877.jpg', 'f08aba0820e3ced2.jpg', 'f08dd09abe9f17a5.jpg', 'f0c5a628e887deae.jpg', 'f0c99030ede49938.jpg', 'f0cb4c15818227fd.jpg', 'f0d149ab498b07df.jpg', 'f0f8f8cae2aa4f91.jpg', 'f11814e85298b3ac.jpg', 'f11c8a9d1deb02c5.jpg', 'f13748d04e3589c2.jpg', 'f13fb76a32b5be07.jpg', 'f14ccbf7e4c723bb.jpg', 'f152777ac6b9d3d3.jpg', 'f1554aabb2475540.jpg', 'f161158faad59821.jpg', 'f17f554666ca12ff.jpg', 'f218255cdf7e042d.jpg', 'f21f5243a3a03a5c.jpg', 'f284aab952c379c0.jpg', 'f2bb6c9e051cd674.jpg', 'f2c1497ba33c3589.jpg', 'f2dc5e9b6536a88e.jpg', 'f2ee0c899d84051d.jpg', 'f326c0e7f5a18d69.jpg', 'f32e862bb527e02b.jpg', 'f33f5aba0c140e31.jpg', 'f39c5eae13108c66.jpg', 'f3c5ec9257a244b4.jpg', 'f3cf0f201bcd9dd8.jpg', 'f3d6ee3a1a6be165.jpg', 'f3f2a7c21eae3dca.jpg', 'f416d903c6d85dd7.jpg', 'f4292b3af04a36e9.jpg', 'f42e74a589ea5a40.jpg', 'f467e17bbab8c38c.jpg', 'f474745a871da7ba.jpg', 'f4befaace327f3aa.jpg', 'f4d0744845c5a8a2.jpg', 'f4f3eac261c6a77a.jpg', 'f4f7753dc2bfb99b.jpg', 'f4fa9e366fdfafe7.jpg', 'f51a904283fc6f60.jpg', 'f531310cc3b49735.jpg', 'f548b18f9c2f1732.jpg', 'f5518cc24cad0e85.jpg', 'f56f416febae1730.jpg', 'f579bf00a38d8eba.jpg', 'f582033c5dfcf3b6.jpg', 'f58396ee9922d461.jpg', 'f5ac2d892aae4690.jpg', 'f5af0d45a1bfabeb.jpg', 'f5c3333e0b63b205.jpg', 'f6086302c6d317d2.jpg', 'f61c2eb39b97f682.jpg', 'f62f951c90fc7c94.jpg', 'f633cb1682c13eef.jpg', 'f63a7c994dfdbec4.jpg', 'f64468fee200de7f.jpg', 'f648747bdffbaea0.jpg', 'f652c12e67c66c6f.jpg', 'f6985a3a9f3907f9.jpg', 'f6aac8f80acb4da5.jpg', 'f6c815713e2df3ed.jpg', 'f744ae408a064b4c.jpg', 'f7468b650cf5b856.jpg', 'f74e037dd9b03f97.jpg', 'f75181d81619ced3.jpg', 'f76371522c7f066a.jpg', 'f7702f3e49fd6af1.jpg', 'f771a5dd38328084.jpg', 'f78724aeeeee4ba6.jpg', 'f79c631de960a742.jpg', 'f7cd80294252c2e5.jpg', 'f7f6b0add190a48f.jpg', 'f81951fa9908eec2.jpg', 'f8349caa92ef7304.jpg', 'f8411030a07ff0ef.jpg', 'f85a952fe68d9086.jpg', 'f86bf07a146f6d3d.jpg', 'f87a2f7db038dca5.jpg', 'f87fdd6c08a4fb1f.jpg', 'f8b8397d810afe6f.jpg', 'f8b923cc784b1a01.jpg', 'f8d1c4541dbb4e9b.jpg', 'f8e1fb97fa382075.jpg', 'f8ea5351245901e1.jpg', 'f915c7ed2f0da1f0.jpg', 'f938a5eacf2ac36e.jpg', 'f93a97c7503a74bb.jpg', 'f93d4698602a8eb2.jpg', 'f95c84c901644f43.jpg', 'f966981f06d63c75.jpg', 'f966a670b26cd62a.jpg', 'f97a8de79fdd120a.jpg', 'f9903346df187c20.jpg', 'f99a546a5539cfbf.jpg', 'f9b33baa8cffa5ba.jpg', 'f9b7f10291d92853.jpg', 'f9c3878f86c0e825.jpg', 'f9cb9b8539a0ef96.jpg', 'f9d470115a4876d2.jpg', 'f9d605a4aaa1e065.jpg', 'f9ed7ca844bb4d65.jpg', 'f9f4967b642cfa2c.jpg', 'fa04e014fc886cc7.jpg', 'fa65e00002944172.jpg', 'fa8429627ef6680e.jpg', 'fa8f5676d4bbee86.jpg', 'fb059068332067dd.jpg', 'fb0cae80fe2ac9fc.jpg', 'fb4aab42211eb331.jpg', 'fb9924486af9b168.jpg', 'fbcb7823bbfd6008.jpg', 'fbeb1ac3d9311231.jpg', 'fc04d15f80736458.jpg', 'fc23b6bc90ba1e39.jpg', 'fc2c5f6e5d40ce18.jpg', 'fc4e7d28b421674b.jpg', 'fc63e1023ccc9f3c.jpg', 'fc7c9c3aa7fbf1d8.jpg', 'fc872debee38eb7d.jpg', 'fca8ceca321331b7.jpg', 'fcefb15c88bee6d2.jpg', 'fcfecc4c06bd2c97.jpg', 'fcff04fc711b6b60.jpg', 'fcff9fb09fa61a63.jpg', 'fd05687092296548.jpg', 'fd1044f7f7a90194.jpg', 'fd1049bb59b78775.jpg', 'fd1927eb0768a55b.jpg', 'fd3841bc60862989.jpg', 'fd3ae6bc2ca395bc.jpg', 'fd4e92ed4f5c452e.jpg', 'fd5307c7a3700629.jpg', 'fd5763814d0dc8cd.jpg', 'fdaedda2dc4685a9.jpg', 'fdcd392ca7d3ba10.jpg', 'fdd0f05e0d323a99.jpg', 'fe36c0fd5f50924f.jpg', 'fe5352b29f25d6fe.jpg', 'fe86b7318956bf3f.jpg', 'fedb4785b031363f.jpg', 'ff2f82db799bf247.jpg', 'ff361d65c5d26fea.jpg', 'ff70a399a80c1c96.jpg', 'ffae8e4907100e60.jpg', 'ffb4b6f619fb60ea.jpg', 'ffc2c91dff8cf2c0.jpg', 'ffc4e330a5353a2a.jpg', 'ffc71fed753d90c1.jpg']\n",
      "신뢰도 0.9 이상인 데이터 개수: 2403\n"
     ]
    },
    {
     "name": "stderr",
     "output_type": "stream",
     "text": [
      "\n"
     ]
    }
   ],
   "source": [
    "# 테스트 셋 예측 및 신뢰도 높은 데이터 선별\n",
    "preds_list = []\n",
    "confidences_list = []\n",
    "image_filenames = []\n",
    "\n",
    "for images, _, filenames in tqdm(tst_loader):  # 파일 이름을 포함하여 3개 값 반환\n",
    "    images = images.to(device)\n",
    "    with torch.no_grad():\n",
    "        preds = best_model(images)\n",
    "        confidences = torch.softmax(preds, dim=1).max(dim=1)[0]\n",
    "\n",
    "    preds_list.extend(preds.argmax(dim=1).detach().cpu().numpy())\n",
    "    confidences_list.extend(confidences.detach().cpu().numpy())\n",
    "    image_filenames.extend(filenames)\n",
    "\n",
    "# 임계값 설정 (예: 0.9 이상)\n",
    "threshold = 0.9\n",
    "high_confidence_indices = [i for i, confidence in enumerate(confidences_list) if confidence > threshold]\n",
    "high_confidence_preds = [preds_list[i] for i in high_confidence_indices]\n",
    "high_confidence_filenames = [image_filenames[i] for i in high_confidence_indices]\n",
    "\n",
    "print(high_confidence_filenames)\n",
    "# 신뢰도 높은 데이터 개수 출력\n",
    "print(f\"신뢰도 {threshold} 이상인 데이터 개수: {len(high_confidence_indices)}\")\n"
   ]
  },
  {
   "cell_type": "code",
   "execution_count": null,
   "metadata": {},
   "outputs": [
    {
     "name": "stdout",
     "output_type": "stream",
     "text": [
      "신뢰도 0.9 이상인 데이터가 high_confidence_data_3.csv에 저장되었습니다.\n"
     ]
    }
   ],
   "source": [
    "# DataFrame 생성\n",
    "additional_df = pd.DataFrame({\n",
    "    'ID': high_confidence_filenames,\n",
    "    'target': high_confidence_preds\n",
    "})\n",
    "\n",
    "# 새로운 CSV 파일로 저장\n",
    "additional_df.to_csv('/root/data/high_confidence_data_3.csv', index=False)\n",
    "print(f\"신뢰도 0.9 이상인 데이터가 high_confidence_data_3.csv에 저장되었습니다.\")"
   ]
  },
  {
   "cell_type": "code",
   "execution_count": null,
   "metadata": {},
   "outputs": [
    {
     "name": "stdout",
     "output_type": "stream",
     "text": [
      "기존 train.csv와 high_confidence_data.csv가 병합된 데이터가 /root/data/combined_train_data_3.csv에 저장되었습니다.\n"
     ]
    }
   ],
   "source": [
    "# 기존 train.csv 파일 로드\n",
    "train_df = pd.read_csv('/root/data/train.csv')\n",
    "\n",
    "# high_confidence_data.csv 파일 로드\n",
    "high_confidence_df = pd.read_csv('/root/data/high_confidence_data_3.csv')\n",
    "\n",
    "# 두 데이터프레임 병합\n",
    "combined_df = pd.concat([train_df, high_confidence_df], ignore_index=True)\n",
    "\n",
    "# 새로운 CSV 파일로 저장\n",
    "combined_csv_path = '/root/data/combined_train_data_3.csv'\n",
    "combined_df.to_csv(combined_csv_path, index=False)\n",
    "print(f\"기존 train.csv와 high_confidence_data.csv가 병합된 데이터가 {combined_csv_path}에 저장되었습니다.\")"
   ]
  },
  {
   "cell_type": "markdown",
   "metadata": {},
   "source": [
    "# TEST"
   ]
  },
  {
   "cell_type": "code",
   "execution_count": null,
   "metadata": {},
   "outputs": [
    {
     "name": "stderr",
     "output_type": "stream",
     "text": [
      "100%|██████████| 99/99 [00:17<00:00,  5.59it/s]\n"
     ]
    }
   ],
   "source": [
    "preds_list = []\n",
    "\n",
    "best_model.eval()\n",
    "\n",
    "for image, _ in tqdm(tst_loader):\n",
    "    image = image.to(device)\n",
    "\n",
    "    with torch.no_grad():\n",
    "        preds = best_model(image)\n",
    "        \n",
    "    preds_list.extend(preds.argmax(dim=1).detach().cpu().numpy())\n",
    "\n",
    "pred_df = pd.DataFrame(tst_dataset.df, columns=['ID', 'target'])\n",
    "pred_df['target'] = preds_list\n",
    "pred_df.to_csv(f\"{RESULT_CSV_PATH}/base.csv\", index=False)"
   ]
  },
  {
   "cell_type": "code",
   "execution_count": null,
   "metadata": {},
   "outputs": [
    {
     "name": "stdout",
     "output_type": "stream",
     "text": [
      "0 epoch\n"
     ]
    },
    {
     "name": "stderr",
     "output_type": "stream",
     "text": [
      "Loss: 0.2069: 100%|██████████| 785/785 [03:28<00:00,  3.76it/s]\n",
      "Loss: 0.9199: 100%|██████████| 10/10 [00:01<00:00,  5.95it/s]\n"
     ]
    },
    {
     "name": "stdout",
     "output_type": "stream",
     "text": [
      "valid loss : 0.5735359519720078\n",
      "valid f1 : 0.8333208447772346\n",
      "1 epoch\n"
     ]
    },
    {
     "name": "stderr",
     "output_type": "stream",
     "text": [
      "Loss: 0.2701: 100%|██████████| 785/785 [03:27<00:00,  3.78it/s]\n",
      "Loss: 0.6984: 100%|██████████| 10/10 [00:01<00:00,  5.97it/s]\n"
     ]
    },
    {
     "name": "stdout",
     "output_type": "stream",
     "text": [
      "valid loss : 0.6423878818750381\n",
      "valid f1 : 0.8155217741065786\n",
      "2 epoch\n"
     ]
    },
    {
     "name": "stderr",
     "output_type": "stream",
     "text": [
      "Loss: 0.0139: 100%|██████████| 785/785 [03:27<00:00,  3.78it/s]\n",
      "Loss: 0.8898: 100%|██████████| 10/10 [00:01<00:00,  6.10it/s]\n"
     ]
    },
    {
     "name": "stdout",
     "output_type": "stream",
     "text": [
      "valid loss : 0.6554970443248749\n",
      "valid f1 : 0.8637783795203705\n",
      "3 epoch\n"
     ]
    },
    {
     "name": "stderr",
     "output_type": "stream",
     "text": [
      "Loss: 0.0390: 100%|██████████| 785/785 [03:27<00:00,  3.78it/s]\n",
      "Loss: 0.8553: 100%|██████████| 10/10 [00:01<00:00,  6.03it/s]\n"
     ]
    },
    {
     "name": "stdout",
     "output_type": "stream",
     "text": [
      "valid loss : 0.7843008458614349\n",
      "valid f1 : 0.8225184310480763\n",
      "4 epoch\n"
     ]
    },
    {
     "name": "stderr",
     "output_type": "stream",
     "text": [
      "Loss: 0.1209: 100%|██████████| 785/785 [03:27<00:00,  3.78it/s]\n",
      "Loss: 0.9264: 100%|██████████| 10/10 [00:01<00:00,  6.04it/s]\n"
     ]
    },
    {
     "name": "stdout",
     "output_type": "stream",
     "text": [
      "valid loss : 0.8146006405353546\n",
      "valid f1 : 0.8694208654723347\n",
      "5 epoch\n"
     ]
    },
    {
     "name": "stderr",
     "output_type": "stream",
     "text": [
      "Loss: 0.0076: 100%|██████████| 785/785 [03:27<00:00,  3.78it/s]\n",
      "Loss: 1.3031: 100%|██████████| 10/10 [00:01<00:00,  6.01it/s]\n"
     ]
    },
    {
     "name": "stdout",
     "output_type": "stream",
     "text": [
      "valid loss : 0.9452517539262771\n",
      "valid f1 : 0.846523673530172\n",
      "Early stopping at epoch 5\n"
     ]
    },
    {
     "name": "stderr",
     "output_type": "stream",
     "text": [
      "100%|██████████| 99/99 [00:18<00:00,  5.46it/s]\n"
     ]
    },
    {
     "name": "stdout",
     "output_type": "stream",
     "text": [
      "신뢰도 0.9 이상인 데이터 개수: 2784\n"
     ]
    }
   ],
   "source": [
    "import numpy as np\n",
    "import pandas as pd\n",
    "from tqdm import tqdm\n",
    "import torch\n",
    "from torch.optim import Adam\n",
    "import timm\n",
    "from sklearn.metrics import accuracy_score, f1_score\n",
    "from torch.utils.data import DataLoader, Dataset, ConcatDataset\n",
    "\n",
    "# 모델 생성 및 학습 설정\n",
    "device = torch.device(\"cuda\" if torch.cuda.is_available() else \"cpu\")\n",
    "model = timm.create_model('efficientnet_b0', pretrained=True, num_classes=17).to(device)\n",
    "loss_fn = nn.CrossEntropyLoss()\n",
    "optimizer = Adam(model.parameters(), lr=LR)\n",
    "\n",
    "# 한 epoch 학습 함수\n",
    "def train_one_epoch(loader, model, optimizer, loss_fn, device, epoch):\n",
    "    model.train()\n",
    "    train_loss = 0\n",
    "    preds_list = []\n",
    "    targets_list = []\n",
    "\n",
    "    pbar = tqdm(loader)\n",
    "    for step, (image, targets) in enumerate(pbar):\n",
    "        image = image.to(device)\n",
    "        targets = targets.to(device)\n",
    "\n",
    "        model.zero_grad(set_to_none=True)\n",
    "\n",
    "        preds = model(image)\n",
    "        loss = loss_fn(preds, targets)\n",
    "        loss.backward()\n",
    "        optimizer.step()\n",
    "\n",
    "        train_loss += loss.item()\n",
    "        \n",
    "        preds_list.extend(preds.argmax(dim=1).detach().cpu().numpy())\n",
    "        targets_list.extend(targets.detach().cpu().numpy())\n",
    "\n",
    "        pbar.set_description(f\"Loss: {loss.item():.4f}\")\n",
    "\n",
    "    train_loss /= len(loader)\n",
    "    train_acc = accuracy_score(targets_list, preds_list)\n",
    "    train_f1 = f1_score(targets_list, preds_list, average='macro')\n",
    "\n",
    "    ret = {\n",
    "        \"model\": model,\n",
    "        \"train_epoch\": epoch,\n",
    "        \"train_loss\": train_loss,\n",
    "        \"train_acc\": train_acc,\n",
    "        \"train_f1\": train_f1\n",
    "    }\n",
    "\n",
    "    return ret\n",
    "\n",
    "# 한 epoch 검증 함수\n",
    "def valid_one_epoch(loader, model, loss_fn, device, epoch):\n",
    "    model.eval()\n",
    "    valid_loss = 0\n",
    "\n",
    "    preds_list = []\n",
    "    targets_list = []\n",
    "\n",
    "    with torch.no_grad():\n",
    "        pbar = tqdm(loader)\n",
    "        for step, (image, targets) in enumerate(pbar):\n",
    "            image = image.to(device)\n",
    "            targets = targets.to(device)\n",
    "\n",
    "            preds = model(image)\n",
    "            loss = loss_fn(preds, targets)\n",
    "       \n",
    "            valid_loss += loss.item()\n",
    "        \n",
    "            preds_list.extend(preds.argmax(dim=1).detach().cpu().numpy())\n",
    "            targets_list.extend(targets.detach().cpu().numpy())\n",
    "\n",
    "            pbar.set_description(f\"Loss: {loss.item():.4f}\")\n",
    "\n",
    "    valid_loss /= len(loader)\n",
    "    valid_acc = accuracy_score(targets_list, preds_list)\n",
    "    valid_f1 = f1_score(targets_list, preds_list, average='macro')\n",
    "\n",
    "    ret = {\n",
    "        \"epoch\": epoch,\n",
    "        \"valid_loss\": valid_loss,\n",
    "        \"valid_acc\": valid_acc,\n",
    "        \"valid_f1\": valid_f1\n",
    "    }\n",
    "\n",
    "    return ret\n",
    "\n",
    "# 학습 및 조기 종료 설정\n",
    "f1_scores = []\n",
    "valid_losses = []\n",
    "trained_models = []\n",
    "patient_counter = 0\n",
    "best_valid_loss = float('inf')\n",
    "\n",
    "for epoch in range(EPOCHS):\n",
    "    print(f\"{epoch} epoch\")\n",
    "    trn_ret = train_one_epoch(trn_loader, model, optimizer, loss_fn, device, epoch)\n",
    "    val_ret = valid_one_epoch(val_loader, model, loss_fn, device, epoch)\n",
    "\n",
    "    f1_scores.append(val_ret['valid_f1'])\n",
    "    valid_losses.append(val_ret['valid_loss'])\n",
    "    trained_models.append(trn_ret['model'])\n",
    "\n",
    "    print(f\"valid loss : {val_ret['valid_loss']}\")\n",
    "    print(f\"valid f1 : {val_ret['valid_f1']}\")\n",
    "\n",
    "    # 성능 개선 됨\n",
    "    if val_ret['valid_loss'] < best_valid_loss - min_delta:\n",
    "        best_valid_loss = val_ret['valid_loss']\n",
    "        patience_counter = 0  \n",
    "    # 성능 개선 되지 않음\n",
    "    else:\n",
    "        patience_counter += 1  \n",
    "\n",
    "    # 성능 개선이 patience 만큼 안되면 학습 중단\n",
    "    if patience_counter >= patience:\n",
    "        print(f\"Early stopping at epoch {epoch}\")\n",
    "        break\n",
    "\n",
    "best_model_idx = np.argmin(np.array(valid_losses))\n",
    "best_model = trained_models[best_model_idx]\n",
    "\n",
    "# 테스트 셋 예측 및 신뢰도 높은 데이터 선별\n",
    "preds_list = []\n",
    "confidences_list = []\n",
    "image_filenames = []\n",
    "\n",
    "best_model.eval()\n",
    "\n",
    "for image, filename in tqdm(tst_loader):\n",
    "    image = image.to(device)\n",
    "    image_filenames.extend(filename)\n",
    "\n",
    "    with torch.no_grad():\n",
    "        preds = best_model(image)\n",
    "        confidences = torch.softmax(preds, dim=1).max(dim=1)[0]\n",
    "\n",
    "    preds_list.extend(preds.argmax(dim=1).detach().cpu().numpy())\n",
    "    confidences_list.extend(confidences.detach().cpu().numpy())\n",
    "\n",
    "# 임계값 설정 (예: 0.9 이상)\n",
    "threshold = 0.9\n",
    "high_confidence_indices = [i for i, confidence in enumerate(confidences_list) if confidence > threshold]\n",
    "high_confidence_preds = [preds_list[i] for i in high_confidence_indices]\n",
    "high_confidence_images = [tst_loader.dataset[i][0] for i in high_confidence_indices]\n",
    "high_confidence_filenames = [image_filenames[i] for i in high_confidence_indices]\n",
    "\n",
    "# 신뢰도 높은 데이터 개수 출력\n",
    "print(f\"신뢰도 {threshold} 이상인 데이터 개수: {len(high_confidence_indices)}\")\n",
    "\n"
   ]
  },
  {
   "cell_type": "code",
   "execution_count": null,
   "metadata": {},
   "outputs": [
    {
     "ename": "NameError",
     "evalue": "name 'Dataset' is not defined",
     "output_type": "error",
     "traceback": [
      "\u001b[0;31m---------------------------------------------------------------------------\u001b[0m",
      "\u001b[0;31mNameError\u001b[0m                                 Traceback (most recent call last)",
      "Cell \u001b[0;32mIn[1], line 2\u001b[0m\n\u001b[1;32m      1\u001b[0m \u001b[38;5;66;03m# 기존 학습 데이터셋\u001b[39;00m\n\u001b[0;32m----> 2\u001b[0m \u001b[38;5;28;01mclass\u001b[39;00m \u001b[38;5;21;01mCustomDataset\u001b[39;00m(\u001b[43mDataset\u001b[49m):\n\u001b[1;32m      3\u001b[0m     \u001b[38;5;28;01mdef\u001b[39;00m \u001b[38;5;21m__init__\u001b[39m(\u001b[38;5;28mself\u001b[39m, images, labels):\n\u001b[1;32m      4\u001b[0m         \u001b[38;5;28mself\u001b[39m\u001b[38;5;241m.\u001b[39mimages \u001b[38;5;241m=\u001b[39m images\n",
      "\u001b[0;31mNameError\u001b[0m: name 'Dataset' is not defined"
     ]
    }
   ],
   "source": [
    "# 기존 학습 데이터셋\n",
    "class CustomDataset(Dataset):\n",
    "    def __init__(self, images, labels):\n",
    "        self.images = images\n",
    "        self.labels = labels\n",
    "\n",
    "    def __len__(self):\n",
    "        return len(self.images)\n",
    "\n",
    "    def __getitem__(self, idx):\n",
    "        image = self.images[idx]\n",
    "        label = self.labels[idx]\n",
    "        return image, label\n",
    "\n",
    "# 기존 학습 데이터 로더에서 데이터셋 추출\n",
    "train_images = [item[0] for item in trn_loader.dataset]\n",
    "train_labels = [item[1] for item in trn_loader.dataset]\n",
    "\n",
    "\n"
   ]
  },
  {
   "cell_type": "code",
   "execution_count": null,
   "metadata": {},
   "outputs": [],
   "source": [
    "# 새로운 학습 데이터 로더 생성\n",
    "new_trn_loader = DataLoader(new_train_dataset, batch_size=trn_loader.batch_size, shuffle=True)\n",
    "\n",
    "print(f\"새로운 학습 데이터셋 크기: {len(new_train_dataset)}\")\n",
    "\n",
    "# 합친 데이터셋을 새로운 파일로 저장\n",
    "combined_dataset_path = '/root/combined_dataset.csv'\n",
    "\n",
    "# 기존 train 데이터 로드\n",
    "train_df = pd.read_csv('train.csv')\n",
    "\n",
    "# 추가할 데이터프레임 생성\n",
    "additional_df = pd.DataFrame({\n",
    "    'ID': high_confidence_filenames,\n",
    "    'target': high_confidence_preds\n",
    "})\n",
    "\n",
    "# 기존 train 데이터와 추가 데이터 병합\n",
    "combined_df = pd.concat([train_df, additional_df], ignore_index=True)\n",
    "\n",
    "# 새로운 CSV 파일로 저장\n",
    "combined_df.to_csv(combined_dataset_path, index=False)\n",
    "print(f\"합친 데이터셋이 {combined_dataset_path}에 저장되었습니다.\")\n"
   ]
  },
  {
   "cell_type": "code",
   "execution_count": null,
   "metadata": {},
   "outputs": [],
   "source": [
    "# 추가된 데이터로 모델 다시 학습\n",
    "for epoch in range(EPOCHS):\n",
    "    print(f\"{epoch} epoch (with additional data)\")\n",
    "    trn_ret = train_one_epoch(new_trn_loader, model, optimizer, loss_fn, device, epoch)\n",
    "    val_ret = valid_one_epoch(val_loader, model, loss_fn, device, epoch)\n",
    "\n",
    "    f1_scores.append(val_ret['valid_f1'])\n",
    "    valid_losses.append(val_ret['valid_loss'])\n",
    "    trained_models.append(trn_ret['model'])\n",
    "\n",
    "    print(f\"valid loss : {val_ret['valid_loss']}\")\n",
    "    print(f\"valid f1 : {val_ret['valid_f1']}\")\n",
    "\n",
    "    # 성능 개선 됨\n",
    "    if val_ret['valid_loss'] < best_valid_loss - min_delta:\n",
    "        best_valid_loss = val_ret['valid_loss']\n",
    "        patience_counter = 0  \n",
    "    # 성능 개선 되지 않음\n",
    "    else:\n",
    "        patience_counter += 1  \n",
    "\n",
    "    # 성능 개선이 patience 만큼 안되면 학습 중단\n",
    "    if patience_counter >= patience:\n",
    "        print(f\"Early stopping at epoch {epoch}\")\n",
    "        break\n",
    "\n",
    "best_model_idx = np.argmin(np.array(valid_losses))\n",
    "best_model = trained_models[best_model_idx]"
   ]
  },
  {
   "cell_type": "code",
   "execution_count": null,
   "metadata": {},
   "outputs": [],
   "source": [
    "# 최종 예측 결과 저장\n",
    "preds_list = []\n",
    "\n",
    "best_model.eval()\n",
    "\n",
    "for image, _ in tqdm(tst_loader):\n",
    "    image = image.to(device)\n",
    "\n",
    "    with torch.no_grad():\n",
    "        preds = best_model(image)\n",
    "        \n",
    "    preds_list.extend(preds.argmax(dim=1).detach().cpu().numpy())\n",
    "\n",
    "pred_df = pd.DataFrame(tst_dataset.df, columns=['ID', 'target'])\n",
    "pred_df['target'] = preds_list\n",
    "pred_df.to_csv(f\"{RESULT_CSV_PATH}/base.csv\", index=False)\n"
   ]
  },
  {
   "cell_type": "markdown",
   "metadata": {},
   "source": [
    "# 결과 분석"
   ]
  },
  {
   "cell_type": "code",
   "execution_count": null,
   "metadata": {},
   "outputs": [
    {
     "name": "stderr",
     "output_type": "stream",
     "text": [
      "100%|██████████| 10/10 [00:01<00:00,  5.90it/s]\n"
     ]
    },
    {
     "ename": "ValueError",
     "evalue": "Classification metrics can't handle a mix of unknown and multiclass targets",
     "output_type": "error",
     "traceback": [
      "\u001b[0;31m---------------------------------------------------------------------------\u001b[0m",
      "\u001b[0;31mValueError\u001b[0m                                Traceback (most recent call last)",
      "Cell \u001b[0;32mIn[26], line 24\u001b[0m\n\u001b[1;32m     21\u001b[0m pred_labels \u001b[38;5;241m=\u001b[39m np\u001b[38;5;241m.\u001b[39marray(valid_preds_list)\n\u001b[1;32m     23\u001b[0m \u001b[38;5;66;03m# Confusion Matrix 생성\u001b[39;00m\n\u001b[0;32m---> 24\u001b[0m cm \u001b[38;5;241m=\u001b[39m \u001b[43mconfusion_matrix\u001b[49m\u001b[43m(\u001b[49m\u001b[43mtrue_labels\u001b[49m\u001b[43m,\u001b[49m\u001b[43m \u001b[49m\u001b[43mpred_labels\u001b[49m\u001b[43m)\u001b[49m\n\u001b[1;32m     26\u001b[0m \u001b[38;5;66;03m# 클래스의 최대값 확인 (히트맵의 크기를 결정하기 위해)\u001b[39;00m\n\u001b[1;32m     27\u001b[0m n_classes \u001b[38;5;241m=\u001b[39m \u001b[38;5;28mmax\u001b[39m(cm\u001b[38;5;241m.\u001b[39mshape)\n",
      "File \u001b[0;32m/opt/conda/lib/python3.10/site-packages/sklearn/utils/_param_validation.py:214\u001b[0m, in \u001b[0;36mvalidate_params.<locals>.decorator.<locals>.wrapper\u001b[0;34m(*args, **kwargs)\u001b[0m\n\u001b[1;32m    208\u001b[0m \u001b[38;5;28;01mtry\u001b[39;00m:\n\u001b[1;32m    209\u001b[0m     \u001b[38;5;28;01mwith\u001b[39;00m config_context(\n\u001b[1;32m    210\u001b[0m         skip_parameter_validation\u001b[38;5;241m=\u001b[39m(\n\u001b[1;32m    211\u001b[0m             prefer_skip_nested_validation \u001b[38;5;129;01mor\u001b[39;00m global_skip_validation\n\u001b[1;32m    212\u001b[0m         )\n\u001b[1;32m    213\u001b[0m     ):\n\u001b[0;32m--> 214\u001b[0m         \u001b[38;5;28;01mreturn\u001b[39;00m \u001b[43mfunc\u001b[49m\u001b[43m(\u001b[49m\u001b[38;5;241;43m*\u001b[39;49m\u001b[43margs\u001b[49m\u001b[43m,\u001b[49m\u001b[43m \u001b[49m\u001b[38;5;241;43m*\u001b[39;49m\u001b[38;5;241;43m*\u001b[39;49m\u001b[43mkwargs\u001b[49m\u001b[43m)\u001b[49m\n\u001b[1;32m    215\u001b[0m \u001b[38;5;28;01mexcept\u001b[39;00m InvalidParameterError \u001b[38;5;28;01mas\u001b[39;00m e:\n\u001b[1;32m    216\u001b[0m     \u001b[38;5;66;03m# When the function is just a wrapper around an estimator, we allow\u001b[39;00m\n\u001b[1;32m    217\u001b[0m     \u001b[38;5;66;03m# the function to delegate validation to the estimator, but we replace\u001b[39;00m\n\u001b[1;32m    218\u001b[0m     \u001b[38;5;66;03m# the name of the estimator by the name of the function in the error\u001b[39;00m\n\u001b[1;32m    219\u001b[0m     \u001b[38;5;66;03m# message to avoid confusion.\u001b[39;00m\n\u001b[1;32m    220\u001b[0m     msg \u001b[38;5;241m=\u001b[39m re\u001b[38;5;241m.\u001b[39msub(\n\u001b[1;32m    221\u001b[0m         \u001b[38;5;124mr\u001b[39m\u001b[38;5;124m\"\u001b[39m\u001b[38;5;124mparameter of \u001b[39m\u001b[38;5;124m\\\u001b[39m\u001b[38;5;124mw+ must be\u001b[39m\u001b[38;5;124m\"\u001b[39m,\n\u001b[1;32m    222\u001b[0m         \u001b[38;5;124mf\u001b[39m\u001b[38;5;124m\"\u001b[39m\u001b[38;5;124mparameter of \u001b[39m\u001b[38;5;132;01m{\u001b[39;00mfunc\u001b[38;5;241m.\u001b[39m\u001b[38;5;18m__qualname__\u001b[39m\u001b[38;5;132;01m}\u001b[39;00m\u001b[38;5;124m must be\u001b[39m\u001b[38;5;124m\"\u001b[39m,\n\u001b[1;32m    223\u001b[0m         \u001b[38;5;28mstr\u001b[39m(e),\n\u001b[1;32m    224\u001b[0m     )\n",
      "File \u001b[0;32m/opt/conda/lib/python3.10/site-packages/sklearn/metrics/_classification.py:326\u001b[0m, in \u001b[0;36mconfusion_matrix\u001b[0;34m(y_true, y_pred, labels, sample_weight, normalize)\u001b[0m\n\u001b[1;32m    231\u001b[0m \u001b[38;5;129m@validate_params\u001b[39m(\n\u001b[1;32m    232\u001b[0m     {\n\u001b[1;32m    233\u001b[0m         \u001b[38;5;124m\"\u001b[39m\u001b[38;5;124my_true\u001b[39m\u001b[38;5;124m\"\u001b[39m: [\u001b[38;5;124m\"\u001b[39m\u001b[38;5;124marray-like\u001b[39m\u001b[38;5;124m\"\u001b[39m],\n\u001b[0;32m   (...)\u001b[0m\n\u001b[1;32m    242\u001b[0m     y_true, y_pred, \u001b[38;5;241m*\u001b[39m, labels\u001b[38;5;241m=\u001b[39m\u001b[38;5;28;01mNone\u001b[39;00m, sample_weight\u001b[38;5;241m=\u001b[39m\u001b[38;5;28;01mNone\u001b[39;00m, normalize\u001b[38;5;241m=\u001b[39m\u001b[38;5;28;01mNone\u001b[39;00m\n\u001b[1;32m    243\u001b[0m ):\n\u001b[1;32m    244\u001b[0m \u001b[38;5;250m    \u001b[39m\u001b[38;5;124;03m\"\"\"Compute confusion matrix to evaluate the accuracy of a classification.\u001b[39;00m\n\u001b[1;32m    245\u001b[0m \n\u001b[1;32m    246\u001b[0m \u001b[38;5;124;03m    By definition a confusion matrix :math:`C` is such that :math:`C_{i, j}`\u001b[39;00m\n\u001b[0;32m   (...)\u001b[0m\n\u001b[1;32m    324\u001b[0m \u001b[38;5;124;03m    (0, 2, 1, 1)\u001b[39;00m\n\u001b[1;32m    325\u001b[0m \u001b[38;5;124;03m    \"\"\"\u001b[39;00m\n\u001b[0;32m--> 326\u001b[0m     y_type, y_true, y_pred \u001b[38;5;241m=\u001b[39m \u001b[43m_check_targets\u001b[49m\u001b[43m(\u001b[49m\u001b[43my_true\u001b[49m\u001b[43m,\u001b[49m\u001b[43m \u001b[49m\u001b[43my_pred\u001b[49m\u001b[43m)\u001b[49m\n\u001b[1;32m    327\u001b[0m     \u001b[38;5;28;01mif\u001b[39;00m y_type \u001b[38;5;129;01mnot\u001b[39;00m \u001b[38;5;129;01min\u001b[39;00m (\u001b[38;5;124m\"\u001b[39m\u001b[38;5;124mbinary\u001b[39m\u001b[38;5;124m\"\u001b[39m, \u001b[38;5;124m\"\u001b[39m\u001b[38;5;124mmulticlass\u001b[39m\u001b[38;5;124m\"\u001b[39m):\n\u001b[1;32m    328\u001b[0m         \u001b[38;5;28;01mraise\u001b[39;00m \u001b[38;5;167;01mValueError\u001b[39;00m(\u001b[38;5;124m\"\u001b[39m\u001b[38;5;132;01m%s\u001b[39;00m\u001b[38;5;124m is not supported\u001b[39m\u001b[38;5;124m\"\u001b[39m \u001b[38;5;241m%\u001b[39m y_type)\n",
      "File \u001b[0;32m/opt/conda/lib/python3.10/site-packages/sklearn/metrics/_classification.py:93\u001b[0m, in \u001b[0;36m_check_targets\u001b[0;34m(y_true, y_pred)\u001b[0m\n\u001b[1;32m     90\u001b[0m     y_type \u001b[38;5;241m=\u001b[39m {\u001b[38;5;124m\"\u001b[39m\u001b[38;5;124mmulticlass\u001b[39m\u001b[38;5;124m\"\u001b[39m}\n\u001b[1;32m     92\u001b[0m \u001b[38;5;28;01mif\u001b[39;00m \u001b[38;5;28mlen\u001b[39m(y_type) \u001b[38;5;241m>\u001b[39m \u001b[38;5;241m1\u001b[39m:\n\u001b[0;32m---> 93\u001b[0m     \u001b[38;5;28;01mraise\u001b[39;00m \u001b[38;5;167;01mValueError\u001b[39;00m(\n\u001b[1;32m     94\u001b[0m         \u001b[38;5;124m\"\u001b[39m\u001b[38;5;124mClassification metrics can\u001b[39m\u001b[38;5;124m'\u001b[39m\u001b[38;5;124mt handle a mix of \u001b[39m\u001b[38;5;132;01m{0}\u001b[39;00m\u001b[38;5;124m and \u001b[39m\u001b[38;5;132;01m{1}\u001b[39;00m\u001b[38;5;124m targets\u001b[39m\u001b[38;5;124m\"\u001b[39m\u001b[38;5;241m.\u001b[39mformat(\n\u001b[1;32m     95\u001b[0m             type_true, type_pred\n\u001b[1;32m     96\u001b[0m         )\n\u001b[1;32m     97\u001b[0m     )\n\u001b[1;32m     99\u001b[0m \u001b[38;5;66;03m# We can't have more than one value on y_type => The set is no more needed\u001b[39;00m\n\u001b[1;32m    100\u001b[0m y_type \u001b[38;5;241m=\u001b[39m y_type\u001b[38;5;241m.\u001b[39mpop()\n",
      "\u001b[0;31mValueError\u001b[0m: Classification metrics can't handle a mix of unknown and multiclass targets"
     ]
    }
   ],
   "source": [
    "import matplotlib.pyplot as plt\n",
    "import seaborn as sns\n",
    "import numpy as np\n",
    "from sklearn.metrics import confusion_matrix\n",
    "\n",
    "# 예측 결과 생성\n",
    "valid_preds_list = []\n",
    "\n",
    "best_model.eval()\n",
    "\n",
    "for image, _ in tqdm(val_loader):\n",
    "    image = image.to(device)\n",
    "\n",
    "    with torch.no_grad():\n",
    "        preds = best_model(image)\n",
    "        \n",
    "    valid_preds_list.extend(preds.argmax(dim=1).detach().cpu().numpy())\n",
    "\n",
    "# 실제 레이블과 예측 레이블 준비\n",
    "true_labels = val_dataset.get_labels()\n",
    "pred_labels = np.array(valid_preds_list)\n",
    "\n",
    "# Confusion Matrix 생성\n",
    "cm = confusion_matrix(true_labels, pred_labels)\n",
    "\n",
    "# 클래스의 최대값 확인 (히트맵의 크기를 결정하기 위해)\n",
    "n_classes = max(cm.shape)\n",
    "\n",
    "# 히트맵 생성\n",
    "plt.figure(figsize=(12, 10))\n",
    "sns.heatmap(cm, annot=True, fmt='d', cmap='Blues', \n",
    "            xticklabels=range(n_classes), \n",
    "            yticklabels=range(n_classes))\n",
    "\n",
    "plt.title('Confusion Matrix')\n",
    "plt.xlabel('Predicted')\n",
    "plt.ylabel('True')\n",
    "\n",
    "# x축과 y축의 눈금을 1단위로 설정\n",
    "plt.xticks(np.arange(0, n_classes, 1))\n",
    "plt.yticks(np.arange(0, n_classes, 1))\n",
    "\n",
    "plt.tight_layout()\n",
    "plt.show()\n"
   ]
  },
  {
   "cell_type": "code",
   "execution_count": null,
   "metadata": {},
   "outputs": [],
   "source": []
  }
 ],
 "metadata": {
  "kernelspec": {
   "display_name": "base",
   "language": "python",
   "name": "python3"
  },
  "language_info": {
   "codemirror_mode": {
    "name": "ipython",
    "version": 3
   },
   "file_extension": ".py",
   "mimetype": "text/x-python",
   "name": "python",
   "nbconvert_exporter": "python",
   "pygments_lexer": "ipython3",
   "version": "3.10.13"
  }
 },
 "nbformat": 4,
 "nbformat_minor": 2
}
