{
 "cells": [
  {
   "cell_type": "code",
   "execution_count": 1,
   "metadata": {},
   "outputs": [
    {
     "name": "stderr",
     "output_type": "stream",
     "text": [
      "INFO:albumentations.check_version:A new version of Albumentations is available: 1.4.13 (you have 1.4.12). Upgrade using: pip install -U albumentations. To disable automatic update checks, set the environment variable NO_ALBUMENTATIONS_UPDATE to 1.\n"
     ]
    }
   ],
   "source": [
    "import os\n",
    "import time\n",
    "\n",
    "import timm\n",
    "import torch\n",
    "import albumentations as A\n",
    "import pandas as pd\n",
    "import numpy as np\n",
    "import torch.nn as nn\n",
    "\n",
    "from albumentations.pytorch import ToTensorV2\n",
    "from torch.optim import Adam\n",
    "from torchvision import transforms\n",
    "from torch.utils.data import Dataset, DataLoader\n",
    "from torchvision.datasets import ImageFolder\n",
    "from torch.optim.lr_scheduler import CosineAnnealingLR\n",
    "\n",
    "from PIL import Image\n",
    "from tqdm import tqdm\n",
    "from sklearn.metrics import accuracy_score, f1_score\n",
    "\n",
    "import matplotlib.pyplot as plt\n",
    "import seaborn as sns\n",
    "\n",
    "import wandb"
   ]
  },
  {
   "cell_type": "code",
   "execution_count": 4,
   "metadata": {},
   "outputs": [],
   "source": [
    "# device\n",
    "device = torch.device('cuda' if torch.cuda.is_available() else 'cpu')\n",
    "\n",
    "# PATH\n",
    "TRAIN_AUG_CSV_PATH = '/upstage-cv-classification-cv2/data/train_aug_gaussian.csv'\n",
    "SEMI_SUPERVISED_CSV_PATH = '/upstage-cv-classification-cv2/data/SemiSupervised_train.csv'\n",
    "TRAIN_AUG_IMAGE_PATH = '/upstage-cv-classification-cv2/data/train_aug_gaussian'\n",
    "\n",
    "VALID_CSV_PATH = '/upstage-cv-classification-cv2/data/valid.csv'\n",
    "VALID_IMAGE_PATH = '/upstage-cv-classification-cv2/data/valid'\n",
    "\n",
    "TEST_CSV_PATH = '/upstage-cv-classification-cv2/data/sample_submission.csv'\n",
    "TEST_IMAGE_PATH = '/upstage-cv-classification-cv2/data/test'\n",
    "\n",
    "RESULT_CSV_PATH = '/upstage-cv-classification-cv2'\n",
    "\n",
    "WANDB_PROJECT_NAME = 'cv_competition_effi04'"
   ]
  },
  {
   "cell_type": "markdown",
   "metadata": {},
   "source": [
    "# HyperParameter"
   ]
  },
  {
   "cell_type": "code",
   "execution_count": 3,
   "metadata": {},
   "outputs": [],
   "source": [
    "# training config\n",
    "img_size = 380\n",
    "LR = 1e-3\n",
    "EPOCHS = 100\n",
    "BATCH_SIZE = 32\n",
    "num_workers = 0\n",
    "\n",
    "patience = 5\n",
    "min_delta = 0.001 # 성능 개선의 최소 변화량"
   ]
  },
  {
   "cell_type": "markdown",
   "metadata": {},
   "source": [
    "# 1. DATA LOAD"
   ]
  },
  {
   "cell_type": "code",
   "execution_count": 10,
   "metadata": {},
   "outputs": [
    {
     "name": "stdout",
     "output_type": "stream",
     "text": [
      "0\n"
     ]
    }
   ],
   "source": [
    "semi_train_df = pd.read_csv(SEMI_SUPERVISED_CSV_PATH)\n",
    "train_agu_df = pd.read_csv(TRAIN_AUG_CSV_PATH)\n",
    "train_df = pd.read_csv('/upstage-cv-classification-cv2/data/train.csv')\n",
    "\n",
    "only_test = semi_train_df[~semi_train_df['ID'].isin(train_df[\"ID\"])]\n",
    "\n",
    "print(len(only_test[only_test['ID'].isin(train_df['ID'])]))\n"
   ]
  },
  {
   "cell_type": "code",
   "execution_count": 5,
   "metadata": {},
   "outputs": [
    {
     "name": "stdout",
     "output_type": "stream",
     "text": [
      "37680 3140\n"
     ]
    }
   ],
   "source": [
    "# test image 변환\n",
    "data_transform = A.Compose([\n",
    "    A.Resize(height = img_size, width = img_size),\n",
    "    A.Normalize(mean=[0.485, 0.456, 0.406], std = [0.229, 0.224, 0.225]),\n",
    "    ToTensorV2()\n",
    "])\n",
    "\n",
    "class ImageDataset(Dataset):\n",
    "    def __init__(self, csv, path, transform=None):\n",
    "        self.df = pd.read_csv(csv).values\n",
    "        self.path = path\n",
    "        self.transform = transform\n",
    "\n",
    "    def __len__(self):\n",
    "        return len(self.df)\n",
    "    \n",
    "    def __getitem__(self, idx):\n",
    "        name, target = self.df[idx]\n",
    "        img = np.array(Image.open(os.path.join(self.path, name)))\n",
    "        if self.transform:\n",
    "            img = self.transform(image = img)['image']\n",
    "    \n",
    "        return img, target\n",
    "\n",
    "    def get_labels(self):\n",
    "        return self.df[:, 1] \n",
    "\n",
    "trn_dataset = ImageDataset(\n",
    "    TRAIN_AUG_CSV_PATH,\n",
    "    TRAIN_AUG_IMAGE_PATH,\n",
    "    transform = data_transform\n",
    ")\n",
    "\n",
    "val_dataset = ImageDataset(\n",
    "    VALID_CSV_PATH,\n",
    "    VALID_IMAGE_PATH,\n",
    "    transform = data_transform\n",
    ")\n",
    "\n",
    "tst_dataset = ImageDataset(\n",
    "    TEST_CSV_PATH,\n",
    "    TEST_IMAGE_PATH,\n",
    "    transform = data_transform\n",
    ")\n",
    "\n",
    "labels = trn_dataset.get_labels()\n",
    "labels = labels.astype(int)\n",
    "\n",
    "# DataLoader\n",
    "trn_loader = DataLoader(\n",
    "    trn_dataset,\n",
    "    batch_size = BATCH_SIZE,\n",
    "    shuffle = True,\n",
    "    num_workers = num_workers,\n",
    "    pin_memory = True,\n",
    "    drop_last = False\n",
    ")\n",
    "\n",
    "val_loader = DataLoader(\n",
    "    val_dataset,\n",
    "    batch_size = BATCH_SIZE,\n",
    "    num_workers = 0,\n",
    "    pin_memory = True,\n",
    "    drop_last = False\n",
    ")\n",
    "\n",
    "tst_loader = DataLoader(\n",
    "    tst_dataset,\n",
    "    batch_size = BATCH_SIZE,\n",
    "    shuffle = False,\n",
    "    num_workers = 0,\n",
    "    pin_memory = True\n",
    ")\n",
    "\n",
    "print(len(trn_dataset), len(tst_dataset))"
   ]
  },
  {
   "cell_type": "markdown",
   "metadata": {},
   "source": [
    "# 2. Model Train"
   ]
  },
  {
   "cell_type": "code",
   "execution_count": 6,
   "metadata": {},
   "outputs": [],
   "source": [
    "torch.cuda.empty_cache()"
   ]
  },
  {
   "cell_type": "code",
   "execution_count": 7,
   "metadata": {},
   "outputs": [
    {
     "name": "stderr",
     "output_type": "stream",
     "text": [
      "INFO:timm.models._builder:Loading pretrained weights from Hugging Face hub (timm/efficientnet_b4.ra2_in1k)\n",
      "INFO:timm.models._hub:[timm/efficientnet_b4.ra2_in1k] Safe alternative available for 'pytorch_model.bin' (as 'model.safetensors'). Loading weights using safetensors.\n",
      "INFO:timm.models._builder:Missing keys (classifier.weight, classifier.bias) discovered while loading pretrained weights. This is expected if model is being adapted.\n"
     ]
    }
   ],
   "source": [
    "# model\n",
    "model = timm.create_model('efficientnet_b4',\n",
    "                        pretrained=True,\n",
    "                        num_classes = 17).to(device)\n",
    "\n",
    "loss_fn = nn.CrossEntropyLoss()\n",
    "optimizer = Adam(model.parameters(), lr = LR)\n"
   ]
  },
  {
   "cell_type": "code",
   "execution_count": 8,
   "metadata": {},
   "outputs": [],
   "source": [
    "def valid_one_epoch(loader, model, loss_fn, device, epoch):\n",
    "    model.eval()\n",
    "    valid_loss = 0\n",
    "\n",
    "    preds_list =[]\n",
    "    targets_list = []\n",
    "\n",
    "    with torch.no_grad():\n",
    "        pbar = tqdm(loader)\n",
    "        for step, (image, targets) in enumerate(pbar):\n",
    "            image = image.to(device)\n",
    "            targets = targets.to(device)\n",
    "\n",
    "            preds = model(image)\n",
    "            loss = loss_fn(preds, targets)\n",
    "       \n",
    "            valid_loss += loss.item()\n",
    "        \n",
    "            preds_list.extend(preds.argmax(dim=1).detach().cpu().numpy())\n",
    "            targets_list.extend(targets.detach().cpu().numpy())\n",
    "\n",
    "            pbar.set_description(f\"Loss: {loss.item():.4f}\")\n",
    "\n",
    "            wandb.log({\n",
    "                \"valid_step\" : epoch * len(loader) + step,\n",
    "                \"valid_loss_step\" : loss.item()\n",
    "            })\n",
    "\n",
    "    valid_loss /= len(loader)\n",
    "    valid_acc = accuracy_score(targets_list, preds_list)\n",
    "    valid_f1 = f1_score(targets_list, preds_list, average = 'macro')\n",
    "\n",
    "    ret = {\n",
    "        \"epoch\" : epoch,\n",
    "        \"valid_loss\" : valid_loss,\n",
    "        \"valid_acc\" : valid_acc,\n",
    "        \"valid_f1\" : valid_f1\n",
    "    }\n",
    "\n",
    "    wandb.log({\n",
    "        \"valid_epoch\" : epoch,\n",
    "        \"val_loss_epoch\" : valid_loss,\n",
    "        \"val_acc\" : valid_acc,\n",
    "        \"val_f1\" : valid_f1\n",
    "    })\n",
    "\n",
    "    return ret"
   ]
  },
  {
   "cell_type": "code",
   "execution_count": 9,
   "metadata": {},
   "outputs": [],
   "source": [
    "# one epoch 학습\n",
    "def train_one_epoch(train_loader, model, optimizer, loss_fn, device, epoch):\n",
    "    model.train()\n",
    "    train_loss = 0\n",
    "    preds_list =[]\n",
    "    targets_list = []\n",
    "\n",
    "    pbar = tqdm(train_loader)\n",
    "    for step, (image, targets) in enumerate(pbar):\n",
    "        image = image.to(device)\n",
    "        targets = targets.to(device)\n",
    "\n",
    "        model.zero_grad(set_to_none = True)\n",
    "\n",
    "        preds = model(image)\n",
    "        loss = loss_fn(preds, targets)\n",
    "        loss.backward()\n",
    "        optimizer.step()\n",
    "\n",
    "        train_loss += loss.item()\n",
    "        \n",
    "        preds_list.extend(preds.argmax(dim=1).detach().cpu().numpy())\n",
    "        targets_list.extend(targets.detach().cpu().numpy())\n",
    "\n",
    "        pbar.set_description(f\"Loss: {loss.item():.4f}\")\n",
    "\n",
    "        wandb.log({\n",
    "            \"train_step\" : epoch * len(train_loader) + step,\n",
    "            \"train_loss_step\" : loss.item()\n",
    "        })\n",
    "        \n",
    "    train_loss /= len(train_loader)\n",
    "    train_acc = accuracy_score(targets_list, preds_list)\n",
    "    train_f1 = f1_score(targets_list, preds_list, average = 'macro')\n",
    "\n",
    "    ret = {\n",
    "        \"model\" : model,\n",
    "        \"train_epoch\" : epoch,\n",
    "        \"train_loss\" : train_loss,\n",
    "        \"tarin_acc\" : train_acc,\n",
    "        \"train_f1\" : train_f1\n",
    "    }\n",
    "\n",
    "    wandb.log({\n",
    "        \"train_epoch\" : epoch,\n",
    "        \"train_loss_epoch\" : train_loss,\n",
    "        \"train_acc\" : train_acc,\n",
    "        \"train_f1\" : train_f1\n",
    "    })\n",
    "\n",
    "    return ret"
   ]
  },
  {
   "cell_type": "code",
   "execution_count": 10,
   "metadata": {},
   "outputs": [
    {
     "name": "stdout",
     "output_type": "stream",
     "text": [
      "0 epoch\n"
     ]
    },
    {
     "name": "stderr",
     "output_type": "stream",
     "text": [
      "Loss: 0.1218: 100%|██████████| 1178/1178 [07:48<00:00,  2.51it/s]\n",
      "Loss: 0.2612: 100%|██████████| 10/10 [00:01<00:00,  6.21it/s]\n"
     ]
    },
    {
     "name": "stdout",
     "output_type": "stream",
     "text": [
      "valid loss : 0.4637957789003849\n",
      "valid f1 : 0.8728892570729305\n",
      "성능 개선 됨 : 0.4637957789003849 > 0.999\n",
      "1 epoch\n"
     ]
    },
    {
     "name": "stderr",
     "output_type": "stream",
     "text": [
      "Loss: 0.0172: 100%|██████████| 1178/1178 [07:56<00:00,  2.47it/s]\n",
      "Loss: 0.2418: 100%|██████████| 10/10 [00:01<00:00,  6.16it/s]\n"
     ]
    },
    {
     "name": "stdout",
     "output_type": "stream",
     "text": [
      "valid loss : 0.5758982695639133\n",
      "valid f1 : 0.88214331353974\n",
      "성능 개선 안됨 : 0.5758982695639133 > 0.4627957789003849\n",
      "patience counter : 1\n",
      "2 epoch\n"
     ]
    },
    {
     "name": "stderr",
     "output_type": "stream",
     "text": [
      "Loss: 0.0087: 100%|██████████| 1178/1178 [07:39<00:00,  2.57it/s]\n",
      "Loss: 0.3094: 100%|██████████| 10/10 [00:01<00:00,  6.66it/s]\n"
     ]
    },
    {
     "name": "stdout",
     "output_type": "stream",
     "text": [
      "valid loss : 0.4918346792459488\n",
      "valid f1 : 0.8880051081326837\n",
      "성능 개선 안됨 : 0.4918346792459488 > 0.4627957789003849\n",
      "patience counter : 2\n",
      "3 epoch\n"
     ]
    },
    {
     "name": "stderr",
     "output_type": "stream",
     "text": [
      "Loss: 0.2238: 100%|██████████| 1178/1178 [07:38<00:00,  2.57it/s]\n",
      "Loss: 0.9478: 100%|██████████| 10/10 [00:01<00:00,  6.61it/s]\n"
     ]
    },
    {
     "name": "stdout",
     "output_type": "stream",
     "text": [
      "valid loss : 0.7749637499451637\n",
      "valid f1 : 0.8433233425083331\n",
      "성능 개선 안됨 : 0.7749637499451637 > 0.4627957789003849\n",
      "patience counter : 3\n",
      "4 epoch\n"
     ]
    },
    {
     "name": "stderr",
     "output_type": "stream",
     "text": [
      "Loss: 0.0001: 100%|██████████| 1178/1178 [07:38<00:00,  2.57it/s]\n",
      "Loss: 1.2129: 100%|██████████| 10/10 [00:01<00:00,  6.65it/s]\n"
     ]
    },
    {
     "name": "stdout",
     "output_type": "stream",
     "text": [
      "valid loss : 0.5139913640916347\n",
      "valid f1 : 0.8925830457294944\n",
      "성능 개선 안됨 : 0.5139913640916347 > 0.4627957789003849\n",
      "patience counter : 4\n",
      "5 epoch\n"
     ]
    },
    {
     "name": "stderr",
     "output_type": "stream",
     "text": [
      "Loss: 0.0069: 100%|██████████| 1178/1178 [07:38<00:00,  2.57it/s]\n",
      "Loss: 0.2967: 100%|██████████| 10/10 [00:01<00:00,  6.63it/s]\n"
     ]
    },
    {
     "name": "stdout",
     "output_type": "stream",
     "text": [
      "valid loss : 0.6273767679929734\n",
      "valid f1 : 0.8858702837200321\n",
      "성능 개선 안됨 : 0.6273767679929734 > 0.4627957789003849\n",
      "patience counter : 5\n",
      "Early stopping at epoch 5\n"
     ]
    }
   ],
   "source": [
    "os.environ['WANDB_SILENT'] = 'true'\n",
    "\n",
    "f1_scores = []\n",
    "valid_losses = []\n",
    "trained_models = []\n",
    "patience_counter = 0\n",
    "best_loss = 1\n",
    "\n",
    "\n",
    "wandb.init(project=WANDB_PROJECT_NAME, name=\"effi_b0\")\n",
    "\n",
    "for epoch in range(EPOCHS):\n",
    "    print(f\"{epoch} epoch\")\n",
    "    trn_ret = train_one_epoch(trn_loader, model, optimizer, loss_fn, device, epoch)\n",
    "    val_ret =  valid_one_epoch(val_loader, model, loss_fn, device, epoch)\n",
    "\n",
    "    f1_scores.append(val_ret['valid_f1'])\n",
    "    valid_losses.append(val_ret['valid_loss'])\n",
    "    trained_models.append(trn_ret['model'])\n",
    "\n",
    "    print(f\"valid loss : {val_ret['valid_loss']}\")\n",
    "    print(f\"valid f1 : {val_ret['valid_f1']}\")\n",
    "\n",
    "    # 성능 개선 됨\n",
    "    if val_ret['valid_loss'] < best_loss - min_delta:\n",
    "        print(f\"성능 개선 됨 : {val_ret['valid_loss']} > {best_loss - min_delta}\")\n",
    "        best_loss = val_ret['valid_loss']\n",
    "        patience_counter = 0  \n",
    "        \n",
    "    # 성능 개선 되지 않음\n",
    "    else:\n",
    "        patience_counter += 1  \n",
    "        print(f\"성능 개선 안됨 : {val_ret['valid_loss']} > {best_loss - min_delta}\")\n",
    "        print(f\"patience counter : {patience_counter}\")\n",
    "\n",
    "    # 성능 개선이 patience 만큼 안되면 학습 중단\n",
    "    if patience_counter >= patience:\n",
    "        print(f\"Early stopping at epoch {epoch}\")\n",
    "        break\n",
    "\n",
    "best_model_idx = np.argmax(np.array(f1_scores))\n",
    "best_model = trained_models[best_model_idx]\n",
    "\n",
    "wandb.finish()"
   ]
  },
  {
   "cell_type": "markdown",
   "metadata": {},
   "source": [
    "# TEST"
   ]
  },
  {
   "cell_type": "code",
   "execution_count": 11,
   "metadata": {},
   "outputs": [
    {
     "name": "stderr",
     "output_type": "stream",
     "text": [
      "100%|██████████| 99/99 [00:15<00:00,  6.45it/s]\n"
     ]
    }
   ],
   "source": [
    "preds_list = []\n",
    "\n",
    "best_model.eval()\n",
    "\n",
    "for image, _ in tqdm(tst_loader):\n",
    "    image = image.to(device)\n",
    "\n",
    "    with torch.no_grad():\n",
    "        preds = best_model(image)\n",
    "        \n",
    "    preds_list.extend(preds.argmax(dim=1).detach().cpu().numpy())\n",
    "\n",
    "pred_df = pd.DataFrame(tst_dataset.df, columns=['ID', 'target'])\n",
    "pred_df['target'] = preds_list\n",
    "pred_df.to_csv(f\"{RESULT_CSV_PATH}/effi_b4.csv\", index=False)"
   ]
  },
  {
   "cell_type": "code",
   "execution_count": 12,
   "metadata": {},
   "outputs": [],
   "source": [
    "torch.save(best_model.state_dict(), '/upstage-cv-classification-cv2/results/effi_b4.pth')"
   ]
  },
  {
   "cell_type": "code",
   "execution_count": null,
   "metadata": {},
   "outputs": [],
   "source": []
  }
 ],
 "metadata": {
  "kernelspec": {
   "display_name": "base",
   "language": "python",
   "name": "python3"
  },
  "language_info": {
   "codemirror_mode": {
    "name": "ipython",
    "version": 3
   },
   "file_extension": ".py",
   "mimetype": "text/x-python",
   "name": "python",
   "nbconvert_exporter": "python",
   "pygments_lexer": "ipython3",
   "version": "3.10.14"
  }
 },
 "nbformat": 4,
 "nbformat_minor": 2
}
