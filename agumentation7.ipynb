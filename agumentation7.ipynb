{
 "cells": [
  {
   "cell_type": "code",
   "execution_count": 20,
   "metadata": {},
   "outputs": [],
   "source": [
    "import os\n",
    "\n",
    "import pandas as pd\n",
    "import numpy as np\n",
    "\n",
    "import albumentations as A\n",
    "from PIL import Image\n",
    "\n",
    "from tqdm import tqdm"
   ]
  },
  {
   "cell_type": "code",
   "execution_count": 21,
   "metadata": {},
   "outputs": [],
   "source": [
    "PRE_PATH = '/upstage-cv-classification-cv2/data/'\n",
    "\n",
    "TRAIN_IMAGE_PATH = PRE_PATH + 'test'\n",
    "TRAIN_CSV_PATH = PRE_PATH + 'train_semi.csv'\n",
    "TRAIN_DF = pd.read_csv(TRAIN_CSV_PATH)\n",
    "TRAIN_AUG_IMAGE_PATH = PRE_PATH + 'train_semi_aug'\n",
    "TRAIN_AUG_CSV_PATH = PRE_PATH + 'train_semi_aug.csv'\n",
    "\n",
    "VALID_IMAGE_PATH = PRE_PATH + 'valid'\n",
    "VALID_CSV_PATH = PRE_PATH + 'valid.csv'\n",
    "VALID_DF = pd.read_csv(VALID_CSV_PATH)\n"
   ]
  },
  {
   "cell_type": "code",
   "execution_count": 22,
   "metadata": {},
   "outputs": [],
   "source": [
    "noise_value_min = 0\n",
    "noise_value_max = 500\n",
    "hf_rotate_000_noise_000_500 = A.Compose([A.HorizontalFlip(p=1), A.GaussNoise(var_limit=(noise_value_min, noise_value_max), mean=0, p=1)])\n",
    "hf_rotate_030_noise_000_500 = A.Compose([A.HorizontalFlip(p=1), A.Rotate(limit=(30, 30), p=1), A.GaussNoise(var_limit=(noise_value_min, noise_value_max), mean=0, p=1)])\n",
    "hf_rotate_060_noise_000_500 = A.Compose([A.HorizontalFlip(p=1), A.Rotate(limit=(60, 60), p=1), A.GaussNoise(var_limit=(noise_value_min, noise_value_max), mean=0, p=1)])\n",
    "hf_rotate_090_noise_000_500 = A.Compose([A.HorizontalFlip(p=1), A.Rotate(limit=(90, 90), p=1), A.GaussNoise(var_limit=(noise_value_min, noise_value_max), mean=0, p=1)])\n",
    "hf_rotate_120_noise_000_500 = A.Compose([A.HorizontalFlip(p=1), A.Rotate(limit=(120, 120), p=1), A.GaussNoise(var_limit=(noise_value_min, noise_value_max), mean=0, p=1)])\n",
    "hf_rotate_150_noise_000_500 = A.Compose([A.HorizontalFlip(p=1), A.Rotate(limit=(150, 150), p=1), A.GaussNoise(var_limit=(noise_value_min, noise_value_max), mean=0, p=1)])\n",
    "hf_rotate_180_noise_000_500 = A.Compose([A.HorizontalFlip(p=1), A.Rotate(limit=(180, 180), p=1), A.GaussNoise(var_limit=(noise_value_min, noise_value_max), mean=0, p=1)])\n",
    "hf_rotate_210_noise_000_500 = A.Compose([A.HorizontalFlip(p=1), A.Rotate(limit=(210, 210), p=1), A.GaussNoise(var_limit=(noise_value_min, noise_value_max), mean=0, p=1)])\n",
    "hf_rotate_240_noise_000_500 = A.Compose([A.HorizontalFlip(p=1), A.Rotate(limit=(240, 240), p=1), A.GaussNoise(var_limit=(noise_value_min, noise_value_max), mean=0, p=1)])\n",
    "hf_rotate_270_noise_000_500 = A.Compose([A.HorizontalFlip(p=1), A.Rotate(limit=(270, 270), p=1), A.GaussNoise(var_limit=(noise_value_min, noise_value_max), mean=0, p=1)])\n",
    "hf_rotate_300_noise_000_500 = A.Compose([A.HorizontalFlip(p=1), A.Rotate(limit=(300, 300), p=1), A.GaussNoise(var_limit=(noise_value_min, noise_value_max), mean=0, p=1)])\n",
    "hf_rotate_330_noise_000_500 = A.Compose([A.HorizontalFlip(p=1), A.Rotate(limit=(330, 330), p=1), A.GaussNoise(var_limit=(noise_value_min, noise_value_max), mean=0, p=1)])\n",
    "\n",
    "# 회전 변환\n",
    "rotate_000 = A.Compose([])\n",
    "rotate_030 = A.Compose([A.Rotate(limit=(30, 30), p=1)])\n",
    "rotate_060 = A.Compose([A.Rotate(limit=(60, 60), p=1)])\n",
    "rotate_090 = A.Compose([A.Rotate(limit=(90, 90), p=1)])\n",
    "rotate_120 = A.Compose([A.Rotate(limit=(120, 120), p=1)])\n",
    "rotate_150 = A.Compose([A.Rotate(limit=(150, 150), p=1)])\n",
    "rotate_180 = A.Compose([A.Rotate(limit=(180, 180), p=1)])\n",
    "rotate_210 = A.Compose([A.Rotate(limit=(210, 210), p=1)])\n",
    "rotate_240 = A.Compose([A.Rotate(limit=(240, 240), p=1)])\n",
    "rotate_270 = A.Compose([A.Rotate(limit=(270, 270), p=1)])\n",
    "rotate_300 = A.Compose([A.Rotate(limit=(300, 300), p=1)])\n",
    "rotate_330 = A.Compose([A.Rotate(limit=(330, 330), p=1)])\n",
    "\n",
    "# 여러 이미지 변환을 정의한 리스트입니다. 각 변환은 튜플로 되어 있으며, 튜플의 첫 번째 요소는 변환의 접두사(prefix)이고, 두 번째 요소는 변환 객체입니다.\n",
    "base_aug_types = [\n",
    "    (f\"hf_r000_n0500~0500_\", hf_rotate_000_noise_000_500),\n",
    "    (f\"hf_r030_n0500~0500_\", hf_rotate_030_noise_000_500),\n",
    "    (f\"hf_r060_n0500~0500_\", hf_rotate_060_noise_000_500),\n",
    "    (f\"hf_r090_n0500~0500_\", hf_rotate_090_noise_000_500),\n",
    "    (f\"hf_r120_n0500~0500_\", hf_rotate_120_noise_000_500),\n",
    "    (f\"hf_r150_n0500~0500_\", hf_rotate_150_noise_000_500),\n",
    "    (f\"hf_r180_n0500~0500_\", hf_rotate_180_noise_000_500),\n",
    "    (f\"hf_r210_n0500~0500_\", hf_rotate_210_noise_000_500),\n",
    "    (f\"hf_r240_n0500~0500_\", hf_rotate_240_noise_000_500),\n",
    "    (f\"hf_r270_n0500~0500_\", hf_rotate_270_noise_000_500),\n",
    "    (f\"hf_r300_n0500~0500_\", hf_rotate_300_noise_000_500),\n",
    "    (f\"hf_r330_n0500~0500_\", hf_rotate_330_noise_000_500),\n",
    "    (\"r000_\", rotate_000),\n",
    "    (f\"r030_\", rotate_030),\n",
    "    (f\"r060_\", rotate_060),\n",
    "    (f\"r090_\", rotate_090),\n",
    "    (f\"r120_\", rotate_120),\n",
    "    (f\"r150_\", rotate_150),\n",
    "    (f\"r180_\", rotate_180),\n",
    "    (f\"r210_\", rotate_210),\n",
    "    (f\"r240_\", rotate_240),\n",
    "    (f\"r270_\", rotate_270),\n",
    "    (f\"r300_\", rotate_300),\n",
    "    (f\"r330_\", rotate_330),\n",
    "]"
   ]
  },
  {
   "cell_type": "code",
   "execution_count": 23,
   "metadata": {},
   "outputs": [
    {
     "name": "stderr",
     "output_type": "stream",
     "text": [
      "Image augmentation: 100%|██████████| 2714/2714 [13:00<00:00,  3.48it/s]\n"
     ]
    }
   ],
   "source": [
    "# 빈 리스트를 초기화합니다. 변환된 이미지의 ID와 타겟 정보를 저장할 것입니다.\n",
    "ids = []\n",
    "targets = []\n",
    " \n",
    "# `train_kr_df` DataFrame의 각 행에 대해 반복합니다.\n",
    "# `itertuples()`는 DataFrame을 튜플 형태로 반복할 수 있게 해줍니다.\n",
    "for index, ID, target in tqdm(TRAIN_DF.itertuples(), total=TRAIN_DF.shape[0], desc='Image augmentation'):\n",
    "    image_path = os.path.join(TRAIN_IMAGE_PATH, ID)\n",
    "    image = np.array(Image.open(image_path))\n",
    "    \n",
    "    # `base_aug_types`에 정의된 각 변환에 대해 반복합니다.\n",
    "    for prefix, aug_function in base_aug_types:\n",
    "        # 변환 함수를 사용하여 이미지를 변환합니다.\n",
    "        transformed_image = aug_function(image=image)['image']\n",
    "        new_ID = prefix + ID\n",
    "        ids.append(new_ID)\n",
    "        targets.append(target)\n",
    "        Image.fromarray(transformed_image).save(os.path.join(TRAIN_AUG_IMAGE_PATH, new_ID))\n",
    "\n",
    "\n",
    "# 변환된 이미지의 ID와 타겟 정보를 담은 DataFrame을 생성합니다.\n",
    "aug_data = {\n",
    "    'ID': ids,\n",
    "    'target': targets\n",
    "}\n",
    "aug_data = pd.DataFrame(aug_data)\n",
    "aug_data.to_csv(TRAIN_AUG_CSV_PATH, index=False)"
   ]
  },
  {
   "cell_type": "code",
   "execution_count": null,
   "metadata": {},
   "outputs": [],
   "source": []
  }
 ],
 "metadata": {
  "kernelspec": {
   "display_name": "myvenv",
   "language": "python",
   "name": "python3"
  },
  "language_info": {
   "codemirror_mode": {
    "name": "ipython",
    "version": 3
   },
   "file_extension": ".py",
   "mimetype": "text/x-python",
   "name": "python",
   "nbconvert_exporter": "python",
   "pygments_lexer": "ipython3",
   "version": "3.10.14"
  }
 },
 "nbformat": 4,
 "nbformat_minor": 2
}
