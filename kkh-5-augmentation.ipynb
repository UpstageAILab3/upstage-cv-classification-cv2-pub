{
 "cells": [
  {
   "cell_type": "code",
   "execution_count": 12,
   "metadata": {},
   "outputs": [],
   "source": [
    "import pandas as pd \n",
    "import numpy as np \n",
    "\n",
    "import os \n",
    "from glob import glob \n",
    "\n",
    "from PIL import Image\n",
    "import albumentations as A\n",
    "from albumentations import ImageOnlyTransform\n",
    "from augraphy import *\n",
    "\n",
    "from tqdm import tqdm"
   ]
  },
  {
   "cell_type": "code",
   "execution_count": 13,
   "metadata": {},
   "outputs": [],
   "source": [
    "# 잘못된 label 업데이트\n",
    "train_df = pd.read_csv(\"data/train.csv\")\n",
    "train_df.loc[428, 'target'] = 7\n",
    "train_df.loc[1095, 'target'] = 14\n",
    "train_df.loc[862, 'target'] = 3\n",
    "train_df.loc[192, 'target'] = 7\n",
    "train_df.loc[1237, 'target'] = 14\n",
    "train_df.loc[38, 'target'] = 10\n",
    "train_df.loc[340, 'target'] = 10\n",
    "\n",
    "train_df.to_csv(\"data/train.csv\", index=False)"
   ]
  },
  {
   "cell_type": "code",
   "execution_count": 14,
   "metadata": {},
   "outputs": [],
   "source": [
    "df = pd.read_csv('data/train.csv')\n",
    "data_path = 'data/train/'"
   ]
  },
  {
   "cell_type": "code",
   "execution_count": 15,
   "metadata": {},
   "outputs": [],
   "source": [
    "# 605 통원확인서\n",
    "# 187 진료확인서\n",
    "# 225 입-퇴원 확인서\n",
    "# 1359 통원확인서\n",
    "# 738 통원확인서\n",
    "# rows_to_append =df.loc[[605, 187, 225, 1359, 738]]\n",
    "# df = pd.concat([df, rows_to_append], ignore_index=True)\n",
    "\n",
    "# df.shape"
   ]
  },
  {
   "cell_type": "code",
   "execution_count": 16,
   "metadata": {},
   "outputs": [],
   "source": [
    "\n",
    "horizontal_flip = A.Compose([\n",
    "    A.HorizontalFlip(p=1),\n",
    "])\n",
    "\n",
    "vertical_flip = A.Compose([\n",
    "    A.VerticalFlip(p=1),\n",
    "])\n",
    "\n",
    "double_flip = A.Compose([\n",
    "    A.HorizontalFlip(p=1),\n",
    "    A.VerticalFlip(p=1),\n",
    "])\n",
    "\n",
    "transpose = A.Compose([\n",
    "    A.Transpose(p=1)\n",
    "])\n",
    "\n",
    "transpose_hflip = A.Compose([\n",
    "    A.Transpose(p=1), \n",
    "    A.HorizontalFlip(p=1),\n",
    "])\n",
    "\n",
    "transpose_vflip = A.Compose([\n",
    "    A.Transpose(p=1),\n",
    "    A.VerticalFlip(p=1),\n",
    "])\n",
    "\n",
    "transpose_dflip = A.Compose([\n",
    "    A.Transpose(p=1),  \n",
    "    A.HorizontalFlip(p=1),\n",
    "    A.VerticalFlip(p=1),\n",
    "])\n",
    "\n",
    "pattern = PatternGenerator(\n",
    "            imgx = 120,\n",
    "            imgy = 120,\n",
    "            n_rotation_range = (10, 15),\n",
    "            alpha_range = (0.1, 0.2),\n",
    "            color = (130, 130, 130),\n",
    "        )\n",
    "\n",
    "class PatternGeneratorTransform(ImageOnlyTransform):\n",
    "    def __init__(self, pattern_generator, always_apply=False, p=1.0):\n",
    "        super().__init__(always_apply, p)\n",
    "        self.pattern_generator = pattern_generator\n",
    "\n",
    "    def apply(self, img, **params):\n",
    "        return self.pattern_generator(img)\n",
    "\n",
    "noise_rotate = A.Compose([\n",
    "    # A.GaussNoise(var_limit=(100, 1000), per_channel=False, p=1),\n",
    "    # A.Blur(blur_limit=(2, 4), p=0.5),\n",
    "    # A.ToGray(p=0.2),\n",
    "    # A.ShiftScaleRotate(shift_limit=0.2, scale_limit=0, rotate_limit=30, p=0.4, border_mode=0, value=(255, 255, 255)),\n",
    "\n",
    "    A.OneOf([A.GaussNoise(var_limit=(100, 900), per_channel=False, p=1), PatternGeneratorTransform(pattern, p=1)], p=0.8), \n",
    "    A.OneOf([A.MotionBlur(p=0.2), A.MedianBlur(blur_limit=3, p=0.2), A.Blur(blur_limit=(2, 4), p=1),], p=0.5),\n",
    "    A.RandomBrightnessContrast(p=0.2),\n",
    "    A.HueSaturationValue(p=0.2),    \n",
    "    A.ToGray(p=0.3),\n",
    "    A.ShiftScaleRotate(shift_limit=0.2, scale_limit=0, rotate_limit=30, p=0.5, border_mode=0, value=[255, 255, 255]),\n",
    "])"
   ]
  },
  {
   "cell_type": "code",
   "execution_count": 17,
   "metadata": {},
   "outputs": [],
   "source": [
    "base_aug_types = [\n",
    "    (\"hf_\", horizontal_flip),\n",
    "    (\"vf_\", vertical_flip),\n",
    "    (\"df_\", double_flip),\n",
    "    (\"t_\", transpose),\n",
    "    (\"thf_\", transpose_hflip),\n",
    "    (\"tvf_\", transpose_vflip),\n",
    "    (\"tdf_\", transpose_dflip)\n",
    "]"
   ]
  },
  {
   "cell_type": "code",
   "execution_count": 18,
   "metadata": {},
   "outputs": [
    {
     "name": "stderr",
     "output_type": "stream",
     "text": [
      "Image augmentation:   1%|          | 12/1570 [00:00<00:28, 54.00it/s]"
     ]
    },
    {
     "name": "stderr",
     "output_type": "stream",
     "text": [
      "Image augmentation: 100%|██████████| 1570/1570 [00:22<00:00, 71.00it/s]\n"
     ]
    }
   ],
   "source": [
    "ids = []\n",
    "targets = []\n",
    "for index, ID, target in tqdm(df.itertuples(), total=df.shape[0], desc='Image augmentation'):\n",
    "    image_path = os.path.join(data_path, ID)\n",
    "    image = np.array(Image.open(image_path))\n",
    "    \n",
    "    for prefix, aug_function in base_aug_types:\n",
    "        transformed_image = aug_function(image=image)['image']\n",
    "        new_ID = prefix + ID\n",
    "        ids.append(new_ID)\n",
    "        targets.append(target)\n",
    "        Image.fromarray(transformed_image).save(os.path.join(data_path, new_ID))\n",
    "        \n",
    "aug_data = {\n",
    "    'ID' : ids,\n",
    "    'target' : targets\n",
    "}\n",
    "aug_data = pd.DataFrame(aug_data)    \n",
    "df = pd.concat([df, aug_data])"
   ]
  },
  {
   "cell_type": "code",
   "execution_count": 19,
   "metadata": {},
   "outputs": [
    {
     "name": "stderr",
     "output_type": "stream",
     "text": [
      "Image augmentation: 100%|██████████| 12560/12560 [36:21<00:00,  5.76it/s]\n"
     ]
    }
   ],
   "source": [
    "ids = []\n",
    "targets = []\n",
    "for index, ID, target in tqdm(df.itertuples(), total=df.shape[0], desc='Image augmentation'):\n",
    "    image_path = os.path.join(data_path, ID)\n",
    "    image = np.array(Image.open(image_path))\n",
    "\n",
    "    for i in range(7):\n",
    "        transformed_image = noise_rotate(image=image)['image']\n",
    "        image_ID = f'nr{i}_' + ID \n",
    "        ids.append(image_ID)\n",
    "        targets.append(target)\n",
    "        Image.fromarray(transformed_image).save(os.path.join(data_path, image_ID))\n",
    "    \n",
    "aug_data = {\n",
    "    'ID' : ids,\n",
    "    'target' : targets\n",
    "}\n",
    "aug_data = pd.DataFrame(aug_data)    \n",
    "df = pd.concat([df, aug_data])"
   ]
  },
  {
   "cell_type": "code",
   "execution_count": 20,
   "metadata": {},
   "outputs": [],
   "source": [
    "df.to_csv('data/aug_train.csv', index=False)"
   ]
  },
  {
   "cell_type": "code",
   "execution_count": 21,
   "metadata": {},
   "outputs": [
    {
     "data": {
      "text/plain": [
       "(100480, 2)"
      ]
     },
     "execution_count": 21,
     "metadata": {},
     "output_type": "execute_result"
    },
    {
     "ename": "",
     "evalue": "",
     "output_type": "error",
     "traceback": [
      "\u001b[1;31m현재 셀 또는 이전 셀에서 코드를 실행하는 동안 Kernel이 충돌했습니다. \n",
      "\u001b[1;31m셀의 코드를 검토하여 가능한 오류 원인을 식별하세요. \n",
      "\u001b[1;31m자세한 내용을 보려면 <a href='https://aka.ms/vscodeJupyterKernelCrash'>여기</a>를 클릭하세요. \n",
      "\u001b[1;31m자세한 내용은 Jupyter <a href='command:jupyter.viewOutput'>로그</a>를 참조하세요."
     ]
    }
   ],
   "source": [
    "df.shape"
   ]
  }
 ],
 "metadata": {
  "kernelspec": {
   "display_name": "base",
   "language": "python",
   "name": "python3"
  },
  "language_info": {
   "codemirror_mode": {
    "name": "ipython",
    "version": 3
   },
   "file_extension": ".py",
   "mimetype": "text/x-python",
   "name": "python",
   "nbconvert_exporter": "python",
   "pygments_lexer": "ipython3",
   "version": "3.10.13"
  }
 },
 "nbformat": 4,
 "nbformat_minor": 2
}
